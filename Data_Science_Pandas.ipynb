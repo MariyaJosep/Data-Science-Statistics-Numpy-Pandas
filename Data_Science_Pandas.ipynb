{
  "cells": [
    {
      "cell_type": "markdown",
      "metadata": {
        "id": "view-in-github",
        "colab_type": "text"
      },
      "source": [
        "<a href=\"https://colab.research.google.com/github/MariyaJosep/Data-Science-Statistics-Numpy-Pandas/blob/main/Data_Science_Pandas.ipynb\" target=\"_parent\"><img src=\"https://colab.research.google.com/assets/colab-badge.svg\" alt=\"Open In Colab\"/></a>"
      ]
    },
    {
      "cell_type": "code",
      "execution_count": null,
      "id": "700eac5c",
      "metadata": {
        "id": "700eac5c"
      },
      "outputs": [],
      "source": [
        "import pandas as pd"
      ]
    },
    {
      "cell_type": "code",
      "execution_count": null,
      "id": "1e8ae334",
      "metadata": {
        "id": "1e8ae334"
      },
      "outputs": [],
      "source": [
        "#creating dictionay\n",
        "emp_dict = {\n",
        "    'eno':[100, 200, 300, 400, 500],\n",
        "    'ename':['kumar', 'abcd', 'xyz', 'rahul', 'ram'],\n",
        "    'salary':[24000, 20000, 15000, 30000, 20000],\n",
        "    'did':[1,1,2,3,3]\n",
        "    \n",
        "}"
      ]
    },
    {
      "cell_type": "code",
      "execution_count": null,
      "id": "4749fae0",
      "metadata": {
        "id": "4749fae0",
        "outputId": "d873bb56-baea-4603-c783-1b12503a8921"
      },
      "outputs": [
        {
          "data": {
            "text/plain": [
              "{'eno': [100, 200, 300, 400, 500],\n",
              " 'ename': ['kumar', 'abcd', 'xyz', 'rahul', 'ram'],\n",
              " 'salary': [24000, 20000, 15000, 30000, 20000],\n",
              " 'did': [1, 1, 2, 3, 3]}"
            ]
          },
          "execution_count": 3,
          "metadata": {},
          "output_type": "execute_result"
        }
      ],
      "source": [
        "emp_dict"
      ]
    },
    {
      "cell_type": "code",
      "execution_count": null,
      "id": "26e2d0a1",
      "metadata": {
        "id": "26e2d0a1"
      },
      "outputs": [],
      "source": [
        "#creating dataframe(table)\n",
        "emp_df = pd.DataFrame(emp_dict)"
      ]
    },
    {
      "cell_type": "code",
      "execution_count": null,
      "id": "f663e4e3",
      "metadata": {
        "id": "f663e4e3",
        "outputId": "9667b31c-4b86-407d-9331-1ec84047fac6"
      },
      "outputs": [
        {
          "data": {
            "text/html": [
              "<div>\n",
              "<style scoped>\n",
              "    .dataframe tbody tr th:only-of-type {\n",
              "        vertical-align: middle;\n",
              "    }\n",
              "\n",
              "    .dataframe tbody tr th {\n",
              "        vertical-align: top;\n",
              "    }\n",
              "\n",
              "    .dataframe thead th {\n",
              "        text-align: right;\n",
              "    }\n",
              "</style>\n",
              "<table border=\"1\" class=\"dataframe\">\n",
              "  <thead>\n",
              "    <tr style=\"text-align: right;\">\n",
              "      <th></th>\n",
              "      <th>eno</th>\n",
              "      <th>ename</th>\n",
              "      <th>salary</th>\n",
              "      <th>did</th>\n",
              "    </tr>\n",
              "  </thead>\n",
              "  <tbody>\n",
              "    <tr>\n",
              "      <th>0</th>\n",
              "      <td>100</td>\n",
              "      <td>kumar</td>\n",
              "      <td>24000</td>\n",
              "      <td>1</td>\n",
              "    </tr>\n",
              "    <tr>\n",
              "      <th>1</th>\n",
              "      <td>200</td>\n",
              "      <td>abcd</td>\n",
              "      <td>20000</td>\n",
              "      <td>1</td>\n",
              "    </tr>\n",
              "    <tr>\n",
              "      <th>2</th>\n",
              "      <td>300</td>\n",
              "      <td>xyz</td>\n",
              "      <td>15000</td>\n",
              "      <td>2</td>\n",
              "    </tr>\n",
              "    <tr>\n",
              "      <th>3</th>\n",
              "      <td>400</td>\n",
              "      <td>rahul</td>\n",
              "      <td>30000</td>\n",
              "      <td>3</td>\n",
              "    </tr>\n",
              "    <tr>\n",
              "      <th>4</th>\n",
              "      <td>500</td>\n",
              "      <td>ram</td>\n",
              "      <td>20000</td>\n",
              "      <td>3</td>\n",
              "    </tr>\n",
              "  </tbody>\n",
              "</table>\n",
              "</div>"
            ],
            "text/plain": [
              "   eno  ename  salary  did\n",
              "0  100  kumar   24000    1\n",
              "1  200   abcd   20000    1\n",
              "2  300    xyz   15000    2\n",
              "3  400  rahul   30000    3\n",
              "4  500    ram   20000    3"
            ]
          },
          "execution_count": 5,
          "metadata": {},
          "output_type": "execute_result"
        }
      ],
      "source": [
        "emp_df"
      ]
    },
    {
      "cell_type": "code",
      "execution_count": null,
      "id": "88d60cdf",
      "metadata": {
        "id": "88d60cdf",
        "outputId": "ed873ebc-6547-413c-ef52-347edbaff907"
      },
      "outputs": [
        {
          "name": "stdout",
          "output_type": "stream",
          "text": [
            "   eno  ename  salary  did\n",
            "0  100  kumar   24000    1\n",
            "1  200   abcd   20000    1\n",
            "2  300    xyz   15000    2\n",
            "3  400  rahul   30000    3\n",
            "4  500    ram   20000    3\n"
          ]
        }
      ],
      "source": [
        "print(emp_df)"
      ]
    },
    {
      "cell_type": "code",
      "execution_count": null,
      "id": "332fc7d8",
      "metadata": {
        "id": "332fc7d8",
        "outputId": "4d3571ce-7b17-45a8-fcf8-60fa3e7aaeea"
      },
      "outputs": [
        {
          "data": {
            "text/plain": [
              "(5, 4)"
            ]
          },
          "execution_count": 8,
          "metadata": {},
          "output_type": "execute_result"
        }
      ],
      "source": [
        "#finding no of rows and columns\n",
        "emp_df.shape"
      ]
    },
    {
      "cell_type": "code",
      "execution_count": null,
      "id": "009a2afe",
      "metadata": {
        "id": "009a2afe",
        "outputId": "f897adca-bca6-43e2-97b7-57ce1e32dee7"
      },
      "outputs": [
        {
          "data": {
            "text/plain": [
              "20"
            ]
          },
          "execution_count": 9,
          "metadata": {},
          "output_type": "execute_result"
        }
      ],
      "source": [
        "#finding total elements\n",
        "emp_df.size"
      ]
    },
    {
      "cell_type": "code",
      "execution_count": null,
      "id": "8a00c211",
      "metadata": {
        "id": "8a00c211",
        "outputId": "4b9163ff-c483-474c-cf4c-b0680f5e16b4"
      },
      "outputs": [
        {
          "data": {
            "text/plain": [
              "Index(['eno', 'ename', 'salary', 'did'], dtype='object')"
            ]
          },
          "execution_count": 10,
          "metadata": {},
          "output_type": "execute_result"
        }
      ],
      "source": [
        "#finding column names\n",
        "emp_df.columns"
      ]
    },
    {
      "cell_type": "code",
      "execution_count": null,
      "id": "77c7ac44",
      "metadata": {
        "id": "77c7ac44",
        "outputId": "8ffdd6e2-0916-421e-9c8e-142dafe78fad"
      },
      "outputs": [
        {
          "data": {
            "text/plain": [
              "RangeIndex(start=0, stop=5, step=1)"
            ]
          },
          "execution_count": 11,
          "metadata": {},
          "output_type": "execute_result"
        }
      ],
      "source": [
        "#finding index labels\n",
        "emp_df.index"
      ]
    },
    {
      "cell_type": "code",
      "execution_count": null,
      "id": "6edd58c5",
      "metadata": {
        "id": "6edd58c5",
        "outputId": "9265b956-299b-4d0a-966b-e927bf1cec05"
      },
      "outputs": [
        {
          "data": {
            "text/plain": [
              "eno        int64\n",
              "ename     object\n",
              "salary     int64\n",
              "did        int64\n",
              "dtype: object"
            ]
          },
          "execution_count": 12,
          "metadata": {},
          "output_type": "execute_result"
        }
      ],
      "source": [
        "#finiding data type of each column\n",
        "emp_df.dtypes"
      ]
    },
    {
      "cell_type": "code",
      "execution_count": null,
      "id": "f8975f73",
      "metadata": {
        "id": "f8975f73",
        "outputId": "5c2b7bc0-ba81-4632-ab67-396c83046848"
      },
      "outputs": [
        {
          "data": {
            "text/plain": [
              "array([[100, 'kumar', 24000, 1],\n",
              "       [200, 'abcd', 20000, 1],\n",
              "       [300, 'xyz', 15000, 2],\n",
              "       [400, 'rahul', 30000, 3],\n",
              "       [500, 'ram', 20000, 3]], dtype=object)"
            ]
          },
          "execution_count": 13,
          "metadata": {},
          "output_type": "execute_result"
        }
      ],
      "source": [
        "#extract data as numpy array (2D-array)\n",
        "emp_df.values"
      ]
    },
    {
      "cell_type": "code",
      "execution_count": null,
      "id": "940d7565",
      "metadata": {
        "id": "940d7565",
        "outputId": "539e8d86-7850-4f50-c1d6-eeaff077602e"
      },
      "outputs": [
        {
          "data": {
            "text/plain": [
              "0    100\n",
              "1    200\n",
              "2    300\n",
              "3    400\n",
              "4    500\n",
              "Name: eno, dtype: int64"
            ]
          },
          "execution_count": 14,
          "metadata": {},
          "output_type": "execute_result"
        }
      ],
      "source": [
        "#extracting only eno column values as series\n",
        "emp_df['eno']"
      ]
    },
    {
      "cell_type": "code",
      "execution_count": null,
      "id": "0d64be71",
      "metadata": {
        "id": "0d64be71",
        "outputId": "1db66557-bf7a-4659-92e2-9b09fb15ac76"
      },
      "outputs": [
        {
          "data": {
            "text/plain": [
              "array([100, 200, 300, 400, 500], dtype=int64)"
            ]
          },
          "execution_count": 15,
          "metadata": {},
          "output_type": "execute_result"
        }
      ],
      "source": [
        "#extracting only eno column values as values(array)\n",
        "emp_df['eno'].values"
      ]
    },
    {
      "cell_type": "code",
      "execution_count": null,
      "id": "442338f1",
      "metadata": {
        "id": "442338f1",
        "outputId": "83431d05-ad00-4ec8-c926-20ee036ab2ca"
      },
      "outputs": [
        {
          "data": {
            "text/plain": [
              "0    kumar\n",
              "1     abcd\n",
              "2      xyz\n",
              "3    rahul\n",
              "4      ram\n",
              "Name: ename, dtype: object"
            ]
          },
          "execution_count": 16,
          "metadata": {},
          "output_type": "execute_result"
        }
      ],
      "source": [
        "#extracting only ename column values\n",
        "emp_df['ename']"
      ]
    },
    {
      "cell_type": "code",
      "execution_count": null,
      "id": "97a4ff23",
      "metadata": {
        "id": "97a4ff23",
        "outputId": "f7892ed4-94be-4797-a572-6b49ac96b588"
      },
      "outputs": [
        {
          "data": {
            "text/html": [
              "<div>\n",
              "<style scoped>\n",
              "    .dataframe tbody tr th:only-of-type {\n",
              "        vertical-align: middle;\n",
              "    }\n",
              "\n",
              "    .dataframe tbody tr th {\n",
              "        vertical-align: top;\n",
              "    }\n",
              "\n",
              "    .dataframe thead th {\n",
              "        text-align: right;\n",
              "    }\n",
              "</style>\n",
              "<table border=\"1\" class=\"dataframe\">\n",
              "  <thead>\n",
              "    <tr style=\"text-align: right;\">\n",
              "      <th></th>\n",
              "      <th>eno</th>\n",
              "      <th>ename</th>\n",
              "    </tr>\n",
              "  </thead>\n",
              "  <tbody>\n",
              "    <tr>\n",
              "      <th>0</th>\n",
              "      <td>100</td>\n",
              "      <td>kumar</td>\n",
              "    </tr>\n",
              "    <tr>\n",
              "      <th>1</th>\n",
              "      <td>200</td>\n",
              "      <td>abcd</td>\n",
              "    </tr>\n",
              "    <tr>\n",
              "      <th>2</th>\n",
              "      <td>300</td>\n",
              "      <td>xyz</td>\n",
              "    </tr>\n",
              "    <tr>\n",
              "      <th>3</th>\n",
              "      <td>400</td>\n",
              "      <td>rahul</td>\n",
              "    </tr>\n",
              "    <tr>\n",
              "      <th>4</th>\n",
              "      <td>500</td>\n",
              "      <td>ram</td>\n",
              "    </tr>\n",
              "  </tbody>\n",
              "</table>\n",
              "</div>"
            ],
            "text/plain": [
              "   eno  ename\n",
              "0  100  kumar\n",
              "1  200   abcd\n",
              "2  300    xyz\n",
              "3  400  rahul\n",
              "4  500    ram"
            ]
          },
          "execution_count": 17,
          "metadata": {},
          "output_type": "execute_result"
        }
      ],
      "source": [
        "#extracting eno & ename\n",
        "column_names = ['eno', 'ename']\n",
        "emp_df[column_names]"
      ]
    },
    {
      "cell_type": "code",
      "execution_count": null,
      "id": "eeba9027",
      "metadata": {
        "id": "eeba9027",
        "outputId": "68fb5455-01bb-4432-ec39-802d4f947513"
      },
      "outputs": [
        {
          "data": {
            "text/html": [
              "<div>\n",
              "<style scoped>\n",
              "    .dataframe tbody tr th:only-of-type {\n",
              "        vertical-align: middle;\n",
              "    }\n",
              "\n",
              "    .dataframe tbody tr th {\n",
              "        vertical-align: top;\n",
              "    }\n",
              "\n",
              "    .dataframe thead th {\n",
              "        text-align: right;\n",
              "    }\n",
              "</style>\n",
              "<table border=\"1\" class=\"dataframe\">\n",
              "  <thead>\n",
              "    <tr style=\"text-align: right;\">\n",
              "      <th></th>\n",
              "      <th>ename</th>\n",
              "      <th>salary</th>\n",
              "    </tr>\n",
              "  </thead>\n",
              "  <tbody>\n",
              "    <tr>\n",
              "      <th>0</th>\n",
              "      <td>kumar</td>\n",
              "      <td>24000</td>\n",
              "    </tr>\n",
              "    <tr>\n",
              "      <th>1</th>\n",
              "      <td>abcd</td>\n",
              "      <td>20000</td>\n",
              "    </tr>\n",
              "    <tr>\n",
              "      <th>2</th>\n",
              "      <td>xyz</td>\n",
              "      <td>15000</td>\n",
              "    </tr>\n",
              "    <tr>\n",
              "      <th>3</th>\n",
              "      <td>rahul</td>\n",
              "      <td>30000</td>\n",
              "    </tr>\n",
              "    <tr>\n",
              "      <th>4</th>\n",
              "      <td>ram</td>\n",
              "      <td>20000</td>\n",
              "    </tr>\n",
              "  </tbody>\n",
              "</table>\n",
              "</div>"
            ],
            "text/plain": [
              "   ename  salary\n",
              "0  kumar   24000\n",
              "1   abcd   20000\n",
              "2    xyz   15000\n",
              "3  rahul   30000\n",
              "4    ram   20000"
            ]
          },
          "execution_count": 18,
          "metadata": {},
          "output_type": "execute_result"
        }
      ],
      "source": [
        "#extracting ename & salary\n",
        "column_names = ['ename','salary']\n",
        "emp_df[column_names]"
      ]
    },
    {
      "cell_type": "code",
      "execution_count": null,
      "id": "534c9f22",
      "metadata": {
        "id": "534c9f22",
        "outputId": "70b7db97-2a7c-40cd-c61b-18b08100e04d"
      },
      "outputs": [
        {
          "data": {
            "text/html": [
              "<div>\n",
              "<style scoped>\n",
              "    .dataframe tbody tr th:only-of-type {\n",
              "        vertical-align: middle;\n",
              "    }\n",
              "\n",
              "    .dataframe tbody tr th {\n",
              "        vertical-align: top;\n",
              "    }\n",
              "\n",
              "    .dataframe thead th {\n",
              "        text-align: right;\n",
              "    }\n",
              "</style>\n",
              "<table border=\"1\" class=\"dataframe\">\n",
              "  <thead>\n",
              "    <tr style=\"text-align: right;\">\n",
              "      <th></th>\n",
              "      <th>salary</th>\n",
              "      <th>ename</th>\n",
              "    </tr>\n",
              "  </thead>\n",
              "  <tbody>\n",
              "    <tr>\n",
              "      <th>0</th>\n",
              "      <td>24000</td>\n",
              "      <td>kumar</td>\n",
              "    </tr>\n",
              "    <tr>\n",
              "      <th>1</th>\n",
              "      <td>20000</td>\n",
              "      <td>abcd</td>\n",
              "    </tr>\n",
              "    <tr>\n",
              "      <th>2</th>\n",
              "      <td>15000</td>\n",
              "      <td>xyz</td>\n",
              "    </tr>\n",
              "    <tr>\n",
              "      <th>3</th>\n",
              "      <td>30000</td>\n",
              "      <td>rahul</td>\n",
              "    </tr>\n",
              "    <tr>\n",
              "      <th>4</th>\n",
              "      <td>20000</td>\n",
              "      <td>ram</td>\n",
              "    </tr>\n",
              "  </tbody>\n",
              "</table>\n",
              "</div>"
            ],
            "text/plain": [
              "   salary  ename\n",
              "0   24000  kumar\n",
              "1   20000   abcd\n",
              "2   15000    xyz\n",
              "3   30000  rahul\n",
              "4   20000    ram"
            ]
          },
          "execution_count": 20,
          "metadata": {},
          "output_type": "execute_result"
        }
      ],
      "source": [
        "#extracting salary & name\n",
        "column_names = ['salary', 'ename']\n",
        "emp_df[column_names]"
      ]
    },
    {
      "cell_type": "code",
      "execution_count": null,
      "id": "3ea63450",
      "metadata": {
        "id": "3ea63450",
        "outputId": "fbeeeb4c-081d-4c72-9124-b3b34125909c"
      },
      "outputs": [
        {
          "data": {
            "text/html": [
              "<div>\n",
              "<style scoped>\n",
              "    .dataframe tbody tr th:only-of-type {\n",
              "        vertical-align: middle;\n",
              "    }\n",
              "\n",
              "    .dataframe tbody tr th {\n",
              "        vertical-align: top;\n",
              "    }\n",
              "\n",
              "    .dataframe thead th {\n",
              "        text-align: right;\n",
              "    }\n",
              "</style>\n",
              "<table border=\"1\" class=\"dataframe\">\n",
              "  <thead>\n",
              "    <tr style=\"text-align: right;\">\n",
              "      <th></th>\n",
              "      <th>eno</th>\n",
              "      <th>ename</th>\n",
              "      <th>salary</th>\n",
              "      <th>did</th>\n",
              "    </tr>\n",
              "  </thead>\n",
              "  <tbody>\n",
              "    <tr>\n",
              "      <th>0</th>\n",
              "      <td>100</td>\n",
              "      <td>kumar</td>\n",
              "      <td>24000</td>\n",
              "      <td>1</td>\n",
              "    </tr>\n",
              "    <tr>\n",
              "      <th>1</th>\n",
              "      <td>200</td>\n",
              "      <td>abcd</td>\n",
              "      <td>20000</td>\n",
              "      <td>1</td>\n",
              "    </tr>\n",
              "    <tr>\n",
              "      <th>2</th>\n",
              "      <td>300</td>\n",
              "      <td>xyz</td>\n",
              "      <td>15000</td>\n",
              "      <td>2</td>\n",
              "    </tr>\n",
              "    <tr>\n",
              "      <th>3</th>\n",
              "      <td>400</td>\n",
              "      <td>rahul</td>\n",
              "      <td>30000</td>\n",
              "      <td>3</td>\n",
              "    </tr>\n",
              "    <tr>\n",
              "      <th>4</th>\n",
              "      <td>500</td>\n",
              "      <td>ram</td>\n",
              "      <td>20000</td>\n",
              "      <td>3</td>\n",
              "    </tr>\n",
              "  </tbody>\n",
              "</table>\n",
              "</div>"
            ],
            "text/plain": [
              "   eno  ename  salary  did\n",
              "0  100  kumar   24000    1\n",
              "1  200   abcd   20000    1\n",
              "2  300    xyz   15000    2\n",
              "3  400  rahul   30000    3\n",
              "4  500    ram   20000    3"
            ]
          },
          "execution_count": 21,
          "metadata": {},
          "output_type": "execute_result"
        }
      ],
      "source": [
        "emp_df"
      ]
    },
    {
      "cell_type": "code",
      "execution_count": null,
      "id": "dbf01e70",
      "metadata": {
        "id": "dbf01e70",
        "outputId": "f8d25848-8a0e-42a3-94e3-b35ec15e68e5"
      },
      "outputs": [
        {
          "ename": "SyntaxError",
          "evalue": "invalid syntax (1016379917.py, line 2)",
          "output_type": "error",
          "traceback": [
            "\u001b[1;36m  File \u001b[1;32m\"C:\\Users\\HP\\AppData\\Local\\Temp\\ipykernel_94100\\1016379917.py\"\u001b[1;36m, line \u001b[1;32m2\u001b[0m\n\u001b[1;33m    column_names = ['ename':'did']\u001b[0m\n\u001b[1;37m                           ^\u001b[0m\n\u001b[1;31mSyntaxError\u001b[0m\u001b[1;31m:\u001b[0m invalid syntax\n"
          ]
        }
      ],
      "source": [
        "#extracting all columns between 'ename' and 'did'\n",
        "column_names = ['ename':'did']\n",
        "emp_df[column_names]"
      ]
    },
    {
      "cell_type": "code",
      "execution_count": null,
      "id": "ecbd4aeb",
      "metadata": {
        "id": "ecbd4aeb",
        "outputId": "30ebe972-b8bc-429a-f1b2-e98afa148c8f"
      },
      "outputs": [
        {
          "data": {
            "text/plain": [
              "eno         100\n",
              "ename     kumar\n",
              "salary    24000\n",
              "did           1\n",
              "Name: 0, dtype: object"
            ]
          },
          "execution_count": 23,
          "metadata": {},
          "output_type": "execute_result"
        }
      ],
      "source": [
        "#extracing 1st row using loc property\n",
        "emp_df.loc[0,]"
      ]
    },
    {
      "cell_type": "code",
      "execution_count": null,
      "id": "b7df4468",
      "metadata": {
        "id": "b7df4468",
        "outputId": "b81d8934-ad52-43bb-8c37-50c4234a137a"
      },
      "outputs": [
        {
          "data": {
            "text/plain": [
              "eno         200\n",
              "ename      abcd\n",
              "salary    20000\n",
              "did           1\n",
              "Name: 1, dtype: object"
            ]
          },
          "execution_count": 24,
          "metadata": {},
          "output_type": "execute_result"
        }
      ],
      "source": [
        "#extracing 2nd row using loc property\n",
        "emp_df.loc[1,]"
      ]
    },
    {
      "cell_type": "code",
      "execution_count": null,
      "id": "c44ba357",
      "metadata": {
        "id": "c44ba357",
        "outputId": "10d3fa2e-6976-4aba-ed7b-b4deb7a00150"
      },
      "outputs": [
        {
          "data": {
            "text/html": [
              "<div>\n",
              "<style scoped>\n",
              "    .dataframe tbody tr th:only-of-type {\n",
              "        vertical-align: middle;\n",
              "    }\n",
              "\n",
              "    .dataframe tbody tr th {\n",
              "        vertical-align: top;\n",
              "    }\n",
              "\n",
              "    .dataframe thead th {\n",
              "        text-align: right;\n",
              "    }\n",
              "</style>\n",
              "<table border=\"1\" class=\"dataframe\">\n",
              "  <thead>\n",
              "    <tr style=\"text-align: right;\">\n",
              "      <th></th>\n",
              "      <th>eno</th>\n",
              "      <th>ename</th>\n",
              "      <th>salary</th>\n",
              "      <th>did</th>\n",
              "    </tr>\n",
              "  </thead>\n",
              "  <tbody>\n",
              "    <tr>\n",
              "      <th>1</th>\n",
              "      <td>200</td>\n",
              "      <td>abcd</td>\n",
              "      <td>20000</td>\n",
              "      <td>1</td>\n",
              "    </tr>\n",
              "    <tr>\n",
              "      <th>3</th>\n",
              "      <td>400</td>\n",
              "      <td>rahul</td>\n",
              "      <td>30000</td>\n",
              "      <td>3</td>\n",
              "    </tr>\n",
              "  </tbody>\n",
              "</table>\n",
              "</div>"
            ],
            "text/plain": [
              "   eno  ename  salary  did\n",
              "1  200   abcd   20000    1\n",
              "3  400  rahul   30000    3"
            ]
          },
          "execution_count": 27,
          "metadata": {},
          "output_type": "execute_result"
        }
      ],
      "source": [
        "#extracing 2nd and 4th row using loc property\n",
        "emp_df.loc[[1,3],]"
      ]
    },
    {
      "cell_type": "code",
      "execution_count": null,
      "id": "58b49656",
      "metadata": {
        "id": "58b49656",
        "outputId": "6538f10b-4972-4408-a33e-8ae1089c8018"
      },
      "outputs": [
        {
          "data": {
            "text/plain": [
              "1    200\n",
              "3    400\n",
              "Name: eno, dtype: int64"
            ]
          },
          "execution_count": 28,
          "metadata": {},
          "output_type": "execute_result"
        }
      ],
      "source": [
        "#extracing 2nd and 4th row eno values\n",
        "emp_df.loc[[1,3],'eno']"
      ]
    },
    {
      "cell_type": "code",
      "execution_count": null,
      "id": "3543819d",
      "metadata": {
        "id": "3543819d",
        "outputId": "e19e76e1-26c8-4f7e-aef5-93866094c9d7"
      },
      "outputs": [
        {
          "data": {
            "text/html": [
              "<div>\n",
              "<style scoped>\n",
              "    .dataframe tbody tr th:only-of-type {\n",
              "        vertical-align: middle;\n",
              "    }\n",
              "\n",
              "    .dataframe tbody tr th {\n",
              "        vertical-align: top;\n",
              "    }\n",
              "\n",
              "    .dataframe thead th {\n",
              "        text-align: right;\n",
              "    }\n",
              "</style>\n",
              "<table border=\"1\" class=\"dataframe\">\n",
              "  <thead>\n",
              "    <tr style=\"text-align: right;\">\n",
              "      <th></th>\n",
              "      <th>eno</th>\n",
              "      <th>salary</th>\n",
              "    </tr>\n",
              "  </thead>\n",
              "  <tbody>\n",
              "    <tr>\n",
              "      <th>1</th>\n",
              "      <td>200</td>\n",
              "      <td>20000</td>\n",
              "    </tr>\n",
              "    <tr>\n",
              "      <th>3</th>\n",
              "      <td>400</td>\n",
              "      <td>30000</td>\n",
              "    </tr>\n",
              "  </tbody>\n",
              "</table>\n",
              "</div>"
            ],
            "text/plain": [
              "   eno  salary\n",
              "1  200   20000\n",
              "3  400   30000"
            ]
          },
          "execution_count": 29,
          "metadata": {},
          "output_type": "execute_result"
        }
      ],
      "source": [
        "#extracing 2nd and 4th row eno and salary values\n",
        "emp_df.loc[[1,3],['eno', 'salary']]"
      ]
    },
    {
      "cell_type": "code",
      "execution_count": null,
      "id": "63cee2f3",
      "metadata": {
        "id": "63cee2f3",
        "outputId": "a974a36f-7788-449e-b816-a7d3866ccbd3"
      },
      "outputs": [
        {
          "data": {
            "text/html": [
              "<div>\n",
              "<style scoped>\n",
              "    .dataframe tbody tr th:only-of-type {\n",
              "        vertical-align: middle;\n",
              "    }\n",
              "\n",
              "    .dataframe tbody tr th {\n",
              "        vertical-align: top;\n",
              "    }\n",
              "\n",
              "    .dataframe thead th {\n",
              "        text-align: right;\n",
              "    }\n",
              "</style>\n",
              "<table border=\"1\" class=\"dataframe\">\n",
              "  <thead>\n",
              "    <tr style=\"text-align: right;\">\n",
              "      <th></th>\n",
              "      <th>eno</th>\n",
              "      <th>salary</th>\n",
              "    </tr>\n",
              "  </thead>\n",
              "  <tbody>\n",
              "    <tr>\n",
              "      <th>1</th>\n",
              "      <td>200</td>\n",
              "      <td>20000</td>\n",
              "    </tr>\n",
              "    <tr>\n",
              "      <th>2</th>\n",
              "      <td>300</td>\n",
              "      <td>15000</td>\n",
              "    </tr>\n",
              "    <tr>\n",
              "      <th>3</th>\n",
              "      <td>400</td>\n",
              "      <td>30000</td>\n",
              "    </tr>\n",
              "  </tbody>\n",
              "</table>\n",
              "</div>"
            ],
            "text/plain": [
              "   eno  salary\n",
              "1  200   20000\n",
              "2  300   15000\n",
              "3  400   30000"
            ]
          },
          "execution_count": 35,
          "metadata": {},
          "output_type": "execute_result"
        }
      ],
      "source": [
        "#extracing rows between 1 & 3 rows\n",
        "emp_df.loc[1:3,['eno', 'salary']]"
      ]
    },
    {
      "cell_type": "code",
      "execution_count": null,
      "id": "f552e3bf",
      "metadata": {
        "id": "f552e3bf",
        "outputId": "e247d538-a1eb-4adf-fa3b-afca7182a6e3"
      },
      "outputs": [
        {
          "data": {
            "text/html": [
              "<div>\n",
              "<style scoped>\n",
              "    .dataframe tbody tr th:only-of-type {\n",
              "        vertical-align: middle;\n",
              "    }\n",
              "\n",
              "    .dataframe tbody tr th {\n",
              "        vertical-align: top;\n",
              "    }\n",
              "\n",
              "    .dataframe thead th {\n",
              "        text-align: right;\n",
              "    }\n",
              "</style>\n",
              "<table border=\"1\" class=\"dataframe\">\n",
              "  <thead>\n",
              "    <tr style=\"text-align: right;\">\n",
              "      <th></th>\n",
              "      <th>eno</th>\n",
              "      <th>ename</th>\n",
              "      <th>salary</th>\n",
              "      <th>did</th>\n",
              "    </tr>\n",
              "  </thead>\n",
              "  <tbody>\n",
              "    <tr>\n",
              "      <th>1</th>\n",
              "      <td>200</td>\n",
              "      <td>abcd</td>\n",
              "      <td>20000</td>\n",
              "      <td>1</td>\n",
              "    </tr>\n",
              "    <tr>\n",
              "      <th>2</th>\n",
              "      <td>300</td>\n",
              "      <td>xyz</td>\n",
              "      <td>15000</td>\n",
              "      <td>2</td>\n",
              "    </tr>\n",
              "    <tr>\n",
              "      <th>3</th>\n",
              "      <td>400</td>\n",
              "      <td>rahul</td>\n",
              "      <td>30000</td>\n",
              "      <td>3</td>\n",
              "    </tr>\n",
              "  </tbody>\n",
              "</table>\n",
              "</div>"
            ],
            "text/plain": [
              "   eno  ename  salary  did\n",
              "1  200   abcd   20000    1\n",
              "2  300    xyz   15000    2\n",
              "3  400  rahul   30000    3"
            ]
          },
          "execution_count": 36,
          "metadata": {},
          "output_type": "execute_result"
        }
      ],
      "source": [
        "#extracing rows between 1 & 3 rows\n",
        "emp_df.loc[1:3,]"
      ]
    },
    {
      "cell_type": "code",
      "execution_count": null,
      "id": "8bd7a159",
      "metadata": {
        "id": "8bd7a159",
        "outputId": "617b6bd5-30ad-42e6-d11a-b1bdc45b072e"
      },
      "outputs": [
        {
          "data": {
            "text/html": [
              "<div>\n",
              "<style scoped>\n",
              "    .dataframe tbody tr th:only-of-type {\n",
              "        vertical-align: middle;\n",
              "    }\n",
              "\n",
              "    .dataframe tbody tr th {\n",
              "        vertical-align: top;\n",
              "    }\n",
              "\n",
              "    .dataframe thead th {\n",
              "        text-align: right;\n",
              "    }\n",
              "</style>\n",
              "<table border=\"1\" class=\"dataframe\">\n",
              "  <thead>\n",
              "    <tr style=\"text-align: right;\">\n",
              "      <th></th>\n",
              "      <th>ename</th>\n",
              "      <th>salary</th>\n",
              "      <th>did</th>\n",
              "    </tr>\n",
              "  </thead>\n",
              "  <tbody>\n",
              "    <tr>\n",
              "      <th>1</th>\n",
              "      <td>abcd</td>\n",
              "      <td>20000</td>\n",
              "      <td>1</td>\n",
              "    </tr>\n",
              "    <tr>\n",
              "      <th>2</th>\n",
              "      <td>xyz</td>\n",
              "      <td>15000</td>\n",
              "      <td>2</td>\n",
              "    </tr>\n",
              "    <tr>\n",
              "      <th>3</th>\n",
              "      <td>rahul</td>\n",
              "      <td>30000</td>\n",
              "      <td>3</td>\n",
              "    </tr>\n",
              "  </tbody>\n",
              "</table>\n",
              "</div>"
            ],
            "text/plain": [
              "   ename  salary  did\n",
              "1   abcd   20000    1\n",
              "2    xyz   15000    2\n",
              "3  rahul   30000    3"
            ]
          },
          "execution_count": 37,
          "metadata": {},
          "output_type": "execute_result"
        }
      ],
      "source": [
        "#extracing rows between 1 & 3 rows and columns between ename & did\n",
        "emp_df.loc[1:3,'ename':'did']"
      ]
    },
    {
      "cell_type": "code",
      "execution_count": null,
      "id": "37ebad8f",
      "metadata": {
        "id": "37ebad8f",
        "outputId": "99422460-2d69-4b0b-f137-509b0fae773a"
      },
      "outputs": [
        {
          "data": {
            "text/plain": [
              "100"
            ]
          },
          "execution_count": 38,
          "metadata": {},
          "output_type": "execute_result"
        }
      ],
      "source": [
        "#extracting 1st row and 1st column value using iloc\n",
        "emp_df.iloc[0,0]"
      ]
    },
    {
      "cell_type": "code",
      "execution_count": null,
      "id": "e0745b3e",
      "metadata": {
        "id": "e0745b3e",
        "outputId": "57aae328-08b4-48a9-8715-1d61d54d69c3"
      },
      "outputs": [
        {
          "data": {
            "text/plain": [
              "eno         100\n",
              "ename     kumar\n",
              "salary    24000\n",
              "did           1\n",
              "Name: 0, dtype: object"
            ]
          },
          "execution_count": 39,
          "metadata": {},
          "output_type": "execute_result"
        }
      ],
      "source": [
        "#extracting 1st row values using iloc\n",
        "emp_df.iloc[0,]"
      ]
    },
    {
      "cell_type": "code",
      "execution_count": null,
      "id": "89fe7dbd",
      "metadata": {
        "id": "89fe7dbd",
        "outputId": "7cc1f5d8-be29-48ad-9f0e-a99b8152925b"
      },
      "outputs": [
        {
          "data": {
            "text/plain": [
              "eno         400\n",
              "ename     rahul\n",
              "salary    30000\n",
              "did           3\n",
              "Name: 3, dtype: object"
            ]
          },
          "execution_count": 40,
          "metadata": {},
          "output_type": "execute_result"
        }
      ],
      "source": [
        "#extracting 1st row values using iloc\n",
        "emp_df.iloc[3,]"
      ]
    },
    {
      "cell_type": "code",
      "execution_count": null,
      "id": "a2ea1ebf",
      "metadata": {
        "id": "a2ea1ebf",
        "outputId": "dd9d1064-7edf-4b7f-bb96-417279e0b409"
      },
      "outputs": [
        {
          "data": {
            "text/html": [
              "<div>\n",
              "<style scoped>\n",
              "    .dataframe tbody tr th:only-of-type {\n",
              "        vertical-align: middle;\n",
              "    }\n",
              "\n",
              "    .dataframe tbody tr th {\n",
              "        vertical-align: top;\n",
              "    }\n",
              "\n",
              "    .dataframe thead th {\n",
              "        text-align: right;\n",
              "    }\n",
              "</style>\n",
              "<table border=\"1\" class=\"dataframe\">\n",
              "  <thead>\n",
              "    <tr style=\"text-align: right;\">\n",
              "      <th></th>\n",
              "      <th>eno</th>\n",
              "      <th>ename</th>\n",
              "      <th>salary</th>\n",
              "      <th>did</th>\n",
              "    </tr>\n",
              "  </thead>\n",
              "  <tbody>\n",
              "    <tr>\n",
              "      <th>0</th>\n",
              "      <td>100</td>\n",
              "      <td>kumar</td>\n",
              "      <td>24000</td>\n",
              "      <td>1</td>\n",
              "    </tr>\n",
              "    <tr>\n",
              "      <th>4</th>\n",
              "      <td>500</td>\n",
              "      <td>ram</td>\n",
              "      <td>20000</td>\n",
              "      <td>3</td>\n",
              "    </tr>\n",
              "  </tbody>\n",
              "</table>\n",
              "</div>"
            ],
            "text/plain": [
              "   eno  ename  salary  did\n",
              "0  100  kumar   24000    1\n",
              "4  500    ram   20000    3"
            ]
          },
          "execution_count": 41,
          "metadata": {},
          "output_type": "execute_result"
        }
      ],
      "source": [
        "#extracting 1st & 5th row values using iloc\n",
        "emp_df.iloc[[0,4],]"
      ]
    },
    {
      "cell_type": "code",
      "execution_count": null,
      "id": "d330f7cf",
      "metadata": {
        "id": "d330f7cf",
        "outputId": "9455f15d-0ca8-41c1-f579-9a024020db4a"
      },
      "outputs": [
        {
          "data": {
            "text/html": [
              "<div>\n",
              "<style scoped>\n",
              "    .dataframe tbody tr th:only-of-type {\n",
              "        vertical-align: middle;\n",
              "    }\n",
              "\n",
              "    .dataframe tbody tr th {\n",
              "        vertical-align: top;\n",
              "    }\n",
              "\n",
              "    .dataframe thead th {\n",
              "        text-align: right;\n",
              "    }\n",
              "</style>\n",
              "<table border=\"1\" class=\"dataframe\">\n",
              "  <thead>\n",
              "    <tr style=\"text-align: right;\">\n",
              "      <th></th>\n",
              "      <th>ename</th>\n",
              "      <th>salary</th>\n",
              "    </tr>\n",
              "  </thead>\n",
              "  <tbody>\n",
              "    <tr>\n",
              "      <th>0</th>\n",
              "      <td>kumar</td>\n",
              "      <td>24000</td>\n",
              "    </tr>\n",
              "    <tr>\n",
              "      <th>4</th>\n",
              "      <td>ram</td>\n",
              "      <td>20000</td>\n",
              "    </tr>\n",
              "  </tbody>\n",
              "</table>\n",
              "</div>"
            ],
            "text/plain": [
              "   ename  salary\n",
              "0  kumar   24000\n",
              "4    ram   20000"
            ]
          },
          "execution_count": 42,
          "metadata": {},
          "output_type": "execute_result"
        }
      ],
      "source": [
        "#extracting 1st & 5th row values and ename & salary information using iloc\n",
        "emp_df.iloc[[0,4],[1,2]]"
      ]
    },
    {
      "cell_type": "code",
      "execution_count": null,
      "id": "7e950a08",
      "metadata": {
        "id": "7e950a08",
        "outputId": "7e013888-4832-48bb-e5f7-0284ea0e0942"
      },
      "outputs": [
        {
          "data": {
            "text/html": [
              "<div>\n",
              "<style scoped>\n",
              "    .dataframe tbody tr th:only-of-type {\n",
              "        vertical-align: middle;\n",
              "    }\n",
              "\n",
              "    .dataframe tbody tr th {\n",
              "        vertical-align: top;\n",
              "    }\n",
              "\n",
              "    .dataframe thead th {\n",
              "        text-align: right;\n",
              "    }\n",
              "</style>\n",
              "<table border=\"1\" class=\"dataframe\">\n",
              "  <thead>\n",
              "    <tr style=\"text-align: right;\">\n",
              "      <th></th>\n",
              "      <th>ename</th>\n",
              "      <th>did</th>\n",
              "    </tr>\n",
              "  </thead>\n",
              "  <tbody>\n",
              "    <tr>\n",
              "      <th>0</th>\n",
              "      <td>kumar</td>\n",
              "      <td>1</td>\n",
              "    </tr>\n",
              "    <tr>\n",
              "      <th>4</th>\n",
              "      <td>ram</td>\n",
              "      <td>3</td>\n",
              "    </tr>\n",
              "  </tbody>\n",
              "</table>\n",
              "</div>"
            ],
            "text/plain": [
              "   ename  did\n",
              "0  kumar    1\n",
              "4    ram    3"
            ]
          },
          "execution_count": 43,
          "metadata": {},
          "output_type": "execute_result"
        }
      ],
      "source": [
        "#extracting 1st & 5th row values and ename & did information using iloc\n",
        "emp_df.iloc[[0,4],[1,3]]"
      ]
    },
    {
      "cell_type": "code",
      "execution_count": null,
      "id": "a04f1584",
      "metadata": {
        "id": "a04f1584",
        "outputId": "78d11134-f38d-4854-9005-8601159b78dd"
      },
      "outputs": [
        {
          "data": {
            "text/html": [
              "<div>\n",
              "<style scoped>\n",
              "    .dataframe tbody tr th:only-of-type {\n",
              "        vertical-align: middle;\n",
              "    }\n",
              "\n",
              "    .dataframe tbody tr th {\n",
              "        vertical-align: top;\n",
              "    }\n",
              "\n",
              "    .dataframe thead th {\n",
              "        text-align: right;\n",
              "    }\n",
              "</style>\n",
              "<table border=\"1\" class=\"dataframe\">\n",
              "  <thead>\n",
              "    <tr style=\"text-align: right;\">\n",
              "      <th></th>\n",
              "      <th>ename</th>\n",
              "      <th>did</th>\n",
              "    </tr>\n",
              "  </thead>\n",
              "  <tbody>\n",
              "    <tr>\n",
              "      <th>0</th>\n",
              "      <td>kumar</td>\n",
              "      <td>1</td>\n",
              "    </tr>\n",
              "    <tr>\n",
              "      <th>1</th>\n",
              "      <td>abcd</td>\n",
              "      <td>1</td>\n",
              "    </tr>\n",
              "    <tr>\n",
              "      <th>2</th>\n",
              "      <td>xyz</td>\n",
              "      <td>2</td>\n",
              "    </tr>\n",
              "    <tr>\n",
              "      <th>3</th>\n",
              "      <td>rahul</td>\n",
              "      <td>3</td>\n",
              "    </tr>\n",
              "  </tbody>\n",
              "</table>\n",
              "</div>"
            ],
            "text/plain": [
              "   ename  did\n",
              "0  kumar    1\n",
              "1   abcd    1\n",
              "2    xyz    2\n",
              "3  rahul    3"
            ]
          },
          "execution_count": 44,
          "metadata": {},
          "output_type": "execute_result"
        }
      ],
      "source": [
        "#extracting 1st to 4th row values and ename & did information using iloc\n",
        "emp_df.iloc[0:4,[1,3]]"
      ]
    },
    {
      "cell_type": "code",
      "execution_count": null,
      "id": "ed0a42a3",
      "metadata": {
        "id": "ed0a42a3",
        "outputId": "d7794e10-cd69-4ffe-becd-dc00c8b8b632"
      },
      "outputs": [
        {
          "data": {
            "text/html": [
              "<div>\n",
              "<style scoped>\n",
              "    .dataframe tbody tr th:only-of-type {\n",
              "        vertical-align: middle;\n",
              "    }\n",
              "\n",
              "    .dataframe tbody tr th {\n",
              "        vertical-align: top;\n",
              "    }\n",
              "\n",
              "    .dataframe thead th {\n",
              "        text-align: right;\n",
              "    }\n",
              "</style>\n",
              "<table border=\"1\" class=\"dataframe\">\n",
              "  <thead>\n",
              "    <tr style=\"text-align: right;\">\n",
              "      <th></th>\n",
              "      <th>ename</th>\n",
              "      <th>did</th>\n",
              "    </tr>\n",
              "  </thead>\n",
              "  <tbody>\n",
              "    <tr>\n",
              "      <th>1</th>\n",
              "      <td>abcd</td>\n",
              "      <td>1</td>\n",
              "    </tr>\n",
              "    <tr>\n",
              "      <th>2</th>\n",
              "      <td>xyz</td>\n",
              "      <td>2</td>\n",
              "    </tr>\n",
              "    <tr>\n",
              "      <th>3</th>\n",
              "      <td>rahul</td>\n",
              "      <td>3</td>\n",
              "    </tr>\n",
              "  </tbody>\n",
              "</table>\n",
              "</div>"
            ],
            "text/plain": [
              "   ename  did\n",
              "1   abcd    1\n",
              "2    xyz    2\n",
              "3  rahul    3"
            ]
          },
          "execution_count": 45,
          "metadata": {},
          "output_type": "execute_result"
        }
      ],
      "source": [
        "#extracting 2nd to 4th row values and ename & did information using iloc\n",
        "emp_df.iloc[1:4,[1,3]]"
      ]
    },
    {
      "cell_type": "code",
      "execution_count": null,
      "id": "f1372475",
      "metadata": {
        "id": "f1372475",
        "outputId": "47a2b60c-18df-47dc-d542-31aecc384e23"
      },
      "outputs": [
        {
          "data": {
            "text/html": [
              "<div>\n",
              "<style scoped>\n",
              "    .dataframe tbody tr th:only-of-type {\n",
              "        vertical-align: middle;\n",
              "    }\n",
              "\n",
              "    .dataframe tbody tr th {\n",
              "        vertical-align: top;\n",
              "    }\n",
              "\n",
              "    .dataframe thead th {\n",
              "        text-align: right;\n",
              "    }\n",
              "</style>\n",
              "<table border=\"1\" class=\"dataframe\">\n",
              "  <thead>\n",
              "    <tr style=\"text-align: right;\">\n",
              "      <th></th>\n",
              "      <th>eno</th>\n",
              "      <th>ename</th>\n",
              "      <th>salary</th>\n",
              "      <th>did</th>\n",
              "    </tr>\n",
              "  </thead>\n",
              "  <tbody>\n",
              "    <tr>\n",
              "      <th>0</th>\n",
              "      <td>100</td>\n",
              "      <td>kumar</td>\n",
              "      <td>24000</td>\n",
              "      <td>1</td>\n",
              "    </tr>\n",
              "    <tr>\n",
              "      <th>1</th>\n",
              "      <td>200</td>\n",
              "      <td>abcd</td>\n",
              "      <td>20000</td>\n",
              "      <td>1</td>\n",
              "    </tr>\n",
              "    <tr>\n",
              "      <th>2</th>\n",
              "      <td>300</td>\n",
              "      <td>xyz</td>\n",
              "      <td>15000</td>\n",
              "      <td>2</td>\n",
              "    </tr>\n",
              "    <tr>\n",
              "      <th>3</th>\n",
              "      <td>400</td>\n",
              "      <td>rahul</td>\n",
              "      <td>30000</td>\n",
              "      <td>3</td>\n",
              "    </tr>\n",
              "    <tr>\n",
              "      <th>4</th>\n",
              "      <td>500</td>\n",
              "      <td>ram</td>\n",
              "      <td>20000</td>\n",
              "      <td>3</td>\n",
              "    </tr>\n",
              "  </tbody>\n",
              "</table>\n",
              "</div>"
            ],
            "text/plain": [
              "   eno  ename  salary  did\n",
              "0  100  kumar   24000    1\n",
              "1  200   abcd   20000    1\n",
              "2  300    xyz   15000    2\n",
              "3  400  rahul   30000    3\n",
              "4  500    ram   20000    3"
            ]
          },
          "execution_count": 47,
          "metadata": {},
          "output_type": "execute_result"
        }
      ],
      "source": [
        "#extrating top 5 rows using head()\n",
        "emp_df.head()"
      ]
    },
    {
      "cell_type": "code",
      "execution_count": null,
      "id": "dce299e9",
      "metadata": {
        "id": "dce299e9",
        "outputId": "cf78bfc5-9158-4e72-96df-7e3b134037e0"
      },
      "outputs": [
        {
          "data": {
            "text/html": [
              "<div>\n",
              "<style scoped>\n",
              "    .dataframe tbody tr th:only-of-type {\n",
              "        vertical-align: middle;\n",
              "    }\n",
              "\n",
              "    .dataframe tbody tr th {\n",
              "        vertical-align: top;\n",
              "    }\n",
              "\n",
              "    .dataframe thead th {\n",
              "        text-align: right;\n",
              "    }\n",
              "</style>\n",
              "<table border=\"1\" class=\"dataframe\">\n",
              "  <thead>\n",
              "    <tr style=\"text-align: right;\">\n",
              "      <th></th>\n",
              "      <th>eno</th>\n",
              "      <th>ename</th>\n",
              "      <th>salary</th>\n",
              "      <th>did</th>\n",
              "    </tr>\n",
              "  </thead>\n",
              "  <tbody>\n",
              "    <tr>\n",
              "      <th>0</th>\n",
              "      <td>100</td>\n",
              "      <td>kumar</td>\n",
              "      <td>24000</td>\n",
              "      <td>1</td>\n",
              "    </tr>\n",
              "    <tr>\n",
              "      <th>1</th>\n",
              "      <td>200</td>\n",
              "      <td>abcd</td>\n",
              "      <td>20000</td>\n",
              "      <td>1</td>\n",
              "    </tr>\n",
              "  </tbody>\n",
              "</table>\n",
              "</div>"
            ],
            "text/plain": [
              "   eno  ename  salary  did\n",
              "0  100  kumar   24000    1\n",
              "1  200   abcd   20000    1"
            ]
          },
          "execution_count": 48,
          "metadata": {},
          "output_type": "execute_result"
        }
      ],
      "source": [
        "#extrating top 2 rows using head()\n",
        "emp_df.head(2)"
      ]
    },
    {
      "cell_type": "code",
      "execution_count": null,
      "id": "3b8eae42",
      "metadata": {
        "id": "3b8eae42",
        "outputId": "1c0600a6-c352-4865-982e-b24a952dcda3"
      },
      "outputs": [
        {
          "data": {
            "text/html": [
              "<div>\n",
              "<style scoped>\n",
              "    .dataframe tbody tr th:only-of-type {\n",
              "        vertical-align: middle;\n",
              "    }\n",
              "\n",
              "    .dataframe tbody tr th {\n",
              "        vertical-align: top;\n",
              "    }\n",
              "\n",
              "    .dataframe thead th {\n",
              "        text-align: right;\n",
              "    }\n",
              "</style>\n",
              "<table border=\"1\" class=\"dataframe\">\n",
              "  <thead>\n",
              "    <tr style=\"text-align: right;\">\n",
              "      <th></th>\n",
              "      <th>eno</th>\n",
              "      <th>ename</th>\n",
              "      <th>salary</th>\n",
              "      <th>did</th>\n",
              "    </tr>\n",
              "  </thead>\n",
              "  <tbody>\n",
              "    <tr>\n",
              "      <th>0</th>\n",
              "      <td>100</td>\n",
              "      <td>kumar</td>\n",
              "      <td>24000</td>\n",
              "      <td>1</td>\n",
              "    </tr>\n",
              "    <tr>\n",
              "      <th>1</th>\n",
              "      <td>200</td>\n",
              "      <td>abcd</td>\n",
              "      <td>20000</td>\n",
              "      <td>1</td>\n",
              "    </tr>\n",
              "    <tr>\n",
              "      <th>2</th>\n",
              "      <td>300</td>\n",
              "      <td>xyz</td>\n",
              "      <td>15000</td>\n",
              "      <td>2</td>\n",
              "    </tr>\n",
              "    <tr>\n",
              "      <th>3</th>\n",
              "      <td>400</td>\n",
              "      <td>rahul</td>\n",
              "      <td>30000</td>\n",
              "      <td>3</td>\n",
              "    </tr>\n",
              "    <tr>\n",
              "      <th>4</th>\n",
              "      <td>500</td>\n",
              "      <td>ram</td>\n",
              "      <td>20000</td>\n",
              "      <td>3</td>\n",
              "    </tr>\n",
              "  </tbody>\n",
              "</table>\n",
              "</div>"
            ],
            "text/plain": [
              "   eno  ename  salary  did\n",
              "0  100  kumar   24000    1\n",
              "1  200   abcd   20000    1\n",
              "2  300    xyz   15000    2\n",
              "3  400  rahul   30000    3\n",
              "4  500    ram   20000    3"
            ]
          },
          "execution_count": 49,
          "metadata": {},
          "output_type": "execute_result"
        }
      ],
      "source": [
        "#extrating bottom 5 rows using tail()\n",
        "emp_df.tail()"
      ]
    },
    {
      "cell_type": "code",
      "execution_count": null,
      "id": "e8222363",
      "metadata": {
        "id": "e8222363",
        "outputId": "f765f558-e4b1-4902-9580-9403b1677e00"
      },
      "outputs": [
        {
          "data": {
            "text/html": [
              "<div>\n",
              "<style scoped>\n",
              "    .dataframe tbody tr th:only-of-type {\n",
              "        vertical-align: middle;\n",
              "    }\n",
              "\n",
              "    .dataframe tbody tr th {\n",
              "        vertical-align: top;\n",
              "    }\n",
              "\n",
              "    .dataframe thead th {\n",
              "        text-align: right;\n",
              "    }\n",
              "</style>\n",
              "<table border=\"1\" class=\"dataframe\">\n",
              "  <thead>\n",
              "    <tr style=\"text-align: right;\">\n",
              "      <th></th>\n",
              "      <th>eno</th>\n",
              "      <th>ename</th>\n",
              "      <th>salary</th>\n",
              "      <th>did</th>\n",
              "    </tr>\n",
              "  </thead>\n",
              "  <tbody>\n",
              "    <tr>\n",
              "      <th>2</th>\n",
              "      <td>300</td>\n",
              "      <td>xyz</td>\n",
              "      <td>15000</td>\n",
              "      <td>2</td>\n",
              "    </tr>\n",
              "    <tr>\n",
              "      <th>3</th>\n",
              "      <td>400</td>\n",
              "      <td>rahul</td>\n",
              "      <td>30000</td>\n",
              "      <td>3</td>\n",
              "    </tr>\n",
              "    <tr>\n",
              "      <th>4</th>\n",
              "      <td>500</td>\n",
              "      <td>ram</td>\n",
              "      <td>20000</td>\n",
              "      <td>3</td>\n",
              "    </tr>\n",
              "  </tbody>\n",
              "</table>\n",
              "</div>"
            ],
            "text/plain": [
              "   eno  ename  salary  did\n",
              "2  300    xyz   15000    2\n",
              "3  400  rahul   30000    3\n",
              "4  500    ram   20000    3"
            ]
          },
          "execution_count": 50,
          "metadata": {},
          "output_type": "execute_result"
        }
      ],
      "source": [
        "#extrating bottom 3 rows using tail()\n",
        "emp_df.tail(3)"
      ]
    },
    {
      "cell_type": "code",
      "execution_count": null,
      "id": "92695b59",
      "metadata": {
        "id": "92695b59",
        "outputId": "d8ef915b-57f3-4997-a107-0298858cdfa5"
      },
      "outputs": [
        {
          "data": {
            "text/html": [
              "<div>\n",
              "<style scoped>\n",
              "    .dataframe tbody tr th:only-of-type {\n",
              "        vertical-align: middle;\n",
              "    }\n",
              "\n",
              "    .dataframe tbody tr th {\n",
              "        vertical-align: top;\n",
              "    }\n",
              "\n",
              "    .dataframe thead th {\n",
              "        text-align: right;\n",
              "    }\n",
              "</style>\n",
              "<table border=\"1\" class=\"dataframe\">\n",
              "  <thead>\n",
              "    <tr style=\"text-align: right;\">\n",
              "      <th></th>\n",
              "      <th>eno</th>\n",
              "      <th>salary</th>\n",
              "      <th>did</th>\n",
              "    </tr>\n",
              "  </thead>\n",
              "  <tbody>\n",
              "    <tr>\n",
              "      <th>count</th>\n",
              "      <td>5.000000</td>\n",
              "      <td>5.000000</td>\n",
              "      <td>5.0</td>\n",
              "    </tr>\n",
              "    <tr>\n",
              "      <th>mean</th>\n",
              "      <td>300.000000</td>\n",
              "      <td>21800.000000</td>\n",
              "      <td>2.0</td>\n",
              "    </tr>\n",
              "    <tr>\n",
              "      <th>std</th>\n",
              "      <td>158.113883</td>\n",
              "      <td>5585.696018</td>\n",
              "      <td>1.0</td>\n",
              "    </tr>\n",
              "    <tr>\n",
              "      <th>min</th>\n",
              "      <td>100.000000</td>\n",
              "      <td>15000.000000</td>\n",
              "      <td>1.0</td>\n",
              "    </tr>\n",
              "    <tr>\n",
              "      <th>25%</th>\n",
              "      <td>200.000000</td>\n",
              "      <td>20000.000000</td>\n",
              "      <td>1.0</td>\n",
              "    </tr>\n",
              "    <tr>\n",
              "      <th>50%</th>\n",
              "      <td>300.000000</td>\n",
              "      <td>20000.000000</td>\n",
              "      <td>2.0</td>\n",
              "    </tr>\n",
              "    <tr>\n",
              "      <th>75%</th>\n",
              "      <td>400.000000</td>\n",
              "      <td>24000.000000</td>\n",
              "      <td>3.0</td>\n",
              "    </tr>\n",
              "    <tr>\n",
              "      <th>max</th>\n",
              "      <td>500.000000</td>\n",
              "      <td>30000.000000</td>\n",
              "      <td>3.0</td>\n",
              "    </tr>\n",
              "  </tbody>\n",
              "</table>\n",
              "</div>"
            ],
            "text/plain": [
              "              eno        salary  did\n",
              "count    5.000000      5.000000  5.0\n",
              "mean   300.000000  21800.000000  2.0\n",
              "std    158.113883   5585.696018  1.0\n",
              "min    100.000000  15000.000000  1.0\n",
              "25%    200.000000  20000.000000  1.0\n",
              "50%    300.000000  20000.000000  2.0\n",
              "75%    400.000000  24000.000000  3.0\n",
              "max    500.000000  30000.000000  3.0"
            ]
          },
          "execution_count": 51,
          "metadata": {},
          "output_type": "execute_result"
        }
      ],
      "source": [
        "#describing dataframe\n",
        "emp_df.describe()"
      ]
    },
    {
      "cell_type": "code",
      "execution_count": null,
      "id": "bd886abe",
      "metadata": {
        "id": "bd886abe",
        "outputId": "72f4ef08-03d8-4915-ac23-4d59a1313d46"
      },
      "outputs": [
        {
          "name": "stdout",
          "output_type": "stream",
          "text": [
            "<class 'pandas.core.frame.DataFrame'>\n",
            "RangeIndex: 5 entries, 0 to 4\n",
            "Data columns (total 4 columns):\n",
            " #   Column  Non-Null Count  Dtype \n",
            "---  ------  --------------  ----- \n",
            " 0   eno     5 non-null      int64 \n",
            " 1   ename   5 non-null      object\n",
            " 2   salary  5 non-null      int64 \n",
            " 3   did     5 non-null      int64 \n",
            "dtypes: int64(3), object(1)\n",
            "memory usage: 288.0+ bytes\n"
          ]
        }
      ],
      "source": [
        "emp_df.info()"
      ]
    },
    {
      "cell_type": "code",
      "execution_count": null,
      "id": "bab8c062",
      "metadata": {
        "id": "bab8c062",
        "outputId": "149f80e5-ccbf-4603-ec2f-21ceab1098d4"
      },
      "outputs": [
        {
          "data": {
            "text/html": [
              "<div>\n",
              "<style scoped>\n",
              "    .dataframe tbody tr th:only-of-type {\n",
              "        vertical-align: middle;\n",
              "    }\n",
              "\n",
              "    .dataframe tbody tr th {\n",
              "        vertical-align: top;\n",
              "    }\n",
              "\n",
              "    .dataframe thead th {\n",
              "        text-align: right;\n",
              "    }\n",
              "</style>\n",
              "<table border=\"1\" class=\"dataframe\">\n",
              "  <thead>\n",
              "    <tr style=\"text-align: right;\">\n",
              "      <th></th>\n",
              "      <th>eno</th>\n",
              "      <th>ename</th>\n",
              "      <th>salary</th>\n",
              "      <th>did</th>\n",
              "    </tr>\n",
              "  </thead>\n",
              "  <tbody>\n",
              "    <tr>\n",
              "      <th>0</th>\n",
              "      <td>100</td>\n",
              "      <td>kumar</td>\n",
              "      <td>24000</td>\n",
              "      <td>1</td>\n",
              "    </tr>\n",
              "    <tr>\n",
              "      <th>1</th>\n",
              "      <td>200</td>\n",
              "      <td>abcd</td>\n",
              "      <td>20000</td>\n",
              "      <td>1</td>\n",
              "    </tr>\n",
              "    <tr>\n",
              "      <th>2</th>\n",
              "      <td>300</td>\n",
              "      <td>xyz</td>\n",
              "      <td>15000</td>\n",
              "      <td>2</td>\n",
              "    </tr>\n",
              "    <tr>\n",
              "      <th>3</th>\n",
              "      <td>400</td>\n",
              "      <td>rahul</td>\n",
              "      <td>30000</td>\n",
              "      <td>3</td>\n",
              "    </tr>\n",
              "    <tr>\n",
              "      <th>4</th>\n",
              "      <td>500</td>\n",
              "      <td>ram</td>\n",
              "      <td>20000</td>\n",
              "      <td>3</td>\n",
              "    </tr>\n",
              "  </tbody>\n",
              "</table>\n",
              "</div>"
            ],
            "text/plain": [
              "   eno  ename  salary  did\n",
              "0  100  kumar   24000    1\n",
              "1  200   abcd   20000    1\n",
              "2  300    xyz   15000    2\n",
              "3  400  rahul   30000    3\n",
              "4  500    ram   20000    3"
            ]
          },
          "metadata": {},
          "output_type": "display_data"
        }
      ],
      "source": [
        "display(emp_df)"
      ]
    },
    {
      "cell_type": "code",
      "execution_count": null,
      "id": "3ae26f93",
      "metadata": {
        "id": "3ae26f93",
        "outputId": "77015c8f-bbdb-4b88-9cff-664475140b89"
      },
      "outputs": [
        {
          "data": {
            "text/plain": [
              "eno         500\n",
              "ename       xyz\n",
              "salary    30000\n",
              "did           3\n",
              "dtype: object"
            ]
          },
          "execution_count": 62,
          "metadata": {},
          "output_type": "execute_result"
        }
      ],
      "source": [
        "#finding max value based column\n",
        "emp_df.apply('max')"
      ]
    },
    {
      "cell_type": "code",
      "execution_count": null,
      "id": "45e9be75",
      "metadata": {
        "id": "45e9be75",
        "outputId": "74ae4034-256b-4d7a-946c-4e7e26fc7791"
      },
      "outputs": [
        {
          "data": {
            "text/plain": [
              "eno         100\n",
              "ename      abcd\n",
              "salary    15000\n",
              "did           1\n",
              "dtype: object"
            ]
          },
          "execution_count": 63,
          "metadata": {},
          "output_type": "execute_result"
        }
      ],
      "source": [
        "#finding min value based column\n",
        "emp_df.apply('min')"
      ]
    },
    {
      "cell_type": "code",
      "execution_count": null,
      "id": "93c432b8",
      "metadata": {
        "id": "93c432b8",
        "outputId": "7a9a172f-fe1e-4180-b437-40bbc80c6823"
      },
      "outputs": [
        {
          "name": "stderr",
          "output_type": "stream",
          "text": [
            "C:\\Users\\HP\\AppData\\Local\\Temp\\ipykernel_94100\\244777187.py:2: FutureWarning: Dropping of nuisance columns in DataFrame reductions (with 'numeric_only=None') is deprecated; in a future version this will raise TypeError.  Select only valid columns before calling the reduction.\n",
            "  emp_df.apply('min', axis=1)\n"
          ]
        },
        {
          "data": {
            "text/plain": [
              "0    1\n",
              "1    1\n",
              "2    2\n",
              "3    3\n",
              "4    3\n",
              "dtype: int64"
            ]
          },
          "execution_count": 64,
          "metadata": {},
          "output_type": "execute_result"
        }
      ],
      "source": [
        "#finding min value based rows\n",
        "emp_df[[]].apply('min', axis=1)"
      ]
    },
    {
      "cell_type": "code",
      "execution_count": null,
      "id": "3b7cfcab",
      "metadata": {
        "id": "3b7cfcab",
        "outputId": "9f5d063e-eb7f-4bdb-8346-551a099e3694"
      },
      "outputs": [
        {
          "data": {
            "text/plain": [
              "0    4\n",
              "1    4\n",
              "2    4\n",
              "3    4\n",
              "4    4\n",
              "dtype: int64"
            ]
          },
          "execution_count": 65,
          "metadata": {},
          "output_type": "execute_result"
        }
      ],
      "source": [
        "#finding total column values based rows\n",
        "emp_df.apply('count', axis=1)"
      ]
    },
    {
      "cell_type": "code",
      "execution_count": null,
      "id": "9a1c06ad",
      "metadata": {
        "id": "9a1c06ad",
        "outputId": "ddc5350f-84a5-4709-f828-b785d0b8c122"
      },
      "outputs": [
        {
          "name": "stderr",
          "output_type": "stream",
          "text": [
            "C:\\Users\\HP\\AppData\\Local\\Temp\\ipykernel_94100\\162343524.py:1: FutureWarning: The frame.append method is deprecated and will be removed from pandas in a future version. Use pandas.concat instead.\n",
            "  emp_df = emp_df.append({'eno':700, 'ename':'abcdefx'}, ignore_index=True)\n"
          ]
        },
        {
          "data": {
            "text/html": [
              "<div>\n",
              "<style scoped>\n",
              "    .dataframe tbody tr th:only-of-type {\n",
              "        vertical-align: middle;\n",
              "    }\n",
              "\n",
              "    .dataframe tbody tr th {\n",
              "        vertical-align: top;\n",
              "    }\n",
              "\n",
              "    .dataframe thead th {\n",
              "        text-align: right;\n",
              "    }\n",
              "</style>\n",
              "<table border=\"1\" class=\"dataframe\">\n",
              "  <thead>\n",
              "    <tr style=\"text-align: right;\">\n",
              "      <th></th>\n",
              "      <th>eno</th>\n",
              "      <th>ename</th>\n",
              "      <th>salary</th>\n",
              "      <th>did</th>\n",
              "    </tr>\n",
              "  </thead>\n",
              "  <tbody>\n",
              "    <tr>\n",
              "      <th>4</th>\n",
              "      <td>500</td>\n",
              "      <td>ram</td>\n",
              "      <td>20000.0</td>\n",
              "      <td>3.0</td>\n",
              "    </tr>\n",
              "    <tr>\n",
              "      <th>5</th>\n",
              "      <td>700</td>\n",
              "      <td>abcdefx</td>\n",
              "      <td>NaN</td>\n",
              "      <td>NaN</td>\n",
              "    </tr>\n",
              "  </tbody>\n",
              "</table>\n",
              "</div>"
            ],
            "text/plain": [
              "   eno    ename   salary  did\n",
              "4  500      ram  20000.0  3.0\n",
              "5  700  abcdefx      NaN  NaN"
            ]
          },
          "execution_count": 66,
          "metadata": {},
          "output_type": "execute_result"
        }
      ],
      "source": [
        "emp_df = emp_df.append({'eno':700, 'ename':'abcdefx'}, ignore_index=True)\n",
        "\n",
        "emp_df.tail(2)"
      ]
    },
    {
      "cell_type": "code",
      "execution_count": null,
      "id": "6471108e",
      "metadata": {
        "id": "6471108e",
        "outputId": "7e22b313-3b56-4236-b341-f3e0f6519f90"
      },
      "outputs": [
        {
          "data": {
            "text/plain": [
              "0    4\n",
              "1    4\n",
              "2    4\n",
              "3    4\n",
              "4    4\n",
              "5    2\n",
              "dtype: int64"
            ]
          },
          "execution_count": 67,
          "metadata": {},
          "output_type": "execute_result"
        }
      ],
      "source": [
        "#finding total column values based rows\n",
        "emp_df.apply('count', axis=1)"
      ]
    },
    {
      "cell_type": "code",
      "execution_count": null,
      "id": "f3978aab",
      "metadata": {
        "id": "f3978aab",
        "outputId": "39f7729f-a96e-48dd-cf0e-b07f1d85ef86"
      },
      "outputs": [
        {
          "data": {
            "text/plain": [
              "eno       6\n",
              "ename     6\n",
              "salary    5\n",
              "did       5\n",
              "dtype: int64"
            ]
          },
          "execution_count": 68,
          "metadata": {},
          "output_type": "execute_result"
        }
      ],
      "source": [
        "#finding total rows values based colun\n",
        "emp_df.apply('count')"
      ]
    },
    {
      "cell_type": "code",
      "execution_count": null,
      "id": "7cb3fbd7",
      "metadata": {
        "id": "7cb3fbd7",
        "outputId": "2553aa9e-ea11-46bc-a8d3-785f641bcf8e"
      },
      "outputs": [
        {
          "name": "stdout",
          "output_type": "stream",
          "text": [
            "<class 'pandas.core.frame.DataFrame'>\n",
            "RangeIndex: 6 entries, 0 to 5\n",
            "Data columns (total 4 columns):\n",
            " #   Column  Non-Null Count  Dtype  \n",
            "---  ------  --------------  -----  \n",
            " 0   eno     6 non-null      int64  \n",
            " 1   ename   6 non-null      object \n",
            " 2   salary  5 non-null      float64\n",
            " 3   did     5 non-null      float64\n",
            "dtypes: float64(2), int64(1), object(1)\n",
            "memory usage: 320.0+ bytes\n"
          ]
        }
      ],
      "source": [
        "emp_df.info()"
      ]
    },
    {
      "cell_type": "code",
      "execution_count": null,
      "id": "46c75354",
      "metadata": {
        "id": "46c75354",
        "outputId": "80503be6-41f8-4260-db6d-f90163fb008d"
      },
      "outputs": [
        {
          "data": {
            "text/html": [
              "<div>\n",
              "<style scoped>\n",
              "    .dataframe tbody tr th:only-of-type {\n",
              "        vertical-align: middle;\n",
              "    }\n",
              "\n",
              "    .dataframe tbody tr th {\n",
              "        vertical-align: top;\n",
              "    }\n",
              "\n",
              "    .dataframe thead th {\n",
              "        text-align: right;\n",
              "    }\n",
              "</style>\n",
              "<table border=\"1\" class=\"dataframe\">\n",
              "  <thead>\n",
              "    <tr style=\"text-align: right;\">\n",
              "      <th></th>\n",
              "      <th>eno</th>\n",
              "      <th>salary</th>\n",
              "      <th>did</th>\n",
              "    </tr>\n",
              "  </thead>\n",
              "  <tbody>\n",
              "    <tr>\n",
              "      <th>count</th>\n",
              "      <td>6.000000</td>\n",
              "      <td>5.000000</td>\n",
              "      <td>5.0</td>\n",
              "    </tr>\n",
              "    <tr>\n",
              "      <th>mean</th>\n",
              "      <td>366.666667</td>\n",
              "      <td>21800.000000</td>\n",
              "      <td>2.0</td>\n",
              "    </tr>\n",
              "    <tr>\n",
              "      <th>std</th>\n",
              "      <td>216.024690</td>\n",
              "      <td>5585.696018</td>\n",
              "      <td>1.0</td>\n",
              "    </tr>\n",
              "    <tr>\n",
              "      <th>min</th>\n",
              "      <td>100.000000</td>\n",
              "      <td>15000.000000</td>\n",
              "      <td>1.0</td>\n",
              "    </tr>\n",
              "    <tr>\n",
              "      <th>25%</th>\n",
              "      <td>225.000000</td>\n",
              "      <td>20000.000000</td>\n",
              "      <td>1.0</td>\n",
              "    </tr>\n",
              "    <tr>\n",
              "      <th>50%</th>\n",
              "      <td>350.000000</td>\n",
              "      <td>20000.000000</td>\n",
              "      <td>2.0</td>\n",
              "    </tr>\n",
              "    <tr>\n",
              "      <th>75%</th>\n",
              "      <td>475.000000</td>\n",
              "      <td>24000.000000</td>\n",
              "      <td>3.0</td>\n",
              "    </tr>\n",
              "    <tr>\n",
              "      <th>max</th>\n",
              "      <td>700.000000</td>\n",
              "      <td>30000.000000</td>\n",
              "      <td>3.0</td>\n",
              "    </tr>\n",
              "  </tbody>\n",
              "</table>\n",
              "</div>"
            ],
            "text/plain": [
              "              eno        salary  did\n",
              "count    6.000000      5.000000  5.0\n",
              "mean   366.666667  21800.000000  2.0\n",
              "std    216.024690   5585.696018  1.0\n",
              "min    100.000000  15000.000000  1.0\n",
              "25%    225.000000  20000.000000  1.0\n",
              "50%    350.000000  20000.000000  2.0\n",
              "75%    475.000000  24000.000000  3.0\n",
              "max    700.000000  30000.000000  3.0"
            ]
          },
          "execution_count": 70,
          "metadata": {},
          "output_type": "execute_result"
        }
      ],
      "source": [
        "emp_df.describe()"
      ]
    },
    {
      "cell_type": "code",
      "execution_count": null,
      "id": "a9e4b4f7",
      "metadata": {
        "id": "a9e4b4f7",
        "outputId": "8502d5e2-1dbe-4ee9-97a7-a45d5c4def46"
      },
      "outputs": [
        {
          "data": {
            "text/html": [
              "<div>\n",
              "<style scoped>\n",
              "    .dataframe tbody tr th:only-of-type {\n",
              "        vertical-align: middle;\n",
              "    }\n",
              "\n",
              "    .dataframe tbody tr th {\n",
              "        vertical-align: top;\n",
              "    }\n",
              "\n",
              "    .dataframe thead th {\n",
              "        text-align: right;\n",
              "    }\n",
              "</style>\n",
              "<table border=\"1\" class=\"dataframe\">\n",
              "  <thead>\n",
              "    <tr style=\"text-align: right;\">\n",
              "      <th></th>\n",
              "      <th>eno</th>\n",
              "      <th>ename</th>\n",
              "      <th>salary</th>\n",
              "      <th>did</th>\n",
              "    </tr>\n",
              "  </thead>\n",
              "  <tbody>\n",
              "    <tr>\n",
              "      <th>0</th>\n",
              "      <td>100</td>\n",
              "      <td>kumar</td>\n",
              "      <td>24000.0</td>\n",
              "      <td>1.0</td>\n",
              "    </tr>\n",
              "    <tr>\n",
              "      <th>1</th>\n",
              "      <td>200</td>\n",
              "      <td>abcd</td>\n",
              "      <td>20000.0</td>\n",
              "      <td>1.0</td>\n",
              "    </tr>\n",
              "    <tr>\n",
              "      <th>2</th>\n",
              "      <td>300</td>\n",
              "      <td>xyz</td>\n",
              "      <td>15000.0</td>\n",
              "      <td>1000.0</td>\n",
              "    </tr>\n",
              "    <tr>\n",
              "      <th>3</th>\n",
              "      <td>400</td>\n",
              "      <td>rahul</td>\n",
              "      <td>30000.0</td>\n",
              "      <td>3.0</td>\n",
              "    </tr>\n",
              "    <tr>\n",
              "      <th>4</th>\n",
              "      <td>500</td>\n",
              "      <td>ram</td>\n",
              "      <td>20000.0</td>\n",
              "      <td>3.0</td>\n",
              "    </tr>\n",
              "    <tr>\n",
              "      <th>5</th>\n",
              "      <td>700</td>\n",
              "      <td>abcdefx</td>\n",
              "      <td>NaN</td>\n",
              "      <td>NaN</td>\n",
              "    </tr>\n",
              "  </tbody>\n",
              "</table>\n",
              "</div>"
            ],
            "text/plain": [
              "   eno    ename   salary     did\n",
              "0  100    kumar  24000.0     1.0\n",
              "1  200     abcd  20000.0     1.0\n",
              "2  300      xyz  15000.0  1000.0\n",
              "3  400    rahul  30000.0     3.0\n",
              "4  500      ram  20000.0     3.0\n",
              "5  700  abcdefx      NaN     NaN"
            ]
          },
          "execution_count": 73,
          "metadata": {},
          "output_type": "execute_result"
        }
      ],
      "source": [
        "emp_df.iloc[2,3] = 1000\n",
        "emp_df"
      ]
    },
    {
      "cell_type": "code",
      "execution_count": null,
      "id": "bdc15b05",
      "metadata": {
        "id": "bdc15b05",
        "outputId": "9196a2fd-75aa-4b62-b678-d2bc022feba4"
      },
      "outputs": [
        {
          "name": "stderr",
          "output_type": "stream",
          "text": [
            "C:\\Users\\HP\\AppData\\Local\\Temp\\ipykernel_94100\\244777187.py:2: FutureWarning: Dropping of nuisance columns in DataFrame reductions (with 'numeric_only=None') is deprecated; in a future version this will raise TypeError.  Select only valid columns before calling the reduction.\n",
            "  emp_df.apply('min', axis=1)\n"
          ]
        },
        {
          "data": {
            "text/plain": [
              "0      1.0\n",
              "1      1.0\n",
              "2    300.0\n",
              "3      3.0\n",
              "4      3.0\n",
              "5    700.0\n",
              "dtype: float64"
            ]
          },
          "execution_count": 74,
          "metadata": {},
          "output_type": "execute_result"
        }
      ],
      "source": [
        "#finding min value based rows\n",
        "emp_df.apply('min', axis=1)"
      ]
    },
    {
      "cell_type": "code",
      "execution_count": null,
      "id": "6a407d25",
      "metadata": {
        "id": "6a407d25",
        "outputId": "371eecf0-4026-41b8-bf6d-e86688d4abb7"
      },
      "outputs": [
        {
          "data": {
            "text/html": [
              "<div>\n",
              "<style scoped>\n",
              "    .dataframe tbody tr th:only-of-type {\n",
              "        vertical-align: middle;\n",
              "    }\n",
              "\n",
              "    .dataframe tbody tr th {\n",
              "        vertical-align: top;\n",
              "    }\n",
              "\n",
              "    .dataframe thead th {\n",
              "        text-align: right;\n",
              "    }\n",
              "</style>\n",
              "<table border=\"1\" class=\"dataframe\">\n",
              "  <thead>\n",
              "    <tr style=\"text-align: right;\">\n",
              "      <th></th>\n",
              "      <th>eno</th>\n",
              "      <th>ename</th>\n",
              "      <th>salary</th>\n",
              "      <th>did</th>\n",
              "    </tr>\n",
              "  </thead>\n",
              "  <tbody>\n",
              "    <tr>\n",
              "      <th>0</th>\n",
              "      <td>200</td>\n",
              "      <td>kumarkumar</td>\n",
              "      <td>48000.0</td>\n",
              "      <td>2.0</td>\n",
              "    </tr>\n",
              "    <tr>\n",
              "      <th>1</th>\n",
              "      <td>400</td>\n",
              "      <td>abcdabcd</td>\n",
              "      <td>40000.0</td>\n",
              "      <td>2.0</td>\n",
              "    </tr>\n",
              "    <tr>\n",
              "      <th>2</th>\n",
              "      <td>600</td>\n",
              "      <td>xyzxyz</td>\n",
              "      <td>30000.0</td>\n",
              "      <td>2000.0</td>\n",
              "    </tr>\n",
              "    <tr>\n",
              "      <th>3</th>\n",
              "      <td>800</td>\n",
              "      <td>rahulrahul</td>\n",
              "      <td>60000.0</td>\n",
              "      <td>6.0</td>\n",
              "    </tr>\n",
              "    <tr>\n",
              "      <th>4</th>\n",
              "      <td>1000</td>\n",
              "      <td>ramram</td>\n",
              "      <td>40000.0</td>\n",
              "      <td>6.0</td>\n",
              "    </tr>\n",
              "    <tr>\n",
              "      <th>5</th>\n",
              "      <td>1400</td>\n",
              "      <td>abcdefxabcdefx</td>\n",
              "      <td>NaN</td>\n",
              "      <td>NaN</td>\n",
              "    </tr>\n",
              "  </tbody>\n",
              "</table>\n",
              "</div>"
            ],
            "text/plain": [
              "    eno           ename   salary     did\n",
              "0   200      kumarkumar  48000.0     2.0\n",
              "1   400        abcdabcd  40000.0     2.0\n",
              "2   600          xyzxyz  30000.0  2000.0\n",
              "3   800      rahulrahul  60000.0     6.0\n",
              "4  1000          ramram  40000.0     6.0\n",
              "5  1400  abcdefxabcdefx      NaN     NaN"
            ]
          },
          "execution_count": 75,
          "metadata": {},
          "output_type": "execute_result"
        }
      ],
      "source": [
        "#tranforming data using applymap\n",
        "emp_df.applymap(lambda x:x*2)"
      ]
    },
    {
      "cell_type": "code",
      "execution_count": null,
      "id": "96007152",
      "metadata": {
        "id": "96007152",
        "outputId": "75d5b1c4-f07c-483b-81ec-b08068013d9e"
      },
      "outputs": [
        {
          "data": {
            "text/html": [
              "<div>\n",
              "<style scoped>\n",
              "    .dataframe tbody tr th:only-of-type {\n",
              "        vertical-align: middle;\n",
              "    }\n",
              "\n",
              "    .dataframe tbody tr th {\n",
              "        vertical-align: top;\n",
              "    }\n",
              "\n",
              "    .dataframe thead th {\n",
              "        text-align: right;\n",
              "    }\n",
              "</style>\n",
              "<table border=\"1\" class=\"dataframe\">\n",
              "  <thead>\n",
              "    <tr style=\"text-align: right;\">\n",
              "      <th></th>\n",
              "      <th>eno</th>\n",
              "      <th>ename</th>\n",
              "      <th>salary</th>\n",
              "      <th>did</th>\n",
              "    </tr>\n",
              "  </thead>\n",
              "  <tbody>\n",
              "    <tr>\n",
              "      <th>0</th>\n",
              "      <td>100</td>\n",
              "      <td>kumar</td>\n",
              "      <td>24000.0</td>\n",
              "      <td>1.0</td>\n",
              "    </tr>\n",
              "    <tr>\n",
              "      <th>1</th>\n",
              "      <td>200</td>\n",
              "      <td>abcd</td>\n",
              "      <td>20000.0</td>\n",
              "      <td>1.0</td>\n",
              "    </tr>\n",
              "    <tr>\n",
              "      <th>2</th>\n",
              "      <td>300</td>\n",
              "      <td>xyz</td>\n",
              "      <td>15000.0</td>\n",
              "      <td>1000.0</td>\n",
              "    </tr>\n",
              "    <tr>\n",
              "      <th>3</th>\n",
              "      <td>400</td>\n",
              "      <td>rahul</td>\n",
              "      <td>30000.0</td>\n",
              "      <td>3.0</td>\n",
              "    </tr>\n",
              "    <tr>\n",
              "      <th>4</th>\n",
              "      <td>500</td>\n",
              "      <td>ram</td>\n",
              "      <td>20000.0</td>\n",
              "      <td>3.0</td>\n",
              "    </tr>\n",
              "    <tr>\n",
              "      <th>5</th>\n",
              "      <td>700</td>\n",
              "      <td>abcdefx</td>\n",
              "      <td>NaN</td>\n",
              "      <td>NaN</td>\n",
              "    </tr>\n",
              "  </tbody>\n",
              "</table>\n",
              "</div>"
            ],
            "text/plain": [
              "   eno    ename   salary     did\n",
              "0  100    kumar  24000.0     1.0\n",
              "1  200     abcd  20000.0     1.0\n",
              "2  300      xyz  15000.0  1000.0\n",
              "3  400    rahul  30000.0     3.0\n",
              "4  500      ram  20000.0     3.0\n",
              "5  700  abcdefx      NaN     NaN"
            ]
          },
          "execution_count": 76,
          "metadata": {},
          "output_type": "execute_result"
        }
      ],
      "source": [
        "emp_df"
      ]
    },
    {
      "cell_type": "code",
      "execution_count": null,
      "id": "c39ed055",
      "metadata": {
        "id": "c39ed055",
        "outputId": "3942d1e6-7e1a-40c9-f537-a94f7eb4a528"
      },
      "outputs": [
        {
          "data": {
            "text/html": [
              "<div>\n",
              "<style scoped>\n",
              "    .dataframe tbody tr th:only-of-type {\n",
              "        vertical-align: middle;\n",
              "    }\n",
              "\n",
              "    .dataframe tbody tr th {\n",
              "        vertical-align: top;\n",
              "    }\n",
              "\n",
              "    .dataframe thead th {\n",
              "        text-align: right;\n",
              "    }\n",
              "</style>\n",
              "<table border=\"1\" class=\"dataframe\">\n",
              "  <thead>\n",
              "    <tr style=\"text-align: right;\">\n",
              "      <th></th>\n",
              "      <th>eno</th>\n",
              "      <th>salary</th>\n",
              "    </tr>\n",
              "  </thead>\n",
              "  <tbody>\n",
              "    <tr>\n",
              "      <th>0</th>\n",
              "      <td>200</td>\n",
              "      <td>48000.0</td>\n",
              "    </tr>\n",
              "    <tr>\n",
              "      <th>1</th>\n",
              "      <td>400</td>\n",
              "      <td>40000.0</td>\n",
              "    </tr>\n",
              "    <tr>\n",
              "      <th>2</th>\n",
              "      <td>600</td>\n",
              "      <td>30000.0</td>\n",
              "    </tr>\n",
              "    <tr>\n",
              "      <th>3</th>\n",
              "      <td>800</td>\n",
              "      <td>60000.0</td>\n",
              "    </tr>\n",
              "    <tr>\n",
              "      <th>4</th>\n",
              "      <td>1000</td>\n",
              "      <td>40000.0</td>\n",
              "    </tr>\n",
              "    <tr>\n",
              "      <th>5</th>\n",
              "      <td>1400</td>\n",
              "      <td>NaN</td>\n",
              "    </tr>\n",
              "  </tbody>\n",
              "</table>\n",
              "</div>"
            ],
            "text/plain": [
              "    eno   salary\n",
              "0   200  48000.0\n",
              "1   400  40000.0\n",
              "2   600  30000.0\n",
              "3   800  60000.0\n",
              "4  1000  40000.0\n",
              "5  1400      NaN"
            ]
          },
          "execution_count": 79,
          "metadata": {},
          "output_type": "execute_result"
        }
      ],
      "source": [
        "#tranforming data using applymap\n",
        "emp_df[['eno', 'salary']].applymap(lambda x:x*2)"
      ]
    },
    {
      "cell_type": "code",
      "execution_count": null,
      "id": "0012fb57",
      "metadata": {
        "id": "0012fb57",
        "outputId": "95c2b9b9-57d7-4930-ea3b-05d89d4d4e60"
      },
      "outputs": [
        {
          "data": {
            "text/plain": [
              "0    3600.0\n",
              "1    3000.0\n",
              "2    2250.0\n",
              "3    4500.0\n",
              "4    3000.0\n",
              "5       NaN\n",
              "dtype: float64"
            ]
          },
          "execution_count": 81,
          "metadata": {},
          "output_type": "execute_result"
        }
      ],
      "source": [
        "#find 10% bonus for each emplayee\n",
        "emp_df.eval('salary*0.15')"
      ]
    },
    {
      "cell_type": "code",
      "execution_count": null,
      "id": "2a850085",
      "metadata": {
        "id": "2a850085",
        "outputId": "e9b0103e-2662-4d4f-8fa2-7a94aeb8c859"
      },
      "outputs": [
        {
          "data": {
            "text/html": [
              "<div>\n",
              "<style scoped>\n",
              "    .dataframe tbody tr th:only-of-type {\n",
              "        vertical-align: middle;\n",
              "    }\n",
              "\n",
              "    .dataframe tbody tr th {\n",
              "        vertical-align: top;\n",
              "    }\n",
              "\n",
              "    .dataframe thead th {\n",
              "        text-align: right;\n",
              "    }\n",
              "</style>\n",
              "<table border=\"1\" class=\"dataframe\">\n",
              "  <thead>\n",
              "    <tr style=\"text-align: right;\">\n",
              "      <th></th>\n",
              "      <th>eno</th>\n",
              "      <th>ename</th>\n",
              "      <th>salary</th>\n",
              "      <th>did</th>\n",
              "      <th>bonus_10</th>\n",
              "    </tr>\n",
              "  </thead>\n",
              "  <tbody>\n",
              "    <tr>\n",
              "      <th>0</th>\n",
              "      <td>100</td>\n",
              "      <td>kumar</td>\n",
              "      <td>24000.0</td>\n",
              "      <td>1.0</td>\n",
              "      <td>2400.0</td>\n",
              "    </tr>\n",
              "    <tr>\n",
              "      <th>1</th>\n",
              "      <td>200</td>\n",
              "      <td>abcd</td>\n",
              "      <td>20000.0</td>\n",
              "      <td>1.0</td>\n",
              "      <td>2000.0</td>\n",
              "    </tr>\n",
              "    <tr>\n",
              "      <th>2</th>\n",
              "      <td>300</td>\n",
              "      <td>xyz</td>\n",
              "      <td>15000.0</td>\n",
              "      <td>1000.0</td>\n",
              "      <td>1500.0</td>\n",
              "    </tr>\n",
              "    <tr>\n",
              "      <th>3</th>\n",
              "      <td>400</td>\n",
              "      <td>rahul</td>\n",
              "      <td>30000.0</td>\n",
              "      <td>3.0</td>\n",
              "      <td>3000.0</td>\n",
              "    </tr>\n",
              "    <tr>\n",
              "      <th>4</th>\n",
              "      <td>500</td>\n",
              "      <td>ram</td>\n",
              "      <td>20000.0</td>\n",
              "      <td>3.0</td>\n",
              "      <td>2000.0</td>\n",
              "    </tr>\n",
              "    <tr>\n",
              "      <th>5</th>\n",
              "      <td>700</td>\n",
              "      <td>abcdefx</td>\n",
              "      <td>NaN</td>\n",
              "      <td>NaN</td>\n",
              "      <td>NaN</td>\n",
              "    </tr>\n",
              "  </tbody>\n",
              "</table>\n",
              "</div>"
            ],
            "text/plain": [
              "   eno    ename   salary     did  bonus_10\n",
              "0  100    kumar  24000.0     1.0    2400.0\n",
              "1  200     abcd  20000.0     1.0    2000.0\n",
              "2  300      xyz  15000.0  1000.0    1500.0\n",
              "3  400    rahul  30000.0     3.0    3000.0\n",
              "4  500      ram  20000.0     3.0    2000.0\n",
              "5  700  abcdefx      NaN     NaN       NaN"
            ]
          },
          "execution_count": 82,
          "metadata": {},
          "output_type": "execute_result"
        }
      ],
      "source": [
        "#adding new column to the dataframe\n",
        "emp_df['bonus_10']=emp_df['salary']*0.1\n",
        "\n",
        "emp_df"
      ]
    },
    {
      "cell_type": "code",
      "execution_count": null,
      "id": "74b6bd7c",
      "metadata": {
        "id": "74b6bd7c",
        "outputId": "27bd46b4-3a0e-4c5f-87bc-531686e44e53"
      },
      "outputs": [
        {
          "data": {
            "text/html": [
              "<div>\n",
              "<style scoped>\n",
              "    .dataframe tbody tr th:only-of-type {\n",
              "        vertical-align: middle;\n",
              "    }\n",
              "\n",
              "    .dataframe tbody tr th {\n",
              "        vertical-align: top;\n",
              "    }\n",
              "\n",
              "    .dataframe thead th {\n",
              "        text-align: right;\n",
              "    }\n",
              "</style>\n",
              "<table border=\"1\" class=\"dataframe\">\n",
              "  <thead>\n",
              "    <tr style=\"text-align: right;\">\n",
              "      <th></th>\n",
              "      <th>eno</th>\n",
              "      <th>ename</th>\n",
              "      <th>salary</th>\n",
              "      <th>did</th>\n",
              "      <th>bonus_10</th>\n",
              "      <th>total_salary</th>\n",
              "    </tr>\n",
              "  </thead>\n",
              "  <tbody>\n",
              "    <tr>\n",
              "      <th>0</th>\n",
              "      <td>100</td>\n",
              "      <td>kumar</td>\n",
              "      <td>24000.0</td>\n",
              "      <td>1.0</td>\n",
              "      <td>2400.0</td>\n",
              "      <td>26400.0</td>\n",
              "    </tr>\n",
              "    <tr>\n",
              "      <th>1</th>\n",
              "      <td>200</td>\n",
              "      <td>abcd</td>\n",
              "      <td>20000.0</td>\n",
              "      <td>1.0</td>\n",
              "      <td>2000.0</td>\n",
              "      <td>22000.0</td>\n",
              "    </tr>\n",
              "    <tr>\n",
              "      <th>2</th>\n",
              "      <td>300</td>\n",
              "      <td>xyz</td>\n",
              "      <td>15000.0</td>\n",
              "      <td>1000.0</td>\n",
              "      <td>1500.0</td>\n",
              "      <td>16500.0</td>\n",
              "    </tr>\n",
              "    <tr>\n",
              "      <th>3</th>\n",
              "      <td>400</td>\n",
              "      <td>rahul</td>\n",
              "      <td>30000.0</td>\n",
              "      <td>3.0</td>\n",
              "      <td>3000.0</td>\n",
              "      <td>33000.0</td>\n",
              "    </tr>\n",
              "    <tr>\n",
              "      <th>4</th>\n",
              "      <td>500</td>\n",
              "      <td>ram</td>\n",
              "      <td>20000.0</td>\n",
              "      <td>3.0</td>\n",
              "      <td>2000.0</td>\n",
              "      <td>22000.0</td>\n",
              "    </tr>\n",
              "    <tr>\n",
              "      <th>5</th>\n",
              "      <td>700</td>\n",
              "      <td>abcdefx</td>\n",
              "      <td>NaN</td>\n",
              "      <td>NaN</td>\n",
              "      <td>NaN</td>\n",
              "      <td>NaN</td>\n",
              "    </tr>\n",
              "  </tbody>\n",
              "</table>\n",
              "</div>"
            ],
            "text/plain": [
              "   eno    ename   salary     did  bonus_10  total_salary\n",
              "0  100    kumar  24000.0     1.0    2400.0       26400.0\n",
              "1  200     abcd  20000.0     1.0    2000.0       22000.0\n",
              "2  300      xyz  15000.0  1000.0    1500.0       16500.0\n",
              "3  400    rahul  30000.0     3.0    3000.0       33000.0\n",
              "4  500      ram  20000.0     3.0    2000.0       22000.0\n",
              "5  700  abcdefx      NaN     NaN       NaN           NaN"
            ]
          },
          "execution_count": 83,
          "metadata": {},
          "output_type": "execute_result"
        }
      ],
      "source": [
        "#add new column with total_salry based on salary and bonus\n",
        "emp_df['total_salary'] = emp_df['salary'] + emp_df['bonus_10']\n",
        "\n",
        "emp_df"
      ]
    },
    {
      "cell_type": "code",
      "execution_count": null,
      "id": "8d3784bf",
      "metadata": {
        "id": "8d3784bf",
        "outputId": "1544710f-3933-4e12-af9c-169583ed2e09"
      },
      "outputs": [
        {
          "data": {
            "text/html": [
              "<div>\n",
              "<style scoped>\n",
              "    .dataframe tbody tr th:only-of-type {\n",
              "        vertical-align: middle;\n",
              "    }\n",
              "\n",
              "    .dataframe tbody tr th {\n",
              "        vertical-align: top;\n",
              "    }\n",
              "\n",
              "    .dataframe thead th {\n",
              "        text-align: right;\n",
              "    }\n",
              "</style>\n",
              "<table border=\"1\" class=\"dataframe\">\n",
              "  <thead>\n",
              "    <tr style=\"text-align: right;\">\n",
              "      <th></th>\n",
              "      <th>eno</th>\n",
              "      <th>ename</th>\n",
              "      <th>salary</th>\n",
              "      <th>did</th>\n",
              "      <th>bonus_10</th>\n",
              "      <th>total_salary</th>\n",
              "    </tr>\n",
              "  </thead>\n",
              "  <tbody>\n",
              "    <tr>\n",
              "      <th>0</th>\n",
              "      <td>100</td>\n",
              "      <td>kumar</td>\n",
              "      <td>24000.0</td>\n",
              "      <td>1.0</td>\n",
              "      <td>2400.0</td>\n",
              "      <td>27600.0</td>\n",
              "    </tr>\n",
              "    <tr>\n",
              "      <th>1</th>\n",
              "      <td>200</td>\n",
              "      <td>abcd</td>\n",
              "      <td>20000.0</td>\n",
              "      <td>1.0</td>\n",
              "      <td>2000.0</td>\n",
              "      <td>23000.0</td>\n",
              "    </tr>\n",
              "    <tr>\n",
              "      <th>2</th>\n",
              "      <td>300</td>\n",
              "      <td>xyz</td>\n",
              "      <td>15000.0</td>\n",
              "      <td>1000.0</td>\n",
              "      <td>1500.0</td>\n",
              "      <td>17250.0</td>\n",
              "    </tr>\n",
              "    <tr>\n",
              "      <th>3</th>\n",
              "      <td>400</td>\n",
              "      <td>rahul</td>\n",
              "      <td>30000.0</td>\n",
              "      <td>3.0</td>\n",
              "      <td>3000.0</td>\n",
              "      <td>34500.0</td>\n",
              "    </tr>\n",
              "    <tr>\n",
              "      <th>4</th>\n",
              "      <td>500</td>\n",
              "      <td>ram</td>\n",
              "      <td>20000.0</td>\n",
              "      <td>3.0</td>\n",
              "      <td>2000.0</td>\n",
              "      <td>23000.0</td>\n",
              "    </tr>\n",
              "    <tr>\n",
              "      <th>5</th>\n",
              "      <td>700</td>\n",
              "      <td>abcdefx</td>\n",
              "      <td>NaN</td>\n",
              "      <td>NaN</td>\n",
              "      <td>NaN</td>\n",
              "      <td>NaN</td>\n",
              "    </tr>\n",
              "  </tbody>\n",
              "</table>\n",
              "</div>"
            ],
            "text/plain": [
              "   eno    ename   salary     did  bonus_10  total_salary\n",
              "0  100    kumar  24000.0     1.0    2400.0       27600.0\n",
              "1  200     abcd  20000.0     1.0    2000.0       23000.0\n",
              "2  300      xyz  15000.0  1000.0    1500.0       17250.0\n",
              "3  400    rahul  30000.0     3.0    3000.0       34500.0\n",
              "4  500      ram  20000.0     3.0    2000.0       23000.0\n",
              "5  700  abcdefx      NaN     NaN       NaN           NaN"
            ]
          },
          "execution_count": 84,
          "metadata": {},
          "output_type": "execute_result"
        }
      ],
      "source": [
        "#updating column with total_salry based on salary and bonus\n",
        "emp_df['total_salary'] = emp_df['salary'] + emp_df['salary'] * 0.15\n",
        "\n",
        "emp_df"
      ]
    },
    {
      "cell_type": "code",
      "execution_count": null,
      "id": "a6ab7017",
      "metadata": {
        "id": "a6ab7017",
        "outputId": "211b1dcc-4bca-47ff-890e-9ea2f2b069df"
      },
      "outputs": [
        {
          "data": {
            "text/plain": [
              "eno             6\n",
              "ename           6\n",
              "salary          5\n",
              "did             5\n",
              "bonus_10        5\n",
              "total_salary    5\n",
              "dtype: int64"
            ]
          },
          "execution_count": 85,
          "metadata": {},
          "output_type": "execute_result"
        }
      ],
      "source": [
        "emp_df.count()"
      ]
    },
    {
      "cell_type": "code",
      "execution_count": null,
      "id": "259e92e9",
      "metadata": {
        "id": "259e92e9",
        "outputId": "a8c6d954-0ae0-4943-88a1-495bebb72541"
      },
      "outputs": [
        {
          "data": {
            "text/plain": [
              "eno  ename  salary   did     bonus_10  total_salary\n",
              "100  kumar  24000.0  1.0     2400.0    27600.0         1\n",
              "200  abcd   20000.0  1.0     2000.0    23000.0         1\n",
              "300  xyz    15000.0  1000.0  1500.0    17250.0         1\n",
              "400  rahul  30000.0  3.0     3000.0    34500.0         1\n",
              "500  ram    20000.0  3.0     2000.0    23000.0         1\n",
              "dtype: int64"
            ]
          },
          "execution_count": 86,
          "metadata": {},
          "output_type": "execute_result"
        }
      ],
      "source": [
        "#finding repeated rows\n",
        "emp_df.value_counts()"
      ]
    },
    {
      "cell_type": "code",
      "execution_count": null,
      "id": "c93d980c",
      "metadata": {
        "id": "c93d980c",
        "outputId": "fe1e73bb-32e1-472b-e3f3-0b6b33f464d1"
      },
      "outputs": [
        {
          "data": {
            "text/plain": [
              "1.0       2\n",
              "3.0       2\n",
              "1000.0    1\n",
              "Name: did, dtype: int64"
            ]
          },
          "execution_count": 87,
          "metadata": {},
          "output_type": "execute_result"
        }
      ],
      "source": [
        "#finding repeated values\n",
        "emp_df['did'].value_counts()"
      ]
    },
    {
      "cell_type": "code",
      "execution_count": null,
      "id": "cce6eaae",
      "metadata": {
        "id": "cce6eaae",
        "outputId": "f22c7fc1-6ec4-4145-c41d-42ef0a9bfc9c"
      },
      "outputs": [
        {
          "data": {
            "text/html": [
              "<div>\n",
              "<style scoped>\n",
              "    .dataframe tbody tr th:only-of-type {\n",
              "        vertical-align: middle;\n",
              "    }\n",
              "\n",
              "    .dataframe tbody tr th {\n",
              "        vertical-align: top;\n",
              "    }\n",
              "\n",
              "    .dataframe thead th {\n",
              "        text-align: right;\n",
              "    }\n",
              "</style>\n",
              "<table border=\"1\" class=\"dataframe\">\n",
              "  <thead>\n",
              "    <tr style=\"text-align: right;\">\n",
              "      <th></th>\n",
              "      <th>eno</th>\n",
              "      <th>ename</th>\n",
              "      <th>salary</th>\n",
              "      <th>did</th>\n",
              "      <th>bonus_10</th>\n",
              "      <th>total_salary</th>\n",
              "    </tr>\n",
              "  </thead>\n",
              "  <tbody>\n",
              "    <tr>\n",
              "      <th>0</th>\n",
              "      <td>False</td>\n",
              "      <td>False</td>\n",
              "      <td>False</td>\n",
              "      <td>False</td>\n",
              "      <td>False</td>\n",
              "      <td>False</td>\n",
              "    </tr>\n",
              "    <tr>\n",
              "      <th>1</th>\n",
              "      <td>False</td>\n",
              "      <td>False</td>\n",
              "      <td>False</td>\n",
              "      <td>False</td>\n",
              "      <td>False</td>\n",
              "      <td>False</td>\n",
              "    </tr>\n",
              "    <tr>\n",
              "      <th>2</th>\n",
              "      <td>False</td>\n",
              "      <td>False</td>\n",
              "      <td>False</td>\n",
              "      <td>False</td>\n",
              "      <td>False</td>\n",
              "      <td>False</td>\n",
              "    </tr>\n",
              "    <tr>\n",
              "      <th>3</th>\n",
              "      <td>False</td>\n",
              "      <td>False</td>\n",
              "      <td>False</td>\n",
              "      <td>False</td>\n",
              "      <td>False</td>\n",
              "      <td>False</td>\n",
              "    </tr>\n",
              "    <tr>\n",
              "      <th>4</th>\n",
              "      <td>False</td>\n",
              "      <td>False</td>\n",
              "      <td>False</td>\n",
              "      <td>False</td>\n",
              "      <td>False</td>\n",
              "      <td>False</td>\n",
              "    </tr>\n",
              "    <tr>\n",
              "      <th>5</th>\n",
              "      <td>False</td>\n",
              "      <td>False</td>\n",
              "      <td>True</td>\n",
              "      <td>True</td>\n",
              "      <td>True</td>\n",
              "      <td>True</td>\n",
              "    </tr>\n",
              "  </tbody>\n",
              "</table>\n",
              "</div>"
            ],
            "text/plain": [
              "     eno  ename  salary    did  bonus_10  total_salary\n",
              "0  False  False   False  False     False         False\n",
              "1  False  False   False  False     False         False\n",
              "2  False  False   False  False     False         False\n",
              "3  False  False   False  False     False         False\n",
              "4  False  False   False  False     False         False\n",
              "5  False  False    True   True      True          True"
            ]
          },
          "execution_count": 89,
          "metadata": {},
          "output_type": "execute_result"
        }
      ],
      "source": [
        "#finding missing values\n",
        "# emp_df.isna()\n",
        "emp_df.isnull()"
      ]
    },
    {
      "cell_type": "code",
      "execution_count": null,
      "id": "d1e1f92e",
      "metadata": {
        "id": "d1e1f92e",
        "outputId": "4eb548d2-16cd-4e38-82bf-4653018b3da8"
      },
      "outputs": [
        {
          "data": {
            "text/html": [
              "<div>\n",
              "<style scoped>\n",
              "    .dataframe tbody tr th:only-of-type {\n",
              "        vertical-align: middle;\n",
              "    }\n",
              "\n",
              "    .dataframe tbody tr th {\n",
              "        vertical-align: top;\n",
              "    }\n",
              "\n",
              "    .dataframe thead th {\n",
              "        text-align: right;\n",
              "    }\n",
              "</style>\n",
              "<table border=\"1\" class=\"dataframe\">\n",
              "  <thead>\n",
              "    <tr style=\"text-align: right;\">\n",
              "      <th></th>\n",
              "      <th>eno</th>\n",
              "      <th>ename</th>\n",
              "      <th>salary</th>\n",
              "      <th>deptid</th>\n",
              "      <th>bonus</th>\n",
              "      <th>total_salary</th>\n",
              "    </tr>\n",
              "  </thead>\n",
              "  <tbody>\n",
              "    <tr>\n",
              "      <th>0</th>\n",
              "      <td>100</td>\n",
              "      <td>kumar</td>\n",
              "      <td>24000.0</td>\n",
              "      <td>1.0</td>\n",
              "      <td>2400.0</td>\n",
              "      <td>27600.0</td>\n",
              "    </tr>\n",
              "    <tr>\n",
              "      <th>1</th>\n",
              "      <td>200</td>\n",
              "      <td>abcd</td>\n",
              "      <td>20000.0</td>\n",
              "      <td>1.0</td>\n",
              "      <td>2000.0</td>\n",
              "      <td>23000.0</td>\n",
              "    </tr>\n",
              "  </tbody>\n",
              "</table>\n",
              "</div>"
            ],
            "text/plain": [
              "   eno  ename   salary  deptid   bonus  total_salary\n",
              "0  100  kumar  24000.0     1.0  2400.0       27600.0\n",
              "1  200   abcd  20000.0     1.0  2000.0       23000.0"
            ]
          },
          "execution_count": 91,
          "metadata": {},
          "output_type": "execute_result"
        }
      ],
      "source": [
        "#changing column names using rename()\n",
        "emp_df = emp_df.rename(columns={'bonus_10':'bonus', 'did':'deptid'})\n",
        "\n",
        "emp_df.head(2)"
      ]
    },
    {
      "cell_type": "code",
      "execution_count": null,
      "id": "d4dd125f",
      "metadata": {
        "id": "d4dd125f",
        "outputId": "170b67f9-d772-43a3-e34d-11b5fcc7ea49"
      },
      "outputs": [
        {
          "data": {
            "text/html": [
              "<div>\n",
              "<style scoped>\n",
              "    .dataframe tbody tr th:only-of-type {\n",
              "        vertical-align: middle;\n",
              "    }\n",
              "\n",
              "    .dataframe tbody tr th {\n",
              "        vertical-align: top;\n",
              "    }\n",
              "\n",
              "    .dataframe thead th {\n",
              "        text-align: right;\n",
              "    }\n",
              "</style>\n",
              "<table border=\"1\" class=\"dataframe\">\n",
              "  <thead>\n",
              "    <tr style=\"text-align: right;\">\n",
              "      <th></th>\n",
              "      <th>eno</th>\n",
              "      <th>ename</th>\n",
              "      <th>salary</th>\n",
              "      <th>deptid</th>\n",
              "      <th>bonus</th>\n",
              "      <th>total_salary</th>\n",
              "    </tr>\n",
              "  </thead>\n",
              "  <tbody>\n",
              "    <tr>\n",
              "      <th>a</th>\n",
              "      <td>100</td>\n",
              "      <td>kumar</td>\n",
              "      <td>24000.0</td>\n",
              "      <td>1.0</td>\n",
              "      <td>2400.0</td>\n",
              "      <td>27600.0</td>\n",
              "    </tr>\n",
              "    <tr>\n",
              "      <th>b</th>\n",
              "      <td>200</td>\n",
              "      <td>abcd</td>\n",
              "      <td>20000.0</td>\n",
              "      <td>1.0</td>\n",
              "      <td>2000.0</td>\n",
              "      <td>23000.0</td>\n",
              "    </tr>\n",
              "    <tr>\n",
              "      <th>2</th>\n",
              "      <td>300</td>\n",
              "      <td>xyz</td>\n",
              "      <td>15000.0</td>\n",
              "      <td>1000.0</td>\n",
              "      <td>1500.0</td>\n",
              "      <td>17250.0</td>\n",
              "    </tr>\n",
              "    <tr>\n",
              "      <th>3</th>\n",
              "      <td>400</td>\n",
              "      <td>rahul</td>\n",
              "      <td>30000.0</td>\n",
              "      <td>3.0</td>\n",
              "      <td>3000.0</td>\n",
              "      <td>34500.0</td>\n",
              "    </tr>\n",
              "    <tr>\n",
              "      <th>4</th>\n",
              "      <td>500</td>\n",
              "      <td>ram</td>\n",
              "      <td>20000.0</td>\n",
              "      <td>3.0</td>\n",
              "      <td>2000.0</td>\n",
              "      <td>23000.0</td>\n",
              "    </tr>\n",
              "  </tbody>\n",
              "</table>\n",
              "</div>"
            ],
            "text/plain": [
              "   eno  ename   salary  deptid   bonus  total_salary\n",
              "a  100  kumar  24000.0     1.0  2400.0       27600.0\n",
              "b  200   abcd  20000.0     1.0  2000.0       23000.0\n",
              "2  300    xyz  15000.0  1000.0  1500.0       17250.0\n",
              "3  400  rahul  30000.0     3.0  3000.0       34500.0\n",
              "4  500    ram  20000.0     3.0  2000.0       23000.0"
            ]
          },
          "execution_count": 93,
          "metadata": {},
          "output_type": "execute_result"
        }
      ],
      "source": [
        "#changing index names using rename()\n",
        "emp_df = emp_df.rename(index={0:'a', 1:'b'})\n",
        "\n",
        "emp_df.head(5)"
      ]
    },
    {
      "cell_type": "code",
      "execution_count": null,
      "id": "265aaf6a",
      "metadata": {
        "id": "265aaf6a",
        "outputId": "d6c17154-29d7-47a7-9605-52485bef2ed3"
      },
      "outputs": [
        {
          "data": {
            "text/plain": [
              "Index(['a', 'b', 2, 3, 4, 5], dtype='object')"
            ]
          },
          "execution_count": 94,
          "metadata": {},
          "output_type": "execute_result"
        }
      ],
      "source": [
        "emp_df.index"
      ]
    },
    {
      "cell_type": "code",
      "execution_count": null,
      "id": "2e289b08",
      "metadata": {
        "id": "2e289b08",
        "outputId": "7584da45-b086-4f4f-bc42-93bde40d1e71"
      },
      "outputs": [
        {
          "data": {
            "text/plain": [
              "a    False\n",
              "b    False\n",
              "2    False\n",
              "3    False\n",
              "4    False\n",
              "5    False\n",
              "dtype: bool"
            ]
          },
          "execution_count": 95,
          "metadata": {},
          "output_type": "execute_result"
        }
      ],
      "source": [
        "#finding duplicates\n",
        "emp_df.duplicated()"
      ]
    },
    {
      "cell_type": "code",
      "execution_count": null,
      "id": "773cf90c",
      "metadata": {
        "id": "773cf90c"
      },
      "outputs": [],
      "source": [
        "#deleting duplicates\n",
        "emp_df.drop_duplicates(inplace=True)"
      ]
    },
    {
      "cell_type": "code",
      "execution_count": null,
      "id": "0953b50c",
      "metadata": {
        "id": "0953b50c",
        "outputId": "17198c01-2541-48c6-c28d-fc215d9b83a0"
      },
      "outputs": [
        {
          "data": {
            "text/html": [
              "<div>\n",
              "<style scoped>\n",
              "    .dataframe tbody tr th:only-of-type {\n",
              "        vertical-align: middle;\n",
              "    }\n",
              "\n",
              "    .dataframe tbody tr th {\n",
              "        vertical-align: top;\n",
              "    }\n",
              "\n",
              "    .dataframe thead th {\n",
              "        text-align: right;\n",
              "    }\n",
              "</style>\n",
              "<table border=\"1\" class=\"dataframe\">\n",
              "  <thead>\n",
              "    <tr style=\"text-align: right;\">\n",
              "      <th></th>\n",
              "      <th>eno</th>\n",
              "      <th>ename</th>\n",
              "      <th>salary</th>\n",
              "      <th>deptid</th>\n",
              "      <th>bonus</th>\n",
              "      <th>total_salary</th>\n",
              "    </tr>\n",
              "  </thead>\n",
              "  <tbody>\n",
              "    <tr>\n",
              "      <th>a</th>\n",
              "      <td>100</td>\n",
              "      <td>kumar</td>\n",
              "      <td>24000.0</td>\n",
              "      <td>1.0</td>\n",
              "      <td>2400.0</td>\n",
              "      <td>27600.0</td>\n",
              "    </tr>\n",
              "    <tr>\n",
              "      <th>b</th>\n",
              "      <td>200</td>\n",
              "      <td>abcd</td>\n",
              "      <td>20000.0</td>\n",
              "      <td>1.0</td>\n",
              "      <td>2000.0</td>\n",
              "      <td>23000.0</td>\n",
              "    </tr>\n",
              "    <tr>\n",
              "      <th>2</th>\n",
              "      <td>300</td>\n",
              "      <td>xyz</td>\n",
              "      <td>15000.0</td>\n",
              "      <td>1000.0</td>\n",
              "      <td>1500.0</td>\n",
              "      <td>17250.0</td>\n",
              "    </tr>\n",
              "    <tr>\n",
              "      <th>3</th>\n",
              "      <td>400</td>\n",
              "      <td>rahul</td>\n",
              "      <td>30000.0</td>\n",
              "      <td>3.0</td>\n",
              "      <td>3000.0</td>\n",
              "      <td>34500.0</td>\n",
              "    </tr>\n",
              "    <tr>\n",
              "      <th>4</th>\n",
              "      <td>500</td>\n",
              "      <td>ram</td>\n",
              "      <td>20000.0</td>\n",
              "      <td>3.0</td>\n",
              "      <td>2000.0</td>\n",
              "      <td>23000.0</td>\n",
              "    </tr>\n",
              "    <tr>\n",
              "      <th>5</th>\n",
              "      <td>700</td>\n",
              "      <td>abcdefx</td>\n",
              "      <td>NaN</td>\n",
              "      <td>NaN</td>\n",
              "      <td>NaN</td>\n",
              "      <td>NaN</td>\n",
              "    </tr>\n",
              "  </tbody>\n",
              "</table>\n",
              "</div>"
            ],
            "text/plain": [
              "   eno    ename   salary  deptid   bonus  total_salary\n",
              "a  100    kumar  24000.0     1.0  2400.0       27600.0\n",
              "b  200     abcd  20000.0     1.0  2000.0       23000.0\n",
              "2  300      xyz  15000.0  1000.0  1500.0       17250.0\n",
              "3  400    rahul  30000.0     3.0  3000.0       34500.0\n",
              "4  500      ram  20000.0     3.0  2000.0       23000.0\n",
              "5  700  abcdefx      NaN     NaN     NaN           NaN"
            ]
          },
          "execution_count": 99,
          "metadata": {},
          "output_type": "execute_result"
        }
      ],
      "source": [
        "emp_df"
      ]
    },
    {
      "cell_type": "code",
      "execution_count": null,
      "id": "2e6c26d1",
      "metadata": {
        "id": "2e6c26d1",
        "outputId": "8cb2fca1-427f-4b76-8ddc-3de05948ed9b"
      },
      "outputs": [
        {
          "data": {
            "text/html": [
              "<div>\n",
              "<style scoped>\n",
              "    .dataframe tbody tr th:only-of-type {\n",
              "        vertical-align: middle;\n",
              "    }\n",
              "\n",
              "    .dataframe tbody tr th {\n",
              "        vertical-align: top;\n",
              "    }\n",
              "\n",
              "    .dataframe thead th {\n",
              "        text-align: right;\n",
              "    }\n",
              "</style>\n",
              "<table border=\"1\" class=\"dataframe\">\n",
              "  <thead>\n",
              "    <tr style=\"text-align: right;\">\n",
              "      <th></th>\n",
              "      <th>eno</th>\n",
              "      <th>ename</th>\n",
              "      <th>salary</th>\n",
              "      <th>deptid</th>\n",
              "      <th>bonus</th>\n",
              "      <th>total_salary</th>\n",
              "    </tr>\n",
              "  </thead>\n",
              "  <tbody>\n",
              "    <tr>\n",
              "      <th>2</th>\n",
              "      <td>300</td>\n",
              "      <td>xyz</td>\n",
              "      <td>15000.0</td>\n",
              "      <td>1000.0</td>\n",
              "      <td>1500.0</td>\n",
              "      <td>17250.0</td>\n",
              "    </tr>\n",
              "    <tr>\n",
              "      <th>b</th>\n",
              "      <td>200</td>\n",
              "      <td>abcd</td>\n",
              "      <td>20000.0</td>\n",
              "      <td>1.0</td>\n",
              "      <td>2000.0</td>\n",
              "      <td>23000.0</td>\n",
              "    </tr>\n",
              "    <tr>\n",
              "      <th>4</th>\n",
              "      <td>500</td>\n",
              "      <td>ram</td>\n",
              "      <td>20000.0</td>\n",
              "      <td>3.0</td>\n",
              "      <td>2000.0</td>\n",
              "      <td>23000.0</td>\n",
              "    </tr>\n",
              "    <tr>\n",
              "      <th>a</th>\n",
              "      <td>100</td>\n",
              "      <td>kumar</td>\n",
              "      <td>24000.0</td>\n",
              "      <td>1.0</td>\n",
              "      <td>2400.0</td>\n",
              "      <td>27600.0</td>\n",
              "    </tr>\n",
              "    <tr>\n",
              "      <th>3</th>\n",
              "      <td>400</td>\n",
              "      <td>rahul</td>\n",
              "      <td>30000.0</td>\n",
              "      <td>3.0</td>\n",
              "      <td>3000.0</td>\n",
              "      <td>34500.0</td>\n",
              "    </tr>\n",
              "    <tr>\n",
              "      <th>5</th>\n",
              "      <td>700</td>\n",
              "      <td>abcdefx</td>\n",
              "      <td>NaN</td>\n",
              "      <td>NaN</td>\n",
              "      <td>NaN</td>\n",
              "      <td>NaN</td>\n",
              "    </tr>\n",
              "  </tbody>\n",
              "</table>\n",
              "</div>"
            ],
            "text/plain": [
              "   eno    ename   salary  deptid   bonus  total_salary\n",
              "2  300      xyz  15000.0  1000.0  1500.0       17250.0\n",
              "b  200     abcd  20000.0     1.0  2000.0       23000.0\n",
              "4  500      ram  20000.0     3.0  2000.0       23000.0\n",
              "a  100    kumar  24000.0     1.0  2400.0       27600.0\n",
              "3  400    rahul  30000.0     3.0  3000.0       34500.0\n",
              "5  700  abcdefx      NaN     NaN     NaN           NaN"
            ]
          },
          "execution_count": 100,
          "metadata": {},
          "output_type": "execute_result"
        }
      ],
      "source": [
        "#sorting rows based on salary\n",
        "emp_df.sort_values(by='salary')"
      ]
    },
    {
      "cell_type": "code",
      "execution_count": null,
      "id": "6e0c518c",
      "metadata": {
        "id": "6e0c518c",
        "outputId": "b6ae7534-52df-47c7-ceea-99211e22f5ba"
      },
      "outputs": [
        {
          "data": {
            "text/html": [
              "<div>\n",
              "<style scoped>\n",
              "    .dataframe tbody tr th:only-of-type {\n",
              "        vertical-align: middle;\n",
              "    }\n",
              "\n",
              "    .dataframe tbody tr th {\n",
              "        vertical-align: top;\n",
              "    }\n",
              "\n",
              "    .dataframe thead th {\n",
              "        text-align: right;\n",
              "    }\n",
              "</style>\n",
              "<table border=\"1\" class=\"dataframe\">\n",
              "  <thead>\n",
              "    <tr style=\"text-align: right;\">\n",
              "      <th></th>\n",
              "      <th>eno</th>\n",
              "      <th>ename</th>\n",
              "      <th>salary</th>\n",
              "      <th>deptid</th>\n",
              "      <th>bonus</th>\n",
              "      <th>total_salary</th>\n",
              "    </tr>\n",
              "  </thead>\n",
              "  <tbody>\n",
              "    <tr>\n",
              "      <th>3</th>\n",
              "      <td>400</td>\n",
              "      <td>rahul</td>\n",
              "      <td>30000.0</td>\n",
              "      <td>3.0</td>\n",
              "      <td>3000.0</td>\n",
              "      <td>34500.0</td>\n",
              "    </tr>\n",
              "    <tr>\n",
              "      <th>a</th>\n",
              "      <td>100</td>\n",
              "      <td>kumar</td>\n",
              "      <td>24000.0</td>\n",
              "      <td>1.0</td>\n",
              "      <td>2400.0</td>\n",
              "      <td>27600.0</td>\n",
              "    </tr>\n",
              "    <tr>\n",
              "      <th>b</th>\n",
              "      <td>200</td>\n",
              "      <td>abcd</td>\n",
              "      <td>20000.0</td>\n",
              "      <td>1.0</td>\n",
              "      <td>2000.0</td>\n",
              "      <td>23000.0</td>\n",
              "    </tr>\n",
              "    <tr>\n",
              "      <th>4</th>\n",
              "      <td>500</td>\n",
              "      <td>ram</td>\n",
              "      <td>20000.0</td>\n",
              "      <td>3.0</td>\n",
              "      <td>2000.0</td>\n",
              "      <td>23000.0</td>\n",
              "    </tr>\n",
              "    <tr>\n",
              "      <th>2</th>\n",
              "      <td>300</td>\n",
              "      <td>xyz</td>\n",
              "      <td>15000.0</td>\n",
              "      <td>1000.0</td>\n",
              "      <td>1500.0</td>\n",
              "      <td>17250.0</td>\n",
              "    </tr>\n",
              "    <tr>\n",
              "      <th>5</th>\n",
              "      <td>700</td>\n",
              "      <td>abcdefx</td>\n",
              "      <td>NaN</td>\n",
              "      <td>NaN</td>\n",
              "      <td>NaN</td>\n",
              "      <td>NaN</td>\n",
              "    </tr>\n",
              "  </tbody>\n",
              "</table>\n",
              "</div>"
            ],
            "text/plain": [
              "   eno    ename   salary  deptid   bonus  total_salary\n",
              "3  400    rahul  30000.0     3.0  3000.0       34500.0\n",
              "a  100    kumar  24000.0     1.0  2400.0       27600.0\n",
              "b  200     abcd  20000.0     1.0  2000.0       23000.0\n",
              "4  500      ram  20000.0     3.0  2000.0       23000.0\n",
              "2  300      xyz  15000.0  1000.0  1500.0       17250.0\n",
              "5  700  abcdefx      NaN     NaN     NaN           NaN"
            ]
          },
          "execution_count": 101,
          "metadata": {},
          "output_type": "execute_result"
        }
      ],
      "source": [
        "#sorting rows based on salary decreasing order\n",
        "emp_df.sort_values(by='salary', ascending=False)"
      ]
    },
    {
      "cell_type": "code",
      "execution_count": null,
      "id": "12db4d5a",
      "metadata": {
        "id": "12db4d5a",
        "outputId": "495bdf28-21ce-432b-9e89-7fad7bd08d8e"
      },
      "outputs": [
        {
          "data": {
            "text/html": [
              "<div>\n",
              "<style scoped>\n",
              "    .dataframe tbody tr th:only-of-type {\n",
              "        vertical-align: middle;\n",
              "    }\n",
              "\n",
              "    .dataframe tbody tr th {\n",
              "        vertical-align: top;\n",
              "    }\n",
              "\n",
              "    .dataframe thead th {\n",
              "        text-align: right;\n",
              "    }\n",
              "</style>\n",
              "<table border=\"1\" class=\"dataframe\">\n",
              "  <thead>\n",
              "    <tr style=\"text-align: right;\">\n",
              "      <th></th>\n",
              "      <th>eno</th>\n",
              "      <th>ename</th>\n",
              "      <th>salary</th>\n",
              "      <th>deptid</th>\n",
              "      <th>bonus</th>\n",
              "      <th>total_salary</th>\n",
              "    </tr>\n",
              "  </thead>\n",
              "  <tbody>\n",
              "    <tr>\n",
              "      <th>2</th>\n",
              "      <td>300</td>\n",
              "      <td>xyz</td>\n",
              "      <td>15000.0</td>\n",
              "      <td>1000.0</td>\n",
              "      <td>1500.0</td>\n",
              "      <td>17250.0</td>\n",
              "    </tr>\n",
              "    <tr>\n",
              "      <th>3</th>\n",
              "      <td>400</td>\n",
              "      <td>rahul</td>\n",
              "      <td>30000.0</td>\n",
              "      <td>3.0</td>\n",
              "      <td>3000.0</td>\n",
              "      <td>34500.0</td>\n",
              "    </tr>\n",
              "    <tr>\n",
              "      <th>4</th>\n",
              "      <td>500</td>\n",
              "      <td>ram</td>\n",
              "      <td>20000.0</td>\n",
              "      <td>3.0</td>\n",
              "      <td>2000.0</td>\n",
              "      <td>23000.0</td>\n",
              "    </tr>\n",
              "    <tr>\n",
              "      <th>a</th>\n",
              "      <td>100</td>\n",
              "      <td>kumar</td>\n",
              "      <td>24000.0</td>\n",
              "      <td>1.0</td>\n",
              "      <td>2400.0</td>\n",
              "      <td>27600.0</td>\n",
              "    </tr>\n",
              "    <tr>\n",
              "      <th>b</th>\n",
              "      <td>200</td>\n",
              "      <td>abcd</td>\n",
              "      <td>20000.0</td>\n",
              "      <td>1.0</td>\n",
              "      <td>2000.0</td>\n",
              "      <td>23000.0</td>\n",
              "    </tr>\n",
              "    <tr>\n",
              "      <th>5</th>\n",
              "      <td>700</td>\n",
              "      <td>abcdefx</td>\n",
              "      <td>NaN</td>\n",
              "      <td>NaN</td>\n",
              "      <td>NaN</td>\n",
              "      <td>NaN</td>\n",
              "    </tr>\n",
              "  </tbody>\n",
              "</table>\n",
              "</div>"
            ],
            "text/plain": [
              "   eno    ename   salary  deptid   bonus  total_salary\n",
              "2  300      xyz  15000.0  1000.0  1500.0       17250.0\n",
              "3  400    rahul  30000.0     3.0  3000.0       34500.0\n",
              "4  500      ram  20000.0     3.0  2000.0       23000.0\n",
              "a  100    kumar  24000.0     1.0  2400.0       27600.0\n",
              "b  200     abcd  20000.0     1.0  2000.0       23000.0\n",
              "5  700  abcdefx      NaN     NaN     NaN           NaN"
            ]
          },
          "execution_count": 102,
          "metadata": {},
          "output_type": "execute_result"
        }
      ],
      "source": [
        "#sorting rows based on salary decreasing order\n",
        "emp_df.sort_values(by=['deptid','salary'], ascending=False)"
      ]
    },
    {
      "cell_type": "code",
      "execution_count": null,
      "id": "ab76b8bb",
      "metadata": {
        "id": "ab76b8bb",
        "outputId": "cfef3313-d8be-4fa0-c6cc-60f0559a6a98"
      },
      "outputs": [
        {
          "data": {
            "text/html": [
              "<div>\n",
              "<style scoped>\n",
              "    .dataframe tbody tr th:only-of-type {\n",
              "        vertical-align: middle;\n",
              "    }\n",
              "\n",
              "    .dataframe tbody tr th {\n",
              "        vertical-align: top;\n",
              "    }\n",
              "\n",
              "    .dataframe thead th {\n",
              "        text-align: right;\n",
              "    }\n",
              "</style>\n",
              "<table border=\"1\" class=\"dataframe\">\n",
              "  <thead>\n",
              "    <tr style=\"text-align: right;\">\n",
              "      <th></th>\n",
              "      <th>eno</th>\n",
              "      <th>ename</th>\n",
              "      <th>salary</th>\n",
              "      <th>deptid</th>\n",
              "      <th>bonus</th>\n",
              "      <th>total_salary</th>\n",
              "    </tr>\n",
              "  </thead>\n",
              "  <tbody>\n",
              "    <tr>\n",
              "      <th>a</th>\n",
              "      <td>True</td>\n",
              "      <td>True</td>\n",
              "      <td>True</td>\n",
              "      <td>True</td>\n",
              "      <td>True</td>\n",
              "      <td>True</td>\n",
              "    </tr>\n",
              "    <tr>\n",
              "      <th>b</th>\n",
              "      <td>True</td>\n",
              "      <td>True</td>\n",
              "      <td>True</td>\n",
              "      <td>True</td>\n",
              "      <td>True</td>\n",
              "      <td>True</td>\n",
              "    </tr>\n",
              "    <tr>\n",
              "      <th>2</th>\n",
              "      <td>True</td>\n",
              "      <td>True</td>\n",
              "      <td>True</td>\n",
              "      <td>True</td>\n",
              "      <td>True</td>\n",
              "      <td>True</td>\n",
              "    </tr>\n",
              "    <tr>\n",
              "      <th>3</th>\n",
              "      <td>True</td>\n",
              "      <td>True</td>\n",
              "      <td>True</td>\n",
              "      <td>True</td>\n",
              "      <td>True</td>\n",
              "      <td>True</td>\n",
              "    </tr>\n",
              "    <tr>\n",
              "      <th>4</th>\n",
              "      <td>True</td>\n",
              "      <td>True</td>\n",
              "      <td>True</td>\n",
              "      <td>True</td>\n",
              "      <td>True</td>\n",
              "      <td>True</td>\n",
              "    </tr>\n",
              "    <tr>\n",
              "      <th>5</th>\n",
              "      <td>True</td>\n",
              "      <td>True</td>\n",
              "      <td>False</td>\n",
              "      <td>False</td>\n",
              "      <td>False</td>\n",
              "      <td>False</td>\n",
              "    </tr>\n",
              "  </tbody>\n",
              "</table>\n",
              "</div>"
            ],
            "text/plain": [
              "    eno  ename  salary  deptid  bonus  total_salary\n",
              "a  True   True    True    True   True          True\n",
              "b  True   True    True    True   True          True\n",
              "2  True   True    True    True   True          True\n",
              "3  True   True    True    True   True          True\n",
              "4  True   True    True    True   True          True\n",
              "5  True   True   False   False  False         False"
            ]
          },
          "execution_count": 103,
          "metadata": {},
          "output_type": "execute_result"
        }
      ],
      "source": [
        "emp_df.notna()"
      ]
    },
    {
      "cell_type": "code",
      "execution_count": null,
      "id": "57723986",
      "metadata": {
        "id": "57723986"
      },
      "outputs": [],
      "source": [
        "#deletring rows with missing values\n",
        "emp_df_wona = emp_df.dropna()"
      ]
    },
    {
      "cell_type": "code",
      "execution_count": null,
      "id": "8558bd80",
      "metadata": {
        "id": "8558bd80",
        "outputId": "25940b37-ed4f-4921-8e45-4a4c92caa380"
      },
      "outputs": [
        {
          "data": {
            "text/html": [
              "<div>\n",
              "<style scoped>\n",
              "    .dataframe tbody tr th:only-of-type {\n",
              "        vertical-align: middle;\n",
              "    }\n",
              "\n",
              "    .dataframe tbody tr th {\n",
              "        vertical-align: top;\n",
              "    }\n",
              "\n",
              "    .dataframe thead th {\n",
              "        text-align: right;\n",
              "    }\n",
              "</style>\n",
              "<table border=\"1\" class=\"dataframe\">\n",
              "  <thead>\n",
              "    <tr style=\"text-align: right;\">\n",
              "      <th></th>\n",
              "      <th>eno</th>\n",
              "      <th>ename</th>\n",
              "      <th>salary</th>\n",
              "      <th>deptid</th>\n",
              "      <th>bonus</th>\n",
              "      <th>total_salary</th>\n",
              "    </tr>\n",
              "  </thead>\n",
              "  <tbody>\n",
              "    <tr>\n",
              "      <th>a</th>\n",
              "      <td>100</td>\n",
              "      <td>kumar</td>\n",
              "      <td>24000.0</td>\n",
              "      <td>1.0</td>\n",
              "      <td>2400.0</td>\n",
              "      <td>27600.0</td>\n",
              "    </tr>\n",
              "    <tr>\n",
              "      <th>b</th>\n",
              "      <td>200</td>\n",
              "      <td>abcd</td>\n",
              "      <td>20000.0</td>\n",
              "      <td>1.0</td>\n",
              "      <td>2000.0</td>\n",
              "      <td>23000.0</td>\n",
              "    </tr>\n",
              "    <tr>\n",
              "      <th>2</th>\n",
              "      <td>300</td>\n",
              "      <td>xyz</td>\n",
              "      <td>15000.0</td>\n",
              "      <td>1000.0</td>\n",
              "      <td>1500.0</td>\n",
              "      <td>17250.0</td>\n",
              "    </tr>\n",
              "    <tr>\n",
              "      <th>3</th>\n",
              "      <td>400</td>\n",
              "      <td>rahul</td>\n",
              "      <td>30000.0</td>\n",
              "      <td>3.0</td>\n",
              "      <td>3000.0</td>\n",
              "      <td>34500.0</td>\n",
              "    </tr>\n",
              "    <tr>\n",
              "      <th>4</th>\n",
              "      <td>500</td>\n",
              "      <td>ram</td>\n",
              "      <td>20000.0</td>\n",
              "      <td>3.0</td>\n",
              "      <td>2000.0</td>\n",
              "      <td>23000.0</td>\n",
              "    </tr>\n",
              "    <tr>\n",
              "      <th>5</th>\n",
              "      <td>700</td>\n",
              "      <td>abcdefx</td>\n",
              "      <td>NaN</td>\n",
              "      <td>NaN</td>\n",
              "      <td>NaN</td>\n",
              "      <td>NaN</td>\n",
              "    </tr>\n",
              "  </tbody>\n",
              "</table>\n",
              "</div>"
            ],
            "text/plain": [
              "   eno    ename   salary  deptid   bonus  total_salary\n",
              "a  100    kumar  24000.0     1.0  2400.0       27600.0\n",
              "b  200     abcd  20000.0     1.0  2000.0       23000.0\n",
              "2  300      xyz  15000.0  1000.0  1500.0       17250.0\n",
              "3  400    rahul  30000.0     3.0  3000.0       34500.0\n",
              "4  500      ram  20000.0     3.0  2000.0       23000.0\n",
              "5  700  abcdefx      NaN     NaN     NaN           NaN"
            ]
          },
          "execution_count": 106,
          "metadata": {},
          "output_type": "execute_result"
        }
      ],
      "source": [
        "#deletring rows with missing values more than 1\n",
        "emp_df.dropna(thresh=2)"
      ]
    },
    {
      "cell_type": "code",
      "execution_count": null,
      "id": "834bdd9d",
      "metadata": {
        "id": "834bdd9d",
        "outputId": "6dbad6ef-8e3f-4a11-d2a9-d75936735072"
      },
      "outputs": [
        {
          "data": {
            "text/html": [
              "<div>\n",
              "<style scoped>\n",
              "    .dataframe tbody tr th:only-of-type {\n",
              "        vertical-align: middle;\n",
              "    }\n",
              "\n",
              "    .dataframe tbody tr th {\n",
              "        vertical-align: top;\n",
              "    }\n",
              "\n",
              "    .dataframe thead th {\n",
              "        text-align: right;\n",
              "    }\n",
              "</style>\n",
              "<table border=\"1\" class=\"dataframe\">\n",
              "  <thead>\n",
              "    <tr style=\"text-align: right;\">\n",
              "      <th></th>\n",
              "      <th>eno</th>\n",
              "      <th>ename</th>\n",
              "      <th>salary</th>\n",
              "      <th>deptid</th>\n",
              "      <th>bonus</th>\n",
              "      <th>total_salary</th>\n",
              "    </tr>\n",
              "  </thead>\n",
              "  <tbody>\n",
              "    <tr>\n",
              "      <th>a</th>\n",
              "      <td>100</td>\n",
              "      <td>kumar</td>\n",
              "      <td>24000.0</td>\n",
              "      <td>1.0</td>\n",
              "      <td>2400.0</td>\n",
              "      <td>27600.0</td>\n",
              "    </tr>\n",
              "    <tr>\n",
              "      <th>b</th>\n",
              "      <td>200</td>\n",
              "      <td>abcd</td>\n",
              "      <td>20000.0</td>\n",
              "      <td>1.0</td>\n",
              "      <td>2000.0</td>\n",
              "      <td>23000.0</td>\n",
              "    </tr>\n",
              "    <tr>\n",
              "      <th>2</th>\n",
              "      <td>300</td>\n",
              "      <td>xyz</td>\n",
              "      <td>15000.0</td>\n",
              "      <td>1000.0</td>\n",
              "      <td>1500.0</td>\n",
              "      <td>17250.0</td>\n",
              "    </tr>\n",
              "    <tr>\n",
              "      <th>3</th>\n",
              "      <td>400</td>\n",
              "      <td>rahul</td>\n",
              "      <td>30000.0</td>\n",
              "      <td>3.0</td>\n",
              "      <td>3000.0</td>\n",
              "      <td>34500.0</td>\n",
              "    </tr>\n",
              "    <tr>\n",
              "      <th>4</th>\n",
              "      <td>500</td>\n",
              "      <td>ram</td>\n",
              "      <td>20000.0</td>\n",
              "      <td>3.0</td>\n",
              "      <td>2000.0</td>\n",
              "      <td>23000.0</td>\n",
              "    </tr>\n",
              "    <tr>\n",
              "      <th>5</th>\n",
              "      <td>700</td>\n",
              "      <td>abcdefx</td>\n",
              "      <td>NaN</td>\n",
              "      <td>NaN</td>\n",
              "      <td>NaN</td>\n",
              "      <td>NaN</td>\n",
              "    </tr>\n",
              "  </tbody>\n",
              "</table>\n",
              "</div>"
            ],
            "text/plain": [
              "   eno    ename   salary  deptid   bonus  total_salary\n",
              "a  100    kumar  24000.0     1.0  2400.0       27600.0\n",
              "b  200     abcd  20000.0     1.0  2000.0       23000.0\n",
              "2  300      xyz  15000.0  1000.0  1500.0       17250.0\n",
              "3  400    rahul  30000.0     3.0  3000.0       34500.0\n",
              "4  500      ram  20000.0     3.0  2000.0       23000.0\n",
              "5  700  abcdefx      NaN     NaN     NaN           NaN"
            ]
          },
          "execution_count": 107,
          "metadata": {},
          "output_type": "execute_result"
        }
      ],
      "source": [
        "emp_df"
      ]
    },
    {
      "cell_type": "code",
      "execution_count": null,
      "id": "c06d4532",
      "metadata": {
        "id": "c06d4532",
        "outputId": "99d4f19e-a954-4f67-947b-2a04d3a64b69"
      },
      "outputs": [
        {
          "data": {
            "text/html": [
              "<div>\n",
              "<style scoped>\n",
              "    .dataframe tbody tr th:only-of-type {\n",
              "        vertical-align: middle;\n",
              "    }\n",
              "\n",
              "    .dataframe tbody tr th {\n",
              "        vertical-align: top;\n",
              "    }\n",
              "\n",
              "    .dataframe thead th {\n",
              "        text-align: right;\n",
              "    }\n",
              "</style>\n",
              "<table border=\"1\" class=\"dataframe\">\n",
              "  <thead>\n",
              "    <tr style=\"text-align: right;\">\n",
              "      <th></th>\n",
              "      <th>eno</th>\n",
              "      <th>ename</th>\n",
              "      <th>salary</th>\n",
              "      <th>deptid</th>\n",
              "      <th>bonus</th>\n",
              "      <th>total_salary</th>\n",
              "    </tr>\n",
              "  </thead>\n",
              "  <tbody>\n",
              "    <tr>\n",
              "      <th>a</th>\n",
              "      <td>100</td>\n",
              "      <td>kumar</td>\n",
              "      <td>24000.0</td>\n",
              "      <td>1.0</td>\n",
              "      <td>2400.0</td>\n",
              "      <td>27600.0</td>\n",
              "    </tr>\n",
              "    <tr>\n",
              "      <th>b</th>\n",
              "      <td>200</td>\n",
              "      <td>abcd</td>\n",
              "      <td>20000.0</td>\n",
              "      <td>1.0</td>\n",
              "      <td>2000.0</td>\n",
              "      <td>23000.0</td>\n",
              "    </tr>\n",
              "    <tr>\n",
              "      <th>2</th>\n",
              "      <td>300</td>\n",
              "      <td>xyz</td>\n",
              "      <td>15000.0</td>\n",
              "      <td>1000.0</td>\n",
              "      <td>1500.0</td>\n",
              "      <td>17250.0</td>\n",
              "    </tr>\n",
              "    <tr>\n",
              "      <th>3</th>\n",
              "      <td>400</td>\n",
              "      <td>rahul</td>\n",
              "      <td>30000.0</td>\n",
              "      <td>3.0</td>\n",
              "      <td>3000.0</td>\n",
              "      <td>34500.0</td>\n",
              "    </tr>\n",
              "    <tr>\n",
              "      <th>4</th>\n",
              "      <td>500</td>\n",
              "      <td>ram</td>\n",
              "      <td>20000.0</td>\n",
              "      <td>3.0</td>\n",
              "      <td>2000.0</td>\n",
              "      <td>23000.0</td>\n",
              "    </tr>\n",
              "  </tbody>\n",
              "</table>\n",
              "</div>"
            ],
            "text/plain": [
              "   eno  ename   salary  deptid   bonus  total_salary\n",
              "a  100  kumar  24000.0     1.0  2400.0       27600.0\n",
              "b  200   abcd  20000.0     1.0  2000.0       23000.0\n",
              "2  300    xyz  15000.0  1000.0  1500.0       17250.0\n",
              "3  400  rahul  30000.0     3.0  3000.0       34500.0\n",
              "4  500    ram  20000.0     3.0  2000.0       23000.0"
            ]
          },
          "execution_count": 109,
          "metadata": {},
          "output_type": "execute_result"
        }
      ],
      "source": [
        "emp_df_wona"
      ]
    },
    {
      "cell_type": "code",
      "execution_count": null,
      "id": "28630f40",
      "metadata": {
        "id": "28630f40",
        "outputId": "c4fa706a-8152-4519-b126-dec1280bd37d"
      },
      "outputs": [
        {
          "data": {
            "text/html": [
              "<div>\n",
              "<style scoped>\n",
              "    .dataframe tbody tr th:only-of-type {\n",
              "        vertical-align: middle;\n",
              "    }\n",
              "\n",
              "    .dataframe tbody tr th {\n",
              "        vertical-align: top;\n",
              "    }\n",
              "\n",
              "    .dataframe thead th {\n",
              "        text-align: right;\n",
              "    }\n",
              "</style>\n",
              "<table border=\"1\" class=\"dataframe\">\n",
              "  <thead>\n",
              "    <tr style=\"text-align: right;\">\n",
              "      <th></th>\n",
              "      <th>eno</th>\n",
              "      <th>ename</th>\n",
              "      <th>salary</th>\n",
              "      <th>deptid</th>\n",
              "      <th>bonus</th>\n",
              "      <th>total_salary</th>\n",
              "    </tr>\n",
              "  </thead>\n",
              "  <tbody>\n",
              "    <tr>\n",
              "      <th>a</th>\n",
              "      <td>100</td>\n",
              "      <td>kumar</td>\n",
              "      <td>24000.0</td>\n",
              "      <td>1.0</td>\n",
              "      <td>2400.0</td>\n",
              "      <td>27600.0</td>\n",
              "    </tr>\n",
              "    <tr>\n",
              "      <th>b</th>\n",
              "      <td>200</td>\n",
              "      <td>abcd</td>\n",
              "      <td>20000.0</td>\n",
              "      <td>1.0</td>\n",
              "      <td>2000.0</td>\n",
              "      <td>23000.0</td>\n",
              "    </tr>\n",
              "    <tr>\n",
              "      <th>2</th>\n",
              "      <td>300</td>\n",
              "      <td>xyz</td>\n",
              "      <td>15000.0</td>\n",
              "      <td>1000.0</td>\n",
              "      <td>1500.0</td>\n",
              "      <td>17250.0</td>\n",
              "    </tr>\n",
              "    <tr>\n",
              "      <th>3</th>\n",
              "      <td>400</td>\n",
              "      <td>rahul</td>\n",
              "      <td>30000.0</td>\n",
              "      <td>3.0</td>\n",
              "      <td>3000.0</td>\n",
              "      <td>34500.0</td>\n",
              "    </tr>\n",
              "    <tr>\n",
              "      <th>4</th>\n",
              "      <td>500</td>\n",
              "      <td>ram</td>\n",
              "      <td>20000.0</td>\n",
              "      <td>3.0</td>\n",
              "      <td>2000.0</td>\n",
              "      <td>23000.0</td>\n",
              "    </tr>\n",
              "    <tr>\n",
              "      <th>5</th>\n",
              "      <td>700</td>\n",
              "      <td>abcdefx</td>\n",
              "      <td>1500.0</td>\n",
              "      <td>1500.0</td>\n",
              "      <td>1500.0</td>\n",
              "      <td>1500.0</td>\n",
              "    </tr>\n",
              "  </tbody>\n",
              "</table>\n",
              "</div>"
            ],
            "text/plain": [
              "   eno    ename   salary  deptid   bonus  total_salary\n",
              "a  100    kumar  24000.0     1.0  2400.0       27600.0\n",
              "b  200     abcd  20000.0     1.0  2000.0       23000.0\n",
              "2  300      xyz  15000.0  1000.0  1500.0       17250.0\n",
              "3  400    rahul  30000.0     3.0  3000.0       34500.0\n",
              "4  500      ram  20000.0     3.0  2000.0       23000.0\n",
              "5  700  abcdefx   1500.0  1500.0  1500.0        1500.0"
            ]
          },
          "execution_count": 110,
          "metadata": {},
          "output_type": "execute_result"
        }
      ],
      "source": [
        "#replacing missing values with 1500\n",
        "emp_df.fillna(1500)"
      ]
    },
    {
      "cell_type": "code",
      "execution_count": null,
      "id": "78deafa0",
      "metadata": {
        "id": "78deafa0",
        "outputId": "b38392d6-6634-4dd6-b5dc-d97d89328efa"
      },
      "outputs": [
        {
          "data": {
            "text/html": [
              "<div>\n",
              "<style scoped>\n",
              "    .dataframe tbody tr th:only-of-type {\n",
              "        vertical-align: middle;\n",
              "    }\n",
              "\n",
              "    .dataframe tbody tr th {\n",
              "        vertical-align: top;\n",
              "    }\n",
              "\n",
              "    .dataframe thead th {\n",
              "        text-align: right;\n",
              "    }\n",
              "</style>\n",
              "<table border=\"1\" class=\"dataframe\">\n",
              "  <thead>\n",
              "    <tr style=\"text-align: right;\">\n",
              "      <th></th>\n",
              "      <th>eno</th>\n",
              "      <th>ename</th>\n",
              "      <th>salary</th>\n",
              "      <th>deptid</th>\n",
              "      <th>bonus</th>\n",
              "      <th>total_salary</th>\n",
              "    </tr>\n",
              "  </thead>\n",
              "  <tbody>\n",
              "    <tr>\n",
              "      <th>a</th>\n",
              "      <td>100</td>\n",
              "      <td>kumar</td>\n",
              "      <td>24000.0</td>\n",
              "      <td>1.0</td>\n",
              "      <td>2400.0</td>\n",
              "      <td>27600.0</td>\n",
              "    </tr>\n",
              "    <tr>\n",
              "      <th>b</th>\n",
              "      <td>200</td>\n",
              "      <td>abcd</td>\n",
              "      <td>20000.0</td>\n",
              "      <td>1.0</td>\n",
              "      <td>2000.0</td>\n",
              "      <td>23000.0</td>\n",
              "    </tr>\n",
              "    <tr>\n",
              "      <th>2</th>\n",
              "      <td>300</td>\n",
              "      <td>xyz</td>\n",
              "      <td>15000.0</td>\n",
              "      <td>1000.0</td>\n",
              "      <td>1500.0</td>\n",
              "      <td>17250.0</td>\n",
              "    </tr>\n",
              "    <tr>\n",
              "      <th>3</th>\n",
              "      <td>400</td>\n",
              "      <td>rahul</td>\n",
              "      <td>30000.0</td>\n",
              "      <td>3.0</td>\n",
              "      <td>3000.0</td>\n",
              "      <td>34500.0</td>\n",
              "    </tr>\n",
              "    <tr>\n",
              "      <th>4</th>\n",
              "      <td>500</td>\n",
              "      <td>ram</td>\n",
              "      <td>20000.0</td>\n",
              "      <td>3.0</td>\n",
              "      <td>2000.0</td>\n",
              "      <td>23000.0</td>\n",
              "    </tr>\n",
              "    <tr>\n",
              "      <th>5</th>\n",
              "      <td>700</td>\n",
              "      <td>abcdefx</td>\n",
              "      <td>21800.0</td>\n",
              "      <td>21800.0</td>\n",
              "      <td>21800.0</td>\n",
              "      <td>21800.0</td>\n",
              "    </tr>\n",
              "  </tbody>\n",
              "</table>\n",
              "</div>"
            ],
            "text/plain": [
              "   eno    ename   salary   deptid    bonus  total_salary\n",
              "a  100    kumar  24000.0      1.0   2400.0       27600.0\n",
              "b  200     abcd  20000.0      1.0   2000.0       23000.0\n",
              "2  300      xyz  15000.0   1000.0   1500.0       17250.0\n",
              "3  400    rahul  30000.0      3.0   3000.0       34500.0\n",
              "4  500      ram  20000.0      3.0   2000.0       23000.0\n",
              "5  700  abcdefx  21800.0  21800.0  21800.0       21800.0"
            ]
          },
          "execution_count": 111,
          "metadata": {},
          "output_type": "execute_result"
        }
      ],
      "source": [
        "#replacing missing values with mean\n",
        "emp_df.fillna(emp_df['salary'].mean())"
      ]
    },
    {
      "cell_type": "code",
      "execution_count": null,
      "id": "7dcfe15e",
      "metadata": {
        "id": "7dcfe15e",
        "outputId": "9b38f097-8487-42c1-d0eb-f4f6ad8555ee"
      },
      "outputs": [
        {
          "name": "stderr",
          "output_type": "stream",
          "text": [
            "C:\\Users\\HP\\AppData\\Local\\Temp\\ipykernel_94100\\2844951151.py:2: FutureWarning: Dropping of nuisance columns in DataFrame reductions (with 'numeric_only=None') is deprecated; in a future version this will raise TypeError.  Select only valid columns before calling the reduction.\n",
            "  emp_df.fillna(emp_df.mean())\n"
          ]
        },
        {
          "data": {
            "text/html": [
              "<div>\n",
              "<style scoped>\n",
              "    .dataframe tbody tr th:only-of-type {\n",
              "        vertical-align: middle;\n",
              "    }\n",
              "\n",
              "    .dataframe tbody tr th {\n",
              "        vertical-align: top;\n",
              "    }\n",
              "\n",
              "    .dataframe thead th {\n",
              "        text-align: right;\n",
              "    }\n",
              "</style>\n",
              "<table border=\"1\" class=\"dataframe\">\n",
              "  <thead>\n",
              "    <tr style=\"text-align: right;\">\n",
              "      <th></th>\n",
              "      <th>eno</th>\n",
              "      <th>ename</th>\n",
              "      <th>salary</th>\n",
              "      <th>deptid</th>\n",
              "      <th>bonus</th>\n",
              "      <th>total_salary</th>\n",
              "    </tr>\n",
              "  </thead>\n",
              "  <tbody>\n",
              "    <tr>\n",
              "      <th>a</th>\n",
              "      <td>100</td>\n",
              "      <td>kumar</td>\n",
              "      <td>24000.0</td>\n",
              "      <td>1.0</td>\n",
              "      <td>2400.0</td>\n",
              "      <td>27600.0</td>\n",
              "    </tr>\n",
              "    <tr>\n",
              "      <th>b</th>\n",
              "      <td>200</td>\n",
              "      <td>abcd</td>\n",
              "      <td>20000.0</td>\n",
              "      <td>1.0</td>\n",
              "      <td>2000.0</td>\n",
              "      <td>23000.0</td>\n",
              "    </tr>\n",
              "    <tr>\n",
              "      <th>2</th>\n",
              "      <td>300</td>\n",
              "      <td>xyz</td>\n",
              "      <td>15000.0</td>\n",
              "      <td>1000.0</td>\n",
              "      <td>1500.0</td>\n",
              "      <td>17250.0</td>\n",
              "    </tr>\n",
              "    <tr>\n",
              "      <th>3</th>\n",
              "      <td>400</td>\n",
              "      <td>rahul</td>\n",
              "      <td>30000.0</td>\n",
              "      <td>3.0</td>\n",
              "      <td>3000.0</td>\n",
              "      <td>34500.0</td>\n",
              "    </tr>\n",
              "    <tr>\n",
              "      <th>4</th>\n",
              "      <td>500</td>\n",
              "      <td>ram</td>\n",
              "      <td>20000.0</td>\n",
              "      <td>3.0</td>\n",
              "      <td>2000.0</td>\n",
              "      <td>23000.0</td>\n",
              "    </tr>\n",
              "    <tr>\n",
              "      <th>5</th>\n",
              "      <td>700</td>\n",
              "      <td>abcdefx</td>\n",
              "      <td>21800.0</td>\n",
              "      <td>201.6</td>\n",
              "      <td>2180.0</td>\n",
              "      <td>25070.0</td>\n",
              "    </tr>\n",
              "  </tbody>\n",
              "</table>\n",
              "</div>"
            ],
            "text/plain": [
              "   eno    ename   salary  deptid   bonus  total_salary\n",
              "a  100    kumar  24000.0     1.0  2400.0       27600.0\n",
              "b  200     abcd  20000.0     1.0  2000.0       23000.0\n",
              "2  300      xyz  15000.0  1000.0  1500.0       17250.0\n",
              "3  400    rahul  30000.0     3.0  3000.0       34500.0\n",
              "4  500      ram  20000.0     3.0  2000.0       23000.0\n",
              "5  700  abcdefx  21800.0   201.6  2180.0       25070.0"
            ]
          },
          "execution_count": 112,
          "metadata": {},
          "output_type": "execute_result"
        }
      ],
      "source": [
        "#replacing missing values with mean\n",
        "emp_df.fillna(emp_df.mean())"
      ]
    },
    {
      "cell_type": "code",
      "execution_count": null,
      "id": "6eebf2dc",
      "metadata": {
        "id": "6eebf2dc",
        "outputId": "86930036-2dac-4788-dcb8-d32967cbf94f"
      },
      "outputs": [
        {
          "data": {
            "text/html": [
              "<div>\n",
              "<style scoped>\n",
              "    .dataframe tbody tr th:only-of-type {\n",
              "        vertical-align: middle;\n",
              "    }\n",
              "\n",
              "    .dataframe tbody tr th {\n",
              "        vertical-align: top;\n",
              "    }\n",
              "\n",
              "    .dataframe thead th {\n",
              "        text-align: right;\n",
              "    }\n",
              "</style>\n",
              "<table border=\"1\" class=\"dataframe\">\n",
              "  <thead>\n",
              "    <tr style=\"text-align: right;\">\n",
              "      <th></th>\n",
              "      <th>eno</th>\n",
              "      <th>ename</th>\n",
              "      <th>salary</th>\n",
              "      <th>deptid</th>\n",
              "      <th>bonus</th>\n",
              "      <th>total_salary</th>\n",
              "    </tr>\n",
              "  </thead>\n",
              "  <tbody>\n",
              "    <tr>\n",
              "      <th>a</th>\n",
              "      <td>100</td>\n",
              "      <td>kumar</td>\n",
              "      <td>24000.0</td>\n",
              "      <td>1.0</td>\n",
              "      <td>2400.0</td>\n",
              "      <td>27600.0</td>\n",
              "    </tr>\n",
              "    <tr>\n",
              "      <th>b</th>\n",
              "      <td>200</td>\n",
              "      <td>abcd</td>\n",
              "      <td>20000.0</td>\n",
              "      <td>1.0</td>\n",
              "      <td>2000.0</td>\n",
              "      <td>23000.0</td>\n",
              "    </tr>\n",
              "    <tr>\n",
              "      <th>2</th>\n",
              "      <td>300</td>\n",
              "      <td>xyz</td>\n",
              "      <td>15000.0</td>\n",
              "      <td>1000.0</td>\n",
              "      <td>1500.0</td>\n",
              "      <td>17250.0</td>\n",
              "    </tr>\n",
              "    <tr>\n",
              "      <th>3</th>\n",
              "      <td>400</td>\n",
              "      <td>rahul</td>\n",
              "      <td>30000.0</td>\n",
              "      <td>3.0</td>\n",
              "      <td>3000.0</td>\n",
              "      <td>34500.0</td>\n",
              "    </tr>\n",
              "    <tr>\n",
              "      <th>4</th>\n",
              "      <td>500</td>\n",
              "      <td>ram</td>\n",
              "      <td>20000.0</td>\n",
              "      <td>3.0</td>\n",
              "      <td>2000.0</td>\n",
              "      <td>23000.0</td>\n",
              "    </tr>\n",
              "    <tr>\n",
              "      <th>5</th>\n",
              "      <td>700</td>\n",
              "      <td>abcdefx</td>\n",
              "      <td>20000.0</td>\n",
              "      <td>3.0</td>\n",
              "      <td>2000.0</td>\n",
              "      <td>23000.0</td>\n",
              "    </tr>\n",
              "  </tbody>\n",
              "</table>\n",
              "</div>"
            ],
            "text/plain": [
              "   eno    ename   salary  deptid   bonus  total_salary\n",
              "a  100    kumar  24000.0     1.0  2400.0       27600.0\n",
              "b  200     abcd  20000.0     1.0  2000.0       23000.0\n",
              "2  300      xyz  15000.0  1000.0  1500.0       17250.0\n",
              "3  400    rahul  30000.0     3.0  3000.0       34500.0\n",
              "4  500      ram  20000.0     3.0  2000.0       23000.0\n",
              "5  700  abcdefx  20000.0     3.0  2000.0       23000.0"
            ]
          },
          "execution_count": 114,
          "metadata": {},
          "output_type": "execute_result"
        }
      ],
      "source": [
        "#replacing missing value with forward fill\n",
        "emp_df.fillna(method='ffill')"
      ]
    },
    {
      "cell_type": "code",
      "execution_count": null,
      "id": "a8c1b107",
      "metadata": {
        "id": "a8c1b107",
        "outputId": "0c67d019-7819-402d-f298-e9c2bcdcb197"
      },
      "outputs": [
        {
          "data": {
            "text/html": [
              "<div>\n",
              "<style scoped>\n",
              "    .dataframe tbody tr th:only-of-type {\n",
              "        vertical-align: middle;\n",
              "    }\n",
              "\n",
              "    .dataframe tbody tr th {\n",
              "        vertical-align: top;\n",
              "    }\n",
              "\n",
              "    .dataframe thead th {\n",
              "        text-align: right;\n",
              "    }\n",
              "</style>\n",
              "<table border=\"1\" class=\"dataframe\">\n",
              "  <thead>\n",
              "    <tr style=\"text-align: right;\">\n",
              "      <th></th>\n",
              "      <th>eno</th>\n",
              "      <th>ename</th>\n",
              "      <th>salary</th>\n",
              "      <th>deptid</th>\n",
              "      <th>bonus</th>\n",
              "      <th>total_salary</th>\n",
              "    </tr>\n",
              "  </thead>\n",
              "  <tbody>\n",
              "    <tr>\n",
              "      <th>a</th>\n",
              "      <td>100</td>\n",
              "      <td>kumar</td>\n",
              "      <td>24000.0</td>\n",
              "      <td>1.0</td>\n",
              "      <td>2400.0</td>\n",
              "      <td>27600.0</td>\n",
              "    </tr>\n",
              "    <tr>\n",
              "      <th>b</th>\n",
              "      <td>200</td>\n",
              "      <td>abcd</td>\n",
              "      <td>20000.0</td>\n",
              "      <td>1.0</td>\n",
              "      <td>2000.0</td>\n",
              "      <td>23000.0</td>\n",
              "    </tr>\n",
              "    <tr>\n",
              "      <th>2</th>\n",
              "      <td>300</td>\n",
              "      <td>xyz</td>\n",
              "      <td>15000.0</td>\n",
              "      <td>1000.0</td>\n",
              "      <td>1500.0</td>\n",
              "      <td>17250.0</td>\n",
              "    </tr>\n",
              "    <tr>\n",
              "      <th>3</th>\n",
              "      <td>400</td>\n",
              "      <td>rahul</td>\n",
              "      <td>30000.0</td>\n",
              "      <td>3.0</td>\n",
              "      <td>3000.0</td>\n",
              "      <td>34500.0</td>\n",
              "    </tr>\n",
              "    <tr>\n",
              "      <th>4</th>\n",
              "      <td>500</td>\n",
              "      <td>ram</td>\n",
              "      <td>20000.0</td>\n",
              "      <td>3.0</td>\n",
              "      <td>2000.0</td>\n",
              "      <td>23000.0</td>\n",
              "    </tr>\n",
              "    <tr>\n",
              "      <th>5</th>\n",
              "      <td>700</td>\n",
              "      <td>abcdefx</td>\n",
              "      <td>NaN</td>\n",
              "      <td>NaN</td>\n",
              "      <td>NaN</td>\n",
              "      <td>NaN</td>\n",
              "    </tr>\n",
              "  </tbody>\n",
              "</table>\n",
              "</div>"
            ],
            "text/plain": [
              "   eno    ename   salary  deptid   bonus  total_salary\n",
              "a  100    kumar  24000.0     1.0  2400.0       27600.0\n",
              "b  200     abcd  20000.0     1.0  2000.0       23000.0\n",
              "2  300      xyz  15000.0  1000.0  1500.0       17250.0\n",
              "3  400    rahul  30000.0     3.0  3000.0       34500.0\n",
              "4  500      ram  20000.0     3.0  2000.0       23000.0\n",
              "5  700  abcdefx      NaN     NaN     NaN           NaN"
            ]
          },
          "execution_count": 115,
          "metadata": {},
          "output_type": "execute_result"
        }
      ],
      "source": [
        "#replacing missing value with backward fill\n",
        "emp_df.fillna(method='bfill')"
      ]
    },
    {
      "cell_type": "code",
      "execution_count": null,
      "id": "7f4d913e",
      "metadata": {
        "id": "7f4d913e"
      },
      "outputs": [],
      "source": [
        "#creating groups based on deptid\n",
        "emp_df_group_depid = emp_df.groupby(by='deptid')"
      ]
    },
    {
      "cell_type": "code",
      "execution_count": null,
      "id": "aec4bb6d",
      "metadata": {
        "id": "aec4bb6d",
        "outputId": "49a593be-2f5b-4348-8f26-8355696a2224"
      },
      "outputs": [
        {
          "data": {
            "text/plain": [
              "'deptid'"
            ]
          },
          "execution_count": 119,
          "metadata": {},
          "output_type": "execute_result"
        }
      ],
      "source": [
        "#finding group key\n",
        "emp_df_group_depid.keys"
      ]
    },
    {
      "cell_type": "code",
      "execution_count": null,
      "id": "db222ec1",
      "metadata": {
        "id": "db222ec1",
        "outputId": "b73a0f5c-1102-4c7c-acae-b583a80f3266"
      },
      "outputs": [
        {
          "data": {
            "text/plain": [
              "{1.0: ['a', 'b'], 3.0: [3, 4], 1000.0: [2]}"
            ]
          },
          "execution_count": 120,
          "metadata": {},
          "output_type": "execute_result"
        }
      ],
      "source": [
        "#finding group\n",
        "emp_df_group_depid.groups"
      ]
    },
    {
      "cell_type": "code",
      "execution_count": null,
      "id": "ee162321",
      "metadata": {
        "id": "ee162321",
        "outputId": "24e3e616-eeba-4416-ad7c-1cb74863d4f5"
      },
      "outputs": [
        {
          "data": {
            "text/plain": [
              "{100: ['a'], 200: ['b'], 300: [2], 400: [3], 500: [4], 700: [5]}"
            ]
          },
          "execution_count": 121,
          "metadata": {},
          "output_type": "execute_result"
        }
      ],
      "source": [
        "#creating groups based on eno\n",
        "emp_df_group_eno = emp_df.groupby(by='eno')\n",
        "emp_df_group_eno.groups"
      ]
    },
    {
      "cell_type": "code",
      "execution_count": null,
      "id": "59e02932",
      "metadata": {
        "id": "59e02932",
        "outputId": "30fdf975-7cf4-4958-cec5-81328a1d0bda"
      },
      "outputs": [
        {
          "name": "stderr",
          "output_type": "stream",
          "text": [
            "C:\\Users\\HP\\AppData\\Local\\Temp\\ipykernel_94100\\3489251813.py:1: FutureWarning: ['ename'] did not aggregate successfully. If any error is raised this will raise in a future version of pandas. Drop these columns/ops to avoid this warning.\n",
            "  emp_df_group_depid.agg(['mean'])\n"
          ]
        },
        {
          "data": {
            "text/html": [
              "<div>\n",
              "<style scoped>\n",
              "    .dataframe tbody tr th:only-of-type {\n",
              "        vertical-align: middle;\n",
              "    }\n",
              "\n",
              "    .dataframe tbody tr th {\n",
              "        vertical-align: top;\n",
              "    }\n",
              "\n",
              "    .dataframe thead tr th {\n",
              "        text-align: left;\n",
              "    }\n",
              "\n",
              "    .dataframe thead tr:last-of-type th {\n",
              "        text-align: right;\n",
              "    }\n",
              "</style>\n",
              "<table border=\"1\" class=\"dataframe\">\n",
              "  <thead>\n",
              "    <tr>\n",
              "      <th></th>\n",
              "      <th>eno</th>\n",
              "      <th>salary</th>\n",
              "      <th>bonus</th>\n",
              "      <th>total_salary</th>\n",
              "    </tr>\n",
              "    <tr>\n",
              "      <th></th>\n",
              "      <th>mean</th>\n",
              "      <th>mean</th>\n",
              "      <th>mean</th>\n",
              "      <th>mean</th>\n",
              "    </tr>\n",
              "    <tr>\n",
              "      <th>deptid</th>\n",
              "      <th></th>\n",
              "      <th></th>\n",
              "      <th></th>\n",
              "      <th></th>\n",
              "    </tr>\n",
              "  </thead>\n",
              "  <tbody>\n",
              "    <tr>\n",
              "      <th>1.0</th>\n",
              "      <td>150.0</td>\n",
              "      <td>22000.0</td>\n",
              "      <td>2200.0</td>\n",
              "      <td>25300.0</td>\n",
              "    </tr>\n",
              "    <tr>\n",
              "      <th>3.0</th>\n",
              "      <td>450.0</td>\n",
              "      <td>25000.0</td>\n",
              "      <td>2500.0</td>\n",
              "      <td>28750.0</td>\n",
              "    </tr>\n",
              "    <tr>\n",
              "      <th>1000.0</th>\n",
              "      <td>300.0</td>\n",
              "      <td>15000.0</td>\n",
              "      <td>1500.0</td>\n",
              "      <td>17250.0</td>\n",
              "    </tr>\n",
              "  </tbody>\n",
              "</table>\n",
              "</div>"
            ],
            "text/plain": [
              "          eno   salary   bonus total_salary\n",
              "         mean     mean    mean         mean\n",
              "deptid                                     \n",
              "1.0     150.0  22000.0  2200.0      25300.0\n",
              "3.0     450.0  25000.0  2500.0      28750.0\n",
              "1000.0  300.0  15000.0  1500.0      17250.0"
            ]
          },
          "execution_count": 122,
          "metadata": {},
          "output_type": "execute_result"
        }
      ],
      "source": [
        "emp_df_group_depid.agg(['mean'])"
      ]
    },
    {
      "cell_type": "code",
      "execution_count": null,
      "id": "9cdbfe96",
      "metadata": {
        "id": "9cdbfe96",
        "outputId": "aeb1e01f-287e-4620-fb3e-4f0a95204dde"
      },
      "outputs": [
        {
          "data": {
            "text/html": [
              "<div>\n",
              "<style scoped>\n",
              "    .dataframe tbody tr th:only-of-type {\n",
              "        vertical-align: middle;\n",
              "    }\n",
              "\n",
              "    .dataframe tbody tr th {\n",
              "        vertical-align: top;\n",
              "    }\n",
              "\n",
              "    .dataframe thead tr th {\n",
              "        text-align: left;\n",
              "    }\n",
              "\n",
              "    .dataframe thead tr:last-of-type th {\n",
              "        text-align: right;\n",
              "    }\n",
              "</style>\n",
              "<table border=\"1\" class=\"dataframe\">\n",
              "  <thead>\n",
              "    <tr>\n",
              "      <th></th>\n",
              "      <th>eno</th>\n",
              "      <th>ename</th>\n",
              "      <th>salary</th>\n",
              "      <th>bonus</th>\n",
              "      <th>total_salary</th>\n",
              "    </tr>\n",
              "    <tr>\n",
              "      <th></th>\n",
              "      <th>max</th>\n",
              "      <th>max</th>\n",
              "      <th>max</th>\n",
              "      <th>max</th>\n",
              "      <th>max</th>\n",
              "    </tr>\n",
              "    <tr>\n",
              "      <th>deptid</th>\n",
              "      <th></th>\n",
              "      <th></th>\n",
              "      <th></th>\n",
              "      <th></th>\n",
              "      <th></th>\n",
              "    </tr>\n",
              "  </thead>\n",
              "  <tbody>\n",
              "    <tr>\n",
              "      <th>1.0</th>\n",
              "      <td>200</td>\n",
              "      <td>kumar</td>\n",
              "      <td>24000.0</td>\n",
              "      <td>2400.0</td>\n",
              "      <td>27600.0</td>\n",
              "    </tr>\n",
              "    <tr>\n",
              "      <th>3.0</th>\n",
              "      <td>500</td>\n",
              "      <td>ram</td>\n",
              "      <td>30000.0</td>\n",
              "      <td>3000.0</td>\n",
              "      <td>34500.0</td>\n",
              "    </tr>\n",
              "    <tr>\n",
              "      <th>1000.0</th>\n",
              "      <td>300</td>\n",
              "      <td>xyz</td>\n",
              "      <td>15000.0</td>\n",
              "      <td>1500.0</td>\n",
              "      <td>17250.0</td>\n",
              "    </tr>\n",
              "  </tbody>\n",
              "</table>\n",
              "</div>"
            ],
            "text/plain": [
              "        eno  ename   salary   bonus total_salary\n",
              "        max    max      max     max          max\n",
              "deptid                                          \n",
              "1.0     200  kumar  24000.0  2400.0      27600.0\n",
              "3.0     500    ram  30000.0  3000.0      34500.0\n",
              "1000.0  300    xyz  15000.0  1500.0      17250.0"
            ]
          },
          "execution_count": 123,
          "metadata": {},
          "output_type": "execute_result"
        }
      ],
      "source": [
        "emp_df_group_depid.agg(['max'])"
      ]
    },
    {
      "cell_type": "code",
      "execution_count": null,
      "id": "1d84ccfa",
      "metadata": {
        "id": "1d84ccfa",
        "outputId": "3be63329-07f9-4030-cffe-5083e335f02b"
      },
      "outputs": [
        {
          "data": {
            "text/html": [
              "<div>\n",
              "<style scoped>\n",
              "    .dataframe tbody tr th:only-of-type {\n",
              "        vertical-align: middle;\n",
              "    }\n",
              "\n",
              "    .dataframe tbody tr th {\n",
              "        vertical-align: top;\n",
              "    }\n",
              "\n",
              "    .dataframe thead th {\n",
              "        text-align: right;\n",
              "    }\n",
              "</style>\n",
              "<table border=\"1\" class=\"dataframe\">\n",
              "  <thead>\n",
              "    <tr style=\"text-align: right;\">\n",
              "      <th></th>\n",
              "      <th>eno</th>\n",
              "      <th>salary</th>\n",
              "    </tr>\n",
              "    <tr>\n",
              "      <th>deptid</th>\n",
              "      <th></th>\n",
              "      <th></th>\n",
              "    </tr>\n",
              "  </thead>\n",
              "  <tbody>\n",
              "    <tr>\n",
              "      <th>1.0</th>\n",
              "      <td>200</td>\n",
              "      <td>22000.0</td>\n",
              "    </tr>\n",
              "    <tr>\n",
              "      <th>3.0</th>\n",
              "      <td>500</td>\n",
              "      <td>25000.0</td>\n",
              "    </tr>\n",
              "    <tr>\n",
              "      <th>1000.0</th>\n",
              "      <td>300</td>\n",
              "      <td>15000.0</td>\n",
              "    </tr>\n",
              "  </tbody>\n",
              "</table>\n",
              "</div>"
            ],
            "text/plain": [
              "        eno   salary\n",
              "deptid              \n",
              "1.0     200  22000.0\n",
              "3.0     500  25000.0\n",
              "1000.0  300  15000.0"
            ]
          },
          "execution_count": 124,
          "metadata": {},
          "output_type": "execute_result"
        }
      ],
      "source": [
        "emp_df_group_depid.agg({'eno':'max', 'salary':'mean'})"
      ]
    },
    {
      "cell_type": "code",
      "execution_count": null,
      "id": "89e38e85",
      "metadata": {
        "id": "89e38e85",
        "outputId": "09b054f1-c581-404f-ecaf-f8aded49ec01"
      },
      "outputs": [
        {
          "name": "stderr",
          "output_type": "stream",
          "text": [
            "C:\\Users\\HP\\AppData\\Local\\Temp\\ipykernel_94100\\3354520253.py:2: FutureWarning: The frame.append method is deprecated and will be removed from pandas in a future version. Use pandas.concat instead.\n",
            "  emp_df.append(emp_df)\n"
          ]
        },
        {
          "data": {
            "text/html": [
              "<div>\n",
              "<style scoped>\n",
              "    .dataframe tbody tr th:only-of-type {\n",
              "        vertical-align: middle;\n",
              "    }\n",
              "\n",
              "    .dataframe tbody tr th {\n",
              "        vertical-align: top;\n",
              "    }\n",
              "\n",
              "    .dataframe thead th {\n",
              "        text-align: right;\n",
              "    }\n",
              "</style>\n",
              "<table border=\"1\" class=\"dataframe\">\n",
              "  <thead>\n",
              "    <tr style=\"text-align: right;\">\n",
              "      <th></th>\n",
              "      <th>eno</th>\n",
              "      <th>ename</th>\n",
              "      <th>salary</th>\n",
              "      <th>deptid</th>\n",
              "      <th>bonus</th>\n",
              "      <th>total_salary</th>\n",
              "    </tr>\n",
              "  </thead>\n",
              "  <tbody>\n",
              "    <tr>\n",
              "      <th>a</th>\n",
              "      <td>100</td>\n",
              "      <td>kumar</td>\n",
              "      <td>24000.0</td>\n",
              "      <td>1.0</td>\n",
              "      <td>2400.0</td>\n",
              "      <td>27600.0</td>\n",
              "    </tr>\n",
              "    <tr>\n",
              "      <th>b</th>\n",
              "      <td>200</td>\n",
              "      <td>abcd</td>\n",
              "      <td>20000.0</td>\n",
              "      <td>1.0</td>\n",
              "      <td>2000.0</td>\n",
              "      <td>23000.0</td>\n",
              "    </tr>\n",
              "    <tr>\n",
              "      <th>2</th>\n",
              "      <td>300</td>\n",
              "      <td>xyz</td>\n",
              "      <td>15000.0</td>\n",
              "      <td>1000.0</td>\n",
              "      <td>1500.0</td>\n",
              "      <td>17250.0</td>\n",
              "    </tr>\n",
              "    <tr>\n",
              "      <th>3</th>\n",
              "      <td>400</td>\n",
              "      <td>rahul</td>\n",
              "      <td>30000.0</td>\n",
              "      <td>3.0</td>\n",
              "      <td>3000.0</td>\n",
              "      <td>34500.0</td>\n",
              "    </tr>\n",
              "    <tr>\n",
              "      <th>4</th>\n",
              "      <td>500</td>\n",
              "      <td>ram</td>\n",
              "      <td>20000.0</td>\n",
              "      <td>3.0</td>\n",
              "      <td>2000.0</td>\n",
              "      <td>23000.0</td>\n",
              "    </tr>\n",
              "    <tr>\n",
              "      <th>5</th>\n",
              "      <td>700</td>\n",
              "      <td>abcdefx</td>\n",
              "      <td>NaN</td>\n",
              "      <td>NaN</td>\n",
              "      <td>NaN</td>\n",
              "      <td>NaN</td>\n",
              "    </tr>\n",
              "    <tr>\n",
              "      <th>a</th>\n",
              "      <td>100</td>\n",
              "      <td>kumar</td>\n",
              "      <td>24000.0</td>\n",
              "      <td>1.0</td>\n",
              "      <td>2400.0</td>\n",
              "      <td>27600.0</td>\n",
              "    </tr>\n",
              "    <tr>\n",
              "      <th>b</th>\n",
              "      <td>200</td>\n",
              "      <td>abcd</td>\n",
              "      <td>20000.0</td>\n",
              "      <td>1.0</td>\n",
              "      <td>2000.0</td>\n",
              "      <td>23000.0</td>\n",
              "    </tr>\n",
              "    <tr>\n",
              "      <th>2</th>\n",
              "      <td>300</td>\n",
              "      <td>xyz</td>\n",
              "      <td>15000.0</td>\n",
              "      <td>1000.0</td>\n",
              "      <td>1500.0</td>\n",
              "      <td>17250.0</td>\n",
              "    </tr>\n",
              "    <tr>\n",
              "      <th>3</th>\n",
              "      <td>400</td>\n",
              "      <td>rahul</td>\n",
              "      <td>30000.0</td>\n",
              "      <td>3.0</td>\n",
              "      <td>3000.0</td>\n",
              "      <td>34500.0</td>\n",
              "    </tr>\n",
              "    <tr>\n",
              "      <th>4</th>\n",
              "      <td>500</td>\n",
              "      <td>ram</td>\n",
              "      <td>20000.0</td>\n",
              "      <td>3.0</td>\n",
              "      <td>2000.0</td>\n",
              "      <td>23000.0</td>\n",
              "    </tr>\n",
              "    <tr>\n",
              "      <th>5</th>\n",
              "      <td>700</td>\n",
              "      <td>abcdefx</td>\n",
              "      <td>NaN</td>\n",
              "      <td>NaN</td>\n",
              "      <td>NaN</td>\n",
              "      <td>NaN</td>\n",
              "    </tr>\n",
              "  </tbody>\n",
              "</table>\n",
              "</div>"
            ],
            "text/plain": [
              "   eno    ename   salary  deptid   bonus  total_salary\n",
              "a  100    kumar  24000.0     1.0  2400.0       27600.0\n",
              "b  200     abcd  20000.0     1.0  2000.0       23000.0\n",
              "2  300      xyz  15000.0  1000.0  1500.0       17250.0\n",
              "3  400    rahul  30000.0     3.0  3000.0       34500.0\n",
              "4  500      ram  20000.0     3.0  2000.0       23000.0\n",
              "5  700  abcdefx      NaN     NaN     NaN           NaN\n",
              "a  100    kumar  24000.0     1.0  2400.0       27600.0\n",
              "b  200     abcd  20000.0     1.0  2000.0       23000.0\n",
              "2  300      xyz  15000.0  1000.0  1500.0       17250.0\n",
              "3  400    rahul  30000.0     3.0  3000.0       34500.0\n",
              "4  500      ram  20000.0     3.0  2000.0       23000.0\n",
              "5  700  abcdefx      NaN     NaN     NaN           NaN"
            ]
          },
          "execution_count": 126,
          "metadata": {},
          "output_type": "execute_result"
        }
      ],
      "source": [
        "#appeding rows\n",
        "emp_df.append(emp_df)"
      ]
    },
    {
      "cell_type": "code",
      "execution_count": null,
      "id": "3a09c786",
      "metadata": {
        "id": "3a09c786",
        "outputId": "a1ebd8fb-8383-4eb2-9686-fcda0cecda05"
      },
      "outputs": [
        {
          "name": "stderr",
          "output_type": "stream",
          "text": [
            "C:\\Users\\HP\\AppData\\Local\\Temp\\ipykernel_94100\\701844428.py:2: FutureWarning: The frame.append method is deprecated and will be removed from pandas in a future version. Use pandas.concat instead.\n",
            "  emp_df.append([emp_df, emp_df])\n"
          ]
        },
        {
          "data": {
            "text/html": [
              "<div>\n",
              "<style scoped>\n",
              "    .dataframe tbody tr th:only-of-type {\n",
              "        vertical-align: middle;\n",
              "    }\n",
              "\n",
              "    .dataframe tbody tr th {\n",
              "        vertical-align: top;\n",
              "    }\n",
              "\n",
              "    .dataframe thead th {\n",
              "        text-align: right;\n",
              "    }\n",
              "</style>\n",
              "<table border=\"1\" class=\"dataframe\">\n",
              "  <thead>\n",
              "    <tr style=\"text-align: right;\">\n",
              "      <th></th>\n",
              "      <th>eno</th>\n",
              "      <th>ename</th>\n",
              "      <th>salary</th>\n",
              "      <th>deptid</th>\n",
              "      <th>bonus</th>\n",
              "      <th>total_salary</th>\n",
              "    </tr>\n",
              "  </thead>\n",
              "  <tbody>\n",
              "    <tr>\n",
              "      <th>a</th>\n",
              "      <td>100</td>\n",
              "      <td>kumar</td>\n",
              "      <td>24000.0</td>\n",
              "      <td>1.0</td>\n",
              "      <td>2400.0</td>\n",
              "      <td>27600.0</td>\n",
              "    </tr>\n",
              "    <tr>\n",
              "      <th>b</th>\n",
              "      <td>200</td>\n",
              "      <td>abcd</td>\n",
              "      <td>20000.0</td>\n",
              "      <td>1.0</td>\n",
              "      <td>2000.0</td>\n",
              "      <td>23000.0</td>\n",
              "    </tr>\n",
              "    <tr>\n",
              "      <th>2</th>\n",
              "      <td>300</td>\n",
              "      <td>xyz</td>\n",
              "      <td>15000.0</td>\n",
              "      <td>1000.0</td>\n",
              "      <td>1500.0</td>\n",
              "      <td>17250.0</td>\n",
              "    </tr>\n",
              "    <tr>\n",
              "      <th>3</th>\n",
              "      <td>400</td>\n",
              "      <td>rahul</td>\n",
              "      <td>30000.0</td>\n",
              "      <td>3.0</td>\n",
              "      <td>3000.0</td>\n",
              "      <td>34500.0</td>\n",
              "    </tr>\n",
              "    <tr>\n",
              "      <th>4</th>\n",
              "      <td>500</td>\n",
              "      <td>ram</td>\n",
              "      <td>20000.0</td>\n",
              "      <td>3.0</td>\n",
              "      <td>2000.0</td>\n",
              "      <td>23000.0</td>\n",
              "    </tr>\n",
              "    <tr>\n",
              "      <th>5</th>\n",
              "      <td>700</td>\n",
              "      <td>abcdefx</td>\n",
              "      <td>NaN</td>\n",
              "      <td>NaN</td>\n",
              "      <td>NaN</td>\n",
              "      <td>NaN</td>\n",
              "    </tr>\n",
              "    <tr>\n",
              "      <th>a</th>\n",
              "      <td>100</td>\n",
              "      <td>kumar</td>\n",
              "      <td>24000.0</td>\n",
              "      <td>1.0</td>\n",
              "      <td>2400.0</td>\n",
              "      <td>27600.0</td>\n",
              "    </tr>\n",
              "    <tr>\n",
              "      <th>b</th>\n",
              "      <td>200</td>\n",
              "      <td>abcd</td>\n",
              "      <td>20000.0</td>\n",
              "      <td>1.0</td>\n",
              "      <td>2000.0</td>\n",
              "      <td>23000.0</td>\n",
              "    </tr>\n",
              "    <tr>\n",
              "      <th>2</th>\n",
              "      <td>300</td>\n",
              "      <td>xyz</td>\n",
              "      <td>15000.0</td>\n",
              "      <td>1000.0</td>\n",
              "      <td>1500.0</td>\n",
              "      <td>17250.0</td>\n",
              "    </tr>\n",
              "    <tr>\n",
              "      <th>3</th>\n",
              "      <td>400</td>\n",
              "      <td>rahul</td>\n",
              "      <td>30000.0</td>\n",
              "      <td>3.0</td>\n",
              "      <td>3000.0</td>\n",
              "      <td>34500.0</td>\n",
              "    </tr>\n",
              "    <tr>\n",
              "      <th>4</th>\n",
              "      <td>500</td>\n",
              "      <td>ram</td>\n",
              "      <td>20000.0</td>\n",
              "      <td>3.0</td>\n",
              "      <td>2000.0</td>\n",
              "      <td>23000.0</td>\n",
              "    </tr>\n",
              "    <tr>\n",
              "      <th>5</th>\n",
              "      <td>700</td>\n",
              "      <td>abcdefx</td>\n",
              "      <td>NaN</td>\n",
              "      <td>NaN</td>\n",
              "      <td>NaN</td>\n",
              "      <td>NaN</td>\n",
              "    </tr>\n",
              "    <tr>\n",
              "      <th>a</th>\n",
              "      <td>100</td>\n",
              "      <td>kumar</td>\n",
              "      <td>24000.0</td>\n",
              "      <td>1.0</td>\n",
              "      <td>2400.0</td>\n",
              "      <td>27600.0</td>\n",
              "    </tr>\n",
              "    <tr>\n",
              "      <th>b</th>\n",
              "      <td>200</td>\n",
              "      <td>abcd</td>\n",
              "      <td>20000.0</td>\n",
              "      <td>1.0</td>\n",
              "      <td>2000.0</td>\n",
              "      <td>23000.0</td>\n",
              "    </tr>\n",
              "    <tr>\n",
              "      <th>2</th>\n",
              "      <td>300</td>\n",
              "      <td>xyz</td>\n",
              "      <td>15000.0</td>\n",
              "      <td>1000.0</td>\n",
              "      <td>1500.0</td>\n",
              "      <td>17250.0</td>\n",
              "    </tr>\n",
              "    <tr>\n",
              "      <th>3</th>\n",
              "      <td>400</td>\n",
              "      <td>rahul</td>\n",
              "      <td>30000.0</td>\n",
              "      <td>3.0</td>\n",
              "      <td>3000.0</td>\n",
              "      <td>34500.0</td>\n",
              "    </tr>\n",
              "    <tr>\n",
              "      <th>4</th>\n",
              "      <td>500</td>\n",
              "      <td>ram</td>\n",
              "      <td>20000.0</td>\n",
              "      <td>3.0</td>\n",
              "      <td>2000.0</td>\n",
              "      <td>23000.0</td>\n",
              "    </tr>\n",
              "    <tr>\n",
              "      <th>5</th>\n",
              "      <td>700</td>\n",
              "      <td>abcdefx</td>\n",
              "      <td>NaN</td>\n",
              "      <td>NaN</td>\n",
              "      <td>NaN</td>\n",
              "      <td>NaN</td>\n",
              "    </tr>\n",
              "  </tbody>\n",
              "</table>\n",
              "</div>"
            ],
            "text/plain": [
              "   eno    ename   salary  deptid   bonus  total_salary\n",
              "a  100    kumar  24000.0     1.0  2400.0       27600.0\n",
              "b  200     abcd  20000.0     1.0  2000.0       23000.0\n",
              "2  300      xyz  15000.0  1000.0  1500.0       17250.0\n",
              "3  400    rahul  30000.0     3.0  3000.0       34500.0\n",
              "4  500      ram  20000.0     3.0  2000.0       23000.0\n",
              "5  700  abcdefx      NaN     NaN     NaN           NaN\n",
              "a  100    kumar  24000.0     1.0  2400.0       27600.0\n",
              "b  200     abcd  20000.0     1.0  2000.0       23000.0\n",
              "2  300      xyz  15000.0  1000.0  1500.0       17250.0\n",
              "3  400    rahul  30000.0     3.0  3000.0       34500.0\n",
              "4  500      ram  20000.0     3.0  2000.0       23000.0\n",
              "5  700  abcdefx      NaN     NaN     NaN           NaN\n",
              "a  100    kumar  24000.0     1.0  2400.0       27600.0\n",
              "b  200     abcd  20000.0     1.0  2000.0       23000.0\n",
              "2  300      xyz  15000.0  1000.0  1500.0       17250.0\n",
              "3  400    rahul  30000.0     3.0  3000.0       34500.0\n",
              "4  500      ram  20000.0     3.0  2000.0       23000.0\n",
              "5  700  abcdefx      NaN     NaN     NaN           NaN"
            ]
          },
          "execution_count": 127,
          "metadata": {},
          "output_type": "execute_result"
        }
      ],
      "source": [
        "#appeding rows\n",
        "emp_df.append([emp_df, emp_df])"
      ]
    },
    {
      "cell_type": "code",
      "execution_count": null,
      "id": "186e8695",
      "metadata": {
        "id": "186e8695"
      },
      "outputs": [],
      "source": [
        "#\n",
        "dept_dict = {\n",
        "    'deptid':[1,2,3,4],\n",
        "    'dname':['Accounting', 'Sales', 'Marketing', 'IT'],\n",
        "    'location':['Bang', 'Hyd', 'Bom', 'Bang']\n",
        "}\n",
        "\n",
        "dept_df = pd.DataFrame(dept_dict)"
      ]
    },
    {
      "cell_type": "code",
      "execution_count": null,
      "id": "647d4fdb",
      "metadata": {
        "id": "647d4fdb",
        "outputId": "3b9c4a76-0ff8-4cdb-8122-d4dcfc2f2686"
      },
      "outputs": [
        {
          "data": {
            "text/html": [
              "<div>\n",
              "<style scoped>\n",
              "    .dataframe tbody tr th:only-of-type {\n",
              "        vertical-align: middle;\n",
              "    }\n",
              "\n",
              "    .dataframe tbody tr th {\n",
              "        vertical-align: top;\n",
              "    }\n",
              "\n",
              "    .dataframe thead th {\n",
              "        text-align: right;\n",
              "    }\n",
              "</style>\n",
              "<table border=\"1\" class=\"dataframe\">\n",
              "  <thead>\n",
              "    <tr style=\"text-align: right;\">\n",
              "      <th></th>\n",
              "      <th>deptid</th>\n",
              "      <th>dname</th>\n",
              "      <th>location</th>\n",
              "    </tr>\n",
              "  </thead>\n",
              "  <tbody>\n",
              "    <tr>\n",
              "      <th>0</th>\n",
              "      <td>1</td>\n",
              "      <td>Accounting</td>\n",
              "      <td>Bang</td>\n",
              "    </tr>\n",
              "    <tr>\n",
              "      <th>1</th>\n",
              "      <td>2</td>\n",
              "      <td>Sales</td>\n",
              "      <td>Hyd</td>\n",
              "    </tr>\n",
              "    <tr>\n",
              "      <th>2</th>\n",
              "      <td>3</td>\n",
              "      <td>Marketing</td>\n",
              "      <td>Bom</td>\n",
              "    </tr>\n",
              "    <tr>\n",
              "      <th>3</th>\n",
              "      <td>4</td>\n",
              "      <td>IT</td>\n",
              "      <td>Bang</td>\n",
              "    </tr>\n",
              "  </tbody>\n",
              "</table>\n",
              "</div>"
            ],
            "text/plain": [
              "   deptid       dname location\n",
              "0       1  Accounting     Bang\n",
              "1       2       Sales      Hyd\n",
              "2       3   Marketing      Bom\n",
              "3       4          IT     Bang"
            ]
          },
          "execution_count": 130,
          "metadata": {},
          "output_type": "execute_result"
        }
      ],
      "source": [
        "dept_df"
      ]
    },
    {
      "cell_type": "code",
      "execution_count": null,
      "id": "013eee3d",
      "metadata": {
        "id": "013eee3d",
        "outputId": "f345fc46-d12b-4b7d-833e-62e1f5ed1445"
      },
      "outputs": [
        {
          "data": {
            "text/html": [
              "<div>\n",
              "<style scoped>\n",
              "    .dataframe tbody tr th:only-of-type {\n",
              "        vertical-align: middle;\n",
              "    }\n",
              "\n",
              "    .dataframe tbody tr th {\n",
              "        vertical-align: top;\n",
              "    }\n",
              "\n",
              "    .dataframe thead th {\n",
              "        text-align: right;\n",
              "    }\n",
              "</style>\n",
              "<table border=\"1\" class=\"dataframe\">\n",
              "  <thead>\n",
              "    <tr style=\"text-align: right;\">\n",
              "      <th></th>\n",
              "      <th>eno</th>\n",
              "      <th>ename</th>\n",
              "      <th>salary</th>\n",
              "      <th>deptid</th>\n",
              "      <th>bonus</th>\n",
              "      <th>total_salary</th>\n",
              "    </tr>\n",
              "  </thead>\n",
              "  <tbody>\n",
              "    <tr>\n",
              "      <th>a</th>\n",
              "      <td>100</td>\n",
              "      <td>kumar</td>\n",
              "      <td>24000.0</td>\n",
              "      <td>1.0</td>\n",
              "      <td>2400.0</td>\n",
              "      <td>27600.0</td>\n",
              "    </tr>\n",
              "    <tr>\n",
              "      <th>b</th>\n",
              "      <td>200</td>\n",
              "      <td>abcd</td>\n",
              "      <td>20000.0</td>\n",
              "      <td>1.0</td>\n",
              "      <td>2000.0</td>\n",
              "      <td>23000.0</td>\n",
              "    </tr>\n",
              "    <tr>\n",
              "      <th>2</th>\n",
              "      <td>300</td>\n",
              "      <td>xyz</td>\n",
              "      <td>15000.0</td>\n",
              "      <td>1000.0</td>\n",
              "      <td>1500.0</td>\n",
              "      <td>17250.0</td>\n",
              "    </tr>\n",
              "    <tr>\n",
              "      <th>3</th>\n",
              "      <td>400</td>\n",
              "      <td>rahul</td>\n",
              "      <td>30000.0</td>\n",
              "      <td>3.0</td>\n",
              "      <td>3000.0</td>\n",
              "      <td>34500.0</td>\n",
              "    </tr>\n",
              "    <tr>\n",
              "      <th>4</th>\n",
              "      <td>500</td>\n",
              "      <td>ram</td>\n",
              "      <td>20000.0</td>\n",
              "      <td>3.0</td>\n",
              "      <td>2000.0</td>\n",
              "      <td>23000.0</td>\n",
              "    </tr>\n",
              "    <tr>\n",
              "      <th>5</th>\n",
              "      <td>700</td>\n",
              "      <td>abcdefx</td>\n",
              "      <td>NaN</td>\n",
              "      <td>NaN</td>\n",
              "      <td>NaN</td>\n",
              "      <td>NaN</td>\n",
              "    </tr>\n",
              "  </tbody>\n",
              "</table>\n",
              "</div>"
            ],
            "text/plain": [
              "   eno    ename   salary  deptid   bonus  total_salary\n",
              "a  100    kumar  24000.0     1.0  2400.0       27600.0\n",
              "b  200     abcd  20000.0     1.0  2000.0       23000.0\n",
              "2  300      xyz  15000.0  1000.0  1500.0       17250.0\n",
              "3  400    rahul  30000.0     3.0  3000.0       34500.0\n",
              "4  500      ram  20000.0     3.0  2000.0       23000.0\n",
              "5  700  abcdefx      NaN     NaN     NaN           NaN"
            ]
          },
          "execution_count": 131,
          "metadata": {},
          "output_type": "execute_result"
        }
      ],
      "source": [
        "emp_df"
      ]
    },
    {
      "cell_type": "code",
      "execution_count": null,
      "id": "f0000f95",
      "metadata": {
        "id": "f0000f95",
        "outputId": "699e61c6-5b3e-4127-c353-54dc8dd88f98"
      },
      "outputs": [
        {
          "data": {
            "text/html": [
              "<div>\n",
              "<style scoped>\n",
              "    .dataframe tbody tr th:only-of-type {\n",
              "        vertical-align: middle;\n",
              "    }\n",
              "\n",
              "    .dataframe tbody tr th {\n",
              "        vertical-align: top;\n",
              "    }\n",
              "\n",
              "    .dataframe thead th {\n",
              "        text-align: right;\n",
              "    }\n",
              "</style>\n",
              "<table border=\"1\" class=\"dataframe\">\n",
              "  <thead>\n",
              "    <tr style=\"text-align: right;\">\n",
              "      <th></th>\n",
              "      <th>eno</th>\n",
              "      <th>ename</th>\n",
              "      <th>salary</th>\n",
              "      <th>deptid</th>\n",
              "      <th>bonus</th>\n",
              "      <th>total_salary</th>\n",
              "      <th>dname</th>\n",
              "      <th>location</th>\n",
              "    </tr>\n",
              "  </thead>\n",
              "  <tbody>\n",
              "    <tr>\n",
              "      <th>0</th>\n",
              "      <td>100</td>\n",
              "      <td>kumar</td>\n",
              "      <td>24000.0</td>\n",
              "      <td>1.0</td>\n",
              "      <td>2400.0</td>\n",
              "      <td>27600.0</td>\n",
              "      <td>Accounting</td>\n",
              "      <td>Bang</td>\n",
              "    </tr>\n",
              "    <tr>\n",
              "      <th>1</th>\n",
              "      <td>200</td>\n",
              "      <td>abcd</td>\n",
              "      <td>20000.0</td>\n",
              "      <td>1.0</td>\n",
              "      <td>2000.0</td>\n",
              "      <td>23000.0</td>\n",
              "      <td>Accounting</td>\n",
              "      <td>Bang</td>\n",
              "    </tr>\n",
              "    <tr>\n",
              "      <th>2</th>\n",
              "      <td>400</td>\n",
              "      <td>rahul</td>\n",
              "      <td>30000.0</td>\n",
              "      <td>3.0</td>\n",
              "      <td>3000.0</td>\n",
              "      <td>34500.0</td>\n",
              "      <td>Marketing</td>\n",
              "      <td>Bom</td>\n",
              "    </tr>\n",
              "    <tr>\n",
              "      <th>3</th>\n",
              "      <td>500</td>\n",
              "      <td>ram</td>\n",
              "      <td>20000.0</td>\n",
              "      <td>3.0</td>\n",
              "      <td>2000.0</td>\n",
              "      <td>23000.0</td>\n",
              "      <td>Marketing</td>\n",
              "      <td>Bom</td>\n",
              "    </tr>\n",
              "  </tbody>\n",
              "</table>\n",
              "</div>"
            ],
            "text/plain": [
              "   eno  ename   salary  deptid   bonus  total_salary       dname location\n",
              "0  100  kumar  24000.0     1.0  2400.0       27600.0  Accounting     Bang\n",
              "1  200   abcd  20000.0     1.0  2000.0       23000.0  Accounting     Bang\n",
              "2  400  rahul  30000.0     3.0  3000.0       34500.0   Marketing      Bom\n",
              "3  500    ram  20000.0     3.0  2000.0       23000.0   Marketing      Bom"
            ]
          },
          "execution_count": 132,
          "metadata": {},
          "output_type": "execute_result"
        }
      ],
      "source": [
        "#selecting columns from different dataframes based on common column using merge\n",
        "emp_df.merge(dept_df, how='inner', left_on='deptid', right_on='deptid')"
      ]
    },
    {
      "cell_type": "code",
      "execution_count": null,
      "id": "18e2226e",
      "metadata": {
        "id": "18e2226e",
        "outputId": "b188ac0e-86c5-4acd-e65d-5ad311fdd541"
      },
      "outputs": [
        {
          "data": {
            "text/html": [
              "<div>\n",
              "<style scoped>\n",
              "    .dataframe tbody tr th:only-of-type {\n",
              "        vertical-align: middle;\n",
              "    }\n",
              "\n",
              "    .dataframe tbody tr th {\n",
              "        vertical-align: top;\n",
              "    }\n",
              "\n",
              "    .dataframe thead th {\n",
              "        text-align: right;\n",
              "    }\n",
              "</style>\n",
              "<table border=\"1\" class=\"dataframe\">\n",
              "  <thead>\n",
              "    <tr style=\"text-align: right;\">\n",
              "      <th></th>\n",
              "      <th>eno</th>\n",
              "      <th>ename</th>\n",
              "      <th>salary</th>\n",
              "      <th>deptid</th>\n",
              "      <th>bonus</th>\n",
              "      <th>total_salary</th>\n",
              "      <th>dname</th>\n",
              "      <th>location</th>\n",
              "    </tr>\n",
              "  </thead>\n",
              "  <tbody>\n",
              "    <tr>\n",
              "      <th>0</th>\n",
              "      <td>100</td>\n",
              "      <td>kumar</td>\n",
              "      <td>24000.0</td>\n",
              "      <td>1.0</td>\n",
              "      <td>2400.0</td>\n",
              "      <td>27600.0</td>\n",
              "      <td>Accounting</td>\n",
              "      <td>Bang</td>\n",
              "    </tr>\n",
              "    <tr>\n",
              "      <th>1</th>\n",
              "      <td>200</td>\n",
              "      <td>abcd</td>\n",
              "      <td>20000.0</td>\n",
              "      <td>1.0</td>\n",
              "      <td>2000.0</td>\n",
              "      <td>23000.0</td>\n",
              "      <td>Accounting</td>\n",
              "      <td>Bang</td>\n",
              "    </tr>\n",
              "    <tr>\n",
              "      <th>2</th>\n",
              "      <td>300</td>\n",
              "      <td>xyz</td>\n",
              "      <td>15000.0</td>\n",
              "      <td>1000.0</td>\n",
              "      <td>1500.0</td>\n",
              "      <td>17250.0</td>\n",
              "      <td>NaN</td>\n",
              "      <td>NaN</td>\n",
              "    </tr>\n",
              "    <tr>\n",
              "      <th>3</th>\n",
              "      <td>400</td>\n",
              "      <td>rahul</td>\n",
              "      <td>30000.0</td>\n",
              "      <td>3.0</td>\n",
              "      <td>3000.0</td>\n",
              "      <td>34500.0</td>\n",
              "      <td>Marketing</td>\n",
              "      <td>Bom</td>\n",
              "    </tr>\n",
              "    <tr>\n",
              "      <th>4</th>\n",
              "      <td>500</td>\n",
              "      <td>ram</td>\n",
              "      <td>20000.0</td>\n",
              "      <td>3.0</td>\n",
              "      <td>2000.0</td>\n",
              "      <td>23000.0</td>\n",
              "      <td>Marketing</td>\n",
              "      <td>Bom</td>\n",
              "    </tr>\n",
              "    <tr>\n",
              "      <th>5</th>\n",
              "      <td>700</td>\n",
              "      <td>abcdefx</td>\n",
              "      <td>NaN</td>\n",
              "      <td>NaN</td>\n",
              "      <td>NaN</td>\n",
              "      <td>NaN</td>\n",
              "      <td>NaN</td>\n",
              "      <td>NaN</td>\n",
              "    </tr>\n",
              "  </tbody>\n",
              "</table>\n",
              "</div>"
            ],
            "text/plain": [
              "   eno    ename   salary  deptid   bonus  total_salary       dname location\n",
              "0  100    kumar  24000.0     1.0  2400.0       27600.0  Accounting     Bang\n",
              "1  200     abcd  20000.0     1.0  2000.0       23000.0  Accounting     Bang\n",
              "2  300      xyz  15000.0  1000.0  1500.0       17250.0         NaN      NaN\n",
              "3  400    rahul  30000.0     3.0  3000.0       34500.0   Marketing      Bom\n",
              "4  500      ram  20000.0     3.0  2000.0       23000.0   Marketing      Bom\n",
              "5  700  abcdefx      NaN     NaN     NaN           NaN         NaN      NaN"
            ]
          },
          "execution_count": 133,
          "metadata": {},
          "output_type": "execute_result"
        }
      ],
      "source": [
        "#selecting columns from different dataframes based on common column using merge\n",
        "emp_df.merge(dept_df, how='left', left_on='deptid', right_on='deptid')"
      ]
    },
    {
      "cell_type": "code",
      "execution_count": null,
      "id": "ffcac0f3",
      "metadata": {
        "id": "ffcac0f3",
        "outputId": "8e7295e8-783f-46a3-8c1a-839d11c62a86"
      },
      "outputs": [
        {
          "data": {
            "text/html": [
              "<div>\n",
              "<style scoped>\n",
              "    .dataframe tbody tr th:only-of-type {\n",
              "        vertical-align: middle;\n",
              "    }\n",
              "\n",
              "    .dataframe tbody tr th {\n",
              "        vertical-align: top;\n",
              "    }\n",
              "\n",
              "    .dataframe thead th {\n",
              "        text-align: right;\n",
              "    }\n",
              "</style>\n",
              "<table border=\"1\" class=\"dataframe\">\n",
              "  <thead>\n",
              "    <tr style=\"text-align: right;\">\n",
              "      <th></th>\n",
              "      <th>eno</th>\n",
              "      <th>ename</th>\n",
              "      <th>salary</th>\n",
              "      <th>deptid</th>\n",
              "      <th>bonus</th>\n",
              "      <th>total_salary</th>\n",
              "      <th>dname</th>\n",
              "      <th>location</th>\n",
              "    </tr>\n",
              "  </thead>\n",
              "  <tbody>\n",
              "    <tr>\n",
              "      <th>0</th>\n",
              "      <td>100.0</td>\n",
              "      <td>kumar</td>\n",
              "      <td>24000.0</td>\n",
              "      <td>1.0</td>\n",
              "      <td>2400.0</td>\n",
              "      <td>27600.0</td>\n",
              "      <td>Accounting</td>\n",
              "      <td>Bang</td>\n",
              "    </tr>\n",
              "    <tr>\n",
              "      <th>1</th>\n",
              "      <td>200.0</td>\n",
              "      <td>abcd</td>\n",
              "      <td>20000.0</td>\n",
              "      <td>1.0</td>\n",
              "      <td>2000.0</td>\n",
              "      <td>23000.0</td>\n",
              "      <td>Accounting</td>\n",
              "      <td>Bang</td>\n",
              "    </tr>\n",
              "    <tr>\n",
              "      <th>2</th>\n",
              "      <td>NaN</td>\n",
              "      <td>NaN</td>\n",
              "      <td>NaN</td>\n",
              "      <td>2.0</td>\n",
              "      <td>NaN</td>\n",
              "      <td>NaN</td>\n",
              "      <td>Sales</td>\n",
              "      <td>Hyd</td>\n",
              "    </tr>\n",
              "    <tr>\n",
              "      <th>3</th>\n",
              "      <td>400.0</td>\n",
              "      <td>rahul</td>\n",
              "      <td>30000.0</td>\n",
              "      <td>3.0</td>\n",
              "      <td>3000.0</td>\n",
              "      <td>34500.0</td>\n",
              "      <td>Marketing</td>\n",
              "      <td>Bom</td>\n",
              "    </tr>\n",
              "    <tr>\n",
              "      <th>4</th>\n",
              "      <td>500.0</td>\n",
              "      <td>ram</td>\n",
              "      <td>20000.0</td>\n",
              "      <td>3.0</td>\n",
              "      <td>2000.0</td>\n",
              "      <td>23000.0</td>\n",
              "      <td>Marketing</td>\n",
              "      <td>Bom</td>\n",
              "    </tr>\n",
              "    <tr>\n",
              "      <th>5</th>\n",
              "      <td>NaN</td>\n",
              "      <td>NaN</td>\n",
              "      <td>NaN</td>\n",
              "      <td>4.0</td>\n",
              "      <td>NaN</td>\n",
              "      <td>NaN</td>\n",
              "      <td>IT</td>\n",
              "      <td>Bang</td>\n",
              "    </tr>\n",
              "  </tbody>\n",
              "</table>\n",
              "</div>"
            ],
            "text/plain": [
              "     eno  ename   salary  deptid   bonus  total_salary       dname location\n",
              "0  100.0  kumar  24000.0     1.0  2400.0       27600.0  Accounting     Bang\n",
              "1  200.0   abcd  20000.0     1.0  2000.0       23000.0  Accounting     Bang\n",
              "2    NaN    NaN      NaN     2.0     NaN           NaN       Sales      Hyd\n",
              "3  400.0  rahul  30000.0     3.0  3000.0       34500.0   Marketing      Bom\n",
              "4  500.0    ram  20000.0     3.0  2000.0       23000.0   Marketing      Bom\n",
              "5    NaN    NaN      NaN     4.0     NaN           NaN          IT     Bang"
            ]
          },
          "execution_count": 134,
          "metadata": {},
          "output_type": "execute_result"
        }
      ],
      "source": [
        "#selecting columns from different dataframes based on common column using merge\n",
        "emp_df.merge(dept_df, how='right', left_on='deptid', right_on='deptid')"
      ]
    },
    {
      "cell_type": "code",
      "execution_count": null,
      "id": "e76d2176",
      "metadata": {
        "id": "e76d2176",
        "outputId": "a5a98ac4-6b21-4e62-85c3-1fa052379512"
      },
      "outputs": [
        {
          "data": {
            "text/html": [
              "<div>\n",
              "<style scoped>\n",
              "    .dataframe tbody tr th:only-of-type {\n",
              "        vertical-align: middle;\n",
              "    }\n",
              "\n",
              "    .dataframe tbody tr th {\n",
              "        vertical-align: top;\n",
              "    }\n",
              "\n",
              "    .dataframe thead th {\n",
              "        text-align: right;\n",
              "    }\n",
              "</style>\n",
              "<table border=\"1\" class=\"dataframe\">\n",
              "  <thead>\n",
              "    <tr style=\"text-align: right;\">\n",
              "      <th></th>\n",
              "      <th>eno</th>\n",
              "      <th>ename</th>\n",
              "      <th>salary</th>\n",
              "      <th>deptid</th>\n",
              "      <th>bonus</th>\n",
              "      <th>total_salary</th>\n",
              "      <th>dname</th>\n",
              "      <th>location</th>\n",
              "    </tr>\n",
              "  </thead>\n",
              "  <tbody>\n",
              "    <tr>\n",
              "      <th>0</th>\n",
              "      <td>100.0</td>\n",
              "      <td>kumar</td>\n",
              "      <td>24000.0</td>\n",
              "      <td>1.0</td>\n",
              "      <td>2400.0</td>\n",
              "      <td>27600.0</td>\n",
              "      <td>Accounting</td>\n",
              "      <td>Bang</td>\n",
              "    </tr>\n",
              "    <tr>\n",
              "      <th>1</th>\n",
              "      <td>200.0</td>\n",
              "      <td>abcd</td>\n",
              "      <td>20000.0</td>\n",
              "      <td>1.0</td>\n",
              "      <td>2000.0</td>\n",
              "      <td>23000.0</td>\n",
              "      <td>Accounting</td>\n",
              "      <td>Bang</td>\n",
              "    </tr>\n",
              "    <tr>\n",
              "      <th>2</th>\n",
              "      <td>300.0</td>\n",
              "      <td>xyz</td>\n",
              "      <td>15000.0</td>\n",
              "      <td>1000.0</td>\n",
              "      <td>1500.0</td>\n",
              "      <td>17250.0</td>\n",
              "      <td>NaN</td>\n",
              "      <td>NaN</td>\n",
              "    </tr>\n",
              "    <tr>\n",
              "      <th>3</th>\n",
              "      <td>400.0</td>\n",
              "      <td>rahul</td>\n",
              "      <td>30000.0</td>\n",
              "      <td>3.0</td>\n",
              "      <td>3000.0</td>\n",
              "      <td>34500.0</td>\n",
              "      <td>Marketing</td>\n",
              "      <td>Bom</td>\n",
              "    </tr>\n",
              "    <tr>\n",
              "      <th>4</th>\n",
              "      <td>500.0</td>\n",
              "      <td>ram</td>\n",
              "      <td>20000.0</td>\n",
              "      <td>3.0</td>\n",
              "      <td>2000.0</td>\n",
              "      <td>23000.0</td>\n",
              "      <td>Marketing</td>\n",
              "      <td>Bom</td>\n",
              "    </tr>\n",
              "    <tr>\n",
              "      <th>5</th>\n",
              "      <td>700.0</td>\n",
              "      <td>abcdefx</td>\n",
              "      <td>NaN</td>\n",
              "      <td>NaN</td>\n",
              "      <td>NaN</td>\n",
              "      <td>NaN</td>\n",
              "      <td>NaN</td>\n",
              "      <td>NaN</td>\n",
              "    </tr>\n",
              "    <tr>\n",
              "      <th>6</th>\n",
              "      <td>NaN</td>\n",
              "      <td>NaN</td>\n",
              "      <td>NaN</td>\n",
              "      <td>2.0</td>\n",
              "      <td>NaN</td>\n",
              "      <td>NaN</td>\n",
              "      <td>Sales</td>\n",
              "      <td>Hyd</td>\n",
              "    </tr>\n",
              "    <tr>\n",
              "      <th>7</th>\n",
              "      <td>NaN</td>\n",
              "      <td>NaN</td>\n",
              "      <td>NaN</td>\n",
              "      <td>4.0</td>\n",
              "      <td>NaN</td>\n",
              "      <td>NaN</td>\n",
              "      <td>IT</td>\n",
              "      <td>Bang</td>\n",
              "    </tr>\n",
              "  </tbody>\n",
              "</table>\n",
              "</div>"
            ],
            "text/plain": [
              "     eno    ename   salary  deptid   bonus  total_salary       dname location\n",
              "0  100.0    kumar  24000.0     1.0  2400.0       27600.0  Accounting     Bang\n",
              "1  200.0     abcd  20000.0     1.0  2000.0       23000.0  Accounting     Bang\n",
              "2  300.0      xyz  15000.0  1000.0  1500.0       17250.0         NaN      NaN\n",
              "3  400.0    rahul  30000.0     3.0  3000.0       34500.0   Marketing      Bom\n",
              "4  500.0      ram  20000.0     3.0  2000.0       23000.0   Marketing      Bom\n",
              "5  700.0  abcdefx      NaN     NaN     NaN           NaN         NaN      NaN\n",
              "6    NaN      NaN      NaN     2.0     NaN           NaN       Sales      Hyd\n",
              "7    NaN      NaN      NaN     4.0     NaN           NaN          IT     Bang"
            ]
          },
          "execution_count": 135,
          "metadata": {},
          "output_type": "execute_result"
        }
      ],
      "source": [
        "#selecting columns from different dataframes based on common column using merge\n",
        "emp_df.merge(dept_df, how='outer', left_on='deptid', right_on='deptid')"
      ]
    },
    {
      "cell_type": "code",
      "execution_count": null,
      "id": "6c285da5",
      "metadata": {
        "id": "6c285da5",
        "outputId": "cd6cbff3-b5e8-4487-c890-69f96a6d0aa4"
      },
      "outputs": [
        {
          "data": {
            "text/html": [
              "<div>\n",
              "<style scoped>\n",
              "    .dataframe tbody tr th:only-of-type {\n",
              "        vertical-align: middle;\n",
              "    }\n",
              "\n",
              "    .dataframe tbody tr th {\n",
              "        vertical-align: top;\n",
              "    }\n",
              "\n",
              "    .dataframe thead th {\n",
              "        text-align: right;\n",
              "    }\n",
              "</style>\n",
              "<table border=\"1\" class=\"dataframe\">\n",
              "  <thead>\n",
              "    <tr style=\"text-align: right;\">\n",
              "      <th></th>\n",
              "      <th>eno</th>\n",
              "      <th>ename</th>\n",
              "      <th>salary</th>\n",
              "      <th>deptid_x</th>\n",
              "      <th>bonus</th>\n",
              "      <th>total_salary</th>\n",
              "      <th>deptid_y</th>\n",
              "      <th>dname</th>\n",
              "      <th>location</th>\n",
              "    </tr>\n",
              "  </thead>\n",
              "  <tbody>\n",
              "    <tr>\n",
              "      <th>0</th>\n",
              "      <td>100</td>\n",
              "      <td>kumar</td>\n",
              "      <td>24000.0</td>\n",
              "      <td>1.0</td>\n",
              "      <td>2400.0</td>\n",
              "      <td>27600.0</td>\n",
              "      <td>1</td>\n",
              "      <td>Accounting</td>\n",
              "      <td>Bang</td>\n",
              "    </tr>\n",
              "    <tr>\n",
              "      <th>1</th>\n",
              "      <td>100</td>\n",
              "      <td>kumar</td>\n",
              "      <td>24000.0</td>\n",
              "      <td>1.0</td>\n",
              "      <td>2400.0</td>\n",
              "      <td>27600.0</td>\n",
              "      <td>2</td>\n",
              "      <td>Sales</td>\n",
              "      <td>Hyd</td>\n",
              "    </tr>\n",
              "    <tr>\n",
              "      <th>2</th>\n",
              "      <td>100</td>\n",
              "      <td>kumar</td>\n",
              "      <td>24000.0</td>\n",
              "      <td>1.0</td>\n",
              "      <td>2400.0</td>\n",
              "      <td>27600.0</td>\n",
              "      <td>3</td>\n",
              "      <td>Marketing</td>\n",
              "      <td>Bom</td>\n",
              "    </tr>\n",
              "    <tr>\n",
              "      <th>3</th>\n",
              "      <td>100</td>\n",
              "      <td>kumar</td>\n",
              "      <td>24000.0</td>\n",
              "      <td>1.0</td>\n",
              "      <td>2400.0</td>\n",
              "      <td>27600.0</td>\n",
              "      <td>4</td>\n",
              "      <td>IT</td>\n",
              "      <td>Bang</td>\n",
              "    </tr>\n",
              "    <tr>\n",
              "      <th>4</th>\n",
              "      <td>200</td>\n",
              "      <td>abcd</td>\n",
              "      <td>20000.0</td>\n",
              "      <td>1.0</td>\n",
              "      <td>2000.0</td>\n",
              "      <td>23000.0</td>\n",
              "      <td>1</td>\n",
              "      <td>Accounting</td>\n",
              "      <td>Bang</td>\n",
              "    </tr>\n",
              "    <tr>\n",
              "      <th>5</th>\n",
              "      <td>200</td>\n",
              "      <td>abcd</td>\n",
              "      <td>20000.0</td>\n",
              "      <td>1.0</td>\n",
              "      <td>2000.0</td>\n",
              "      <td>23000.0</td>\n",
              "      <td>2</td>\n",
              "      <td>Sales</td>\n",
              "      <td>Hyd</td>\n",
              "    </tr>\n",
              "    <tr>\n",
              "      <th>6</th>\n",
              "      <td>200</td>\n",
              "      <td>abcd</td>\n",
              "      <td>20000.0</td>\n",
              "      <td>1.0</td>\n",
              "      <td>2000.0</td>\n",
              "      <td>23000.0</td>\n",
              "      <td>3</td>\n",
              "      <td>Marketing</td>\n",
              "      <td>Bom</td>\n",
              "    </tr>\n",
              "    <tr>\n",
              "      <th>7</th>\n",
              "      <td>200</td>\n",
              "      <td>abcd</td>\n",
              "      <td>20000.0</td>\n",
              "      <td>1.0</td>\n",
              "      <td>2000.0</td>\n",
              "      <td>23000.0</td>\n",
              "      <td>4</td>\n",
              "      <td>IT</td>\n",
              "      <td>Bang</td>\n",
              "    </tr>\n",
              "    <tr>\n",
              "      <th>8</th>\n",
              "      <td>300</td>\n",
              "      <td>xyz</td>\n",
              "      <td>15000.0</td>\n",
              "      <td>1000.0</td>\n",
              "      <td>1500.0</td>\n",
              "      <td>17250.0</td>\n",
              "      <td>1</td>\n",
              "      <td>Accounting</td>\n",
              "      <td>Bang</td>\n",
              "    </tr>\n",
              "    <tr>\n",
              "      <th>9</th>\n",
              "      <td>300</td>\n",
              "      <td>xyz</td>\n",
              "      <td>15000.0</td>\n",
              "      <td>1000.0</td>\n",
              "      <td>1500.0</td>\n",
              "      <td>17250.0</td>\n",
              "      <td>2</td>\n",
              "      <td>Sales</td>\n",
              "      <td>Hyd</td>\n",
              "    </tr>\n",
              "    <tr>\n",
              "      <th>10</th>\n",
              "      <td>300</td>\n",
              "      <td>xyz</td>\n",
              "      <td>15000.0</td>\n",
              "      <td>1000.0</td>\n",
              "      <td>1500.0</td>\n",
              "      <td>17250.0</td>\n",
              "      <td>3</td>\n",
              "      <td>Marketing</td>\n",
              "      <td>Bom</td>\n",
              "    </tr>\n",
              "    <tr>\n",
              "      <th>11</th>\n",
              "      <td>300</td>\n",
              "      <td>xyz</td>\n",
              "      <td>15000.0</td>\n",
              "      <td>1000.0</td>\n",
              "      <td>1500.0</td>\n",
              "      <td>17250.0</td>\n",
              "      <td>4</td>\n",
              "      <td>IT</td>\n",
              "      <td>Bang</td>\n",
              "    </tr>\n",
              "    <tr>\n",
              "      <th>12</th>\n",
              "      <td>400</td>\n",
              "      <td>rahul</td>\n",
              "      <td>30000.0</td>\n",
              "      <td>3.0</td>\n",
              "      <td>3000.0</td>\n",
              "      <td>34500.0</td>\n",
              "      <td>1</td>\n",
              "      <td>Accounting</td>\n",
              "      <td>Bang</td>\n",
              "    </tr>\n",
              "    <tr>\n",
              "      <th>13</th>\n",
              "      <td>400</td>\n",
              "      <td>rahul</td>\n",
              "      <td>30000.0</td>\n",
              "      <td>3.0</td>\n",
              "      <td>3000.0</td>\n",
              "      <td>34500.0</td>\n",
              "      <td>2</td>\n",
              "      <td>Sales</td>\n",
              "      <td>Hyd</td>\n",
              "    </tr>\n",
              "    <tr>\n",
              "      <th>14</th>\n",
              "      <td>400</td>\n",
              "      <td>rahul</td>\n",
              "      <td>30000.0</td>\n",
              "      <td>3.0</td>\n",
              "      <td>3000.0</td>\n",
              "      <td>34500.0</td>\n",
              "      <td>3</td>\n",
              "      <td>Marketing</td>\n",
              "      <td>Bom</td>\n",
              "    </tr>\n",
              "    <tr>\n",
              "      <th>15</th>\n",
              "      <td>400</td>\n",
              "      <td>rahul</td>\n",
              "      <td>30000.0</td>\n",
              "      <td>3.0</td>\n",
              "      <td>3000.0</td>\n",
              "      <td>34500.0</td>\n",
              "      <td>4</td>\n",
              "      <td>IT</td>\n",
              "      <td>Bang</td>\n",
              "    </tr>\n",
              "    <tr>\n",
              "      <th>16</th>\n",
              "      <td>500</td>\n",
              "      <td>ram</td>\n",
              "      <td>20000.0</td>\n",
              "      <td>3.0</td>\n",
              "      <td>2000.0</td>\n",
              "      <td>23000.0</td>\n",
              "      <td>1</td>\n",
              "      <td>Accounting</td>\n",
              "      <td>Bang</td>\n",
              "    </tr>\n",
              "    <tr>\n",
              "      <th>17</th>\n",
              "      <td>500</td>\n",
              "      <td>ram</td>\n",
              "      <td>20000.0</td>\n",
              "      <td>3.0</td>\n",
              "      <td>2000.0</td>\n",
              "      <td>23000.0</td>\n",
              "      <td>2</td>\n",
              "      <td>Sales</td>\n",
              "      <td>Hyd</td>\n",
              "    </tr>\n",
              "    <tr>\n",
              "      <th>18</th>\n",
              "      <td>500</td>\n",
              "      <td>ram</td>\n",
              "      <td>20000.0</td>\n",
              "      <td>3.0</td>\n",
              "      <td>2000.0</td>\n",
              "      <td>23000.0</td>\n",
              "      <td>3</td>\n",
              "      <td>Marketing</td>\n",
              "      <td>Bom</td>\n",
              "    </tr>\n",
              "    <tr>\n",
              "      <th>19</th>\n",
              "      <td>500</td>\n",
              "      <td>ram</td>\n",
              "      <td>20000.0</td>\n",
              "      <td>3.0</td>\n",
              "      <td>2000.0</td>\n",
              "      <td>23000.0</td>\n",
              "      <td>4</td>\n",
              "      <td>IT</td>\n",
              "      <td>Bang</td>\n",
              "    </tr>\n",
              "    <tr>\n",
              "      <th>20</th>\n",
              "      <td>700</td>\n",
              "      <td>abcdefx</td>\n",
              "      <td>NaN</td>\n",
              "      <td>NaN</td>\n",
              "      <td>NaN</td>\n",
              "      <td>NaN</td>\n",
              "      <td>1</td>\n",
              "      <td>Accounting</td>\n",
              "      <td>Bang</td>\n",
              "    </tr>\n",
              "    <tr>\n",
              "      <th>21</th>\n",
              "      <td>700</td>\n",
              "      <td>abcdefx</td>\n",
              "      <td>NaN</td>\n",
              "      <td>NaN</td>\n",
              "      <td>NaN</td>\n",
              "      <td>NaN</td>\n",
              "      <td>2</td>\n",
              "      <td>Sales</td>\n",
              "      <td>Hyd</td>\n",
              "    </tr>\n",
              "    <tr>\n",
              "      <th>22</th>\n",
              "      <td>700</td>\n",
              "      <td>abcdefx</td>\n",
              "      <td>NaN</td>\n",
              "      <td>NaN</td>\n",
              "      <td>NaN</td>\n",
              "      <td>NaN</td>\n",
              "      <td>3</td>\n",
              "      <td>Marketing</td>\n",
              "      <td>Bom</td>\n",
              "    </tr>\n",
              "    <tr>\n",
              "      <th>23</th>\n",
              "      <td>700</td>\n",
              "      <td>abcdefx</td>\n",
              "      <td>NaN</td>\n",
              "      <td>NaN</td>\n",
              "      <td>NaN</td>\n",
              "      <td>NaN</td>\n",
              "      <td>4</td>\n",
              "      <td>IT</td>\n",
              "      <td>Bang</td>\n",
              "    </tr>\n",
              "  </tbody>\n",
              "</table>\n",
              "</div>"
            ],
            "text/plain": [
              "    eno    ename   salary  deptid_x   bonus  total_salary  deptid_y  \\\n",
              "0   100    kumar  24000.0       1.0  2400.0       27600.0         1   \n",
              "1   100    kumar  24000.0       1.0  2400.0       27600.0         2   \n",
              "2   100    kumar  24000.0       1.0  2400.0       27600.0         3   \n",
              "3   100    kumar  24000.0       1.0  2400.0       27600.0         4   \n",
              "4   200     abcd  20000.0       1.0  2000.0       23000.0         1   \n",
              "5   200     abcd  20000.0       1.0  2000.0       23000.0         2   \n",
              "6   200     abcd  20000.0       1.0  2000.0       23000.0         3   \n",
              "7   200     abcd  20000.0       1.0  2000.0       23000.0         4   \n",
              "8   300      xyz  15000.0    1000.0  1500.0       17250.0         1   \n",
              "9   300      xyz  15000.0    1000.0  1500.0       17250.0         2   \n",
              "10  300      xyz  15000.0    1000.0  1500.0       17250.0         3   \n",
              "11  300      xyz  15000.0    1000.0  1500.0       17250.0         4   \n",
              "12  400    rahul  30000.0       3.0  3000.0       34500.0         1   \n",
              "13  400    rahul  30000.0       3.0  3000.0       34500.0         2   \n",
              "14  400    rahul  30000.0       3.0  3000.0       34500.0         3   \n",
              "15  400    rahul  30000.0       3.0  3000.0       34500.0         4   \n",
              "16  500      ram  20000.0       3.0  2000.0       23000.0         1   \n",
              "17  500      ram  20000.0       3.0  2000.0       23000.0         2   \n",
              "18  500      ram  20000.0       3.0  2000.0       23000.0         3   \n",
              "19  500      ram  20000.0       3.0  2000.0       23000.0         4   \n",
              "20  700  abcdefx      NaN       NaN     NaN           NaN         1   \n",
              "21  700  abcdefx      NaN       NaN     NaN           NaN         2   \n",
              "22  700  abcdefx      NaN       NaN     NaN           NaN         3   \n",
              "23  700  abcdefx      NaN       NaN     NaN           NaN         4   \n",
              "\n",
              "         dname location  \n",
              "0   Accounting     Bang  \n",
              "1        Sales      Hyd  \n",
              "2    Marketing      Bom  \n",
              "3           IT     Bang  \n",
              "4   Accounting     Bang  \n",
              "5        Sales      Hyd  \n",
              "6    Marketing      Bom  \n",
              "7           IT     Bang  \n",
              "8   Accounting     Bang  \n",
              "9        Sales      Hyd  \n",
              "10   Marketing      Bom  \n",
              "11          IT     Bang  \n",
              "12  Accounting     Bang  \n",
              "13       Sales      Hyd  \n",
              "14   Marketing      Bom  \n",
              "15          IT     Bang  \n",
              "16  Accounting     Bang  \n",
              "17       Sales      Hyd  \n",
              "18   Marketing      Bom  \n",
              "19          IT     Bang  \n",
              "20  Accounting     Bang  \n",
              "21       Sales      Hyd  \n",
              "22   Marketing      Bom  \n",
              "23          IT     Bang  "
            ]
          },
          "execution_count": 137,
          "metadata": {},
          "output_type": "execute_result"
        }
      ],
      "source": [
        "#selecting columns from different dataframes based on common column using merge\n",
        "emp_df.merge(dept_df, how='cross')"
      ]
    },
    {
      "cell_type": "code",
      "execution_count": null,
      "id": "11cd9aa2",
      "metadata": {
        "id": "11cd9aa2",
        "outputId": "6ed0796d-86ac-41ee-d95b-704c9fefa3b7"
      },
      "outputs": [
        {
          "data": {
            "text/plain": [
              "(24, 9)"
            ]
          },
          "execution_count": 138,
          "metadata": {},
          "output_type": "execute_result"
        }
      ],
      "source": [
        "emp_df.merge(dept_df, how='cross').shape"
      ]
    },
    {
      "cell_type": "code",
      "execution_count": null,
      "id": "b4cb226a",
      "metadata": {
        "id": "b4cb226a"
      },
      "outputs": [],
      "source": []
    }
  ],
  "metadata": {
    "kernelspec": {
      "display_name": "Python 3 (ipykernel)",
      "language": "python",
      "name": "python3"
    },
    "language_info": {
      "codemirror_mode": {
        "name": "ipython",
        "version": 3
      },
      "file_extension": ".py",
      "mimetype": "text/x-python",
      "name": "python",
      "nbconvert_exporter": "python",
      "pygments_lexer": "ipython3",
      "version": "3.9.13"
    },
    "colab": {
      "provenance": [],
      "include_colab_link": true
    }
  },
  "nbformat": 4,
  "nbformat_minor": 5
}